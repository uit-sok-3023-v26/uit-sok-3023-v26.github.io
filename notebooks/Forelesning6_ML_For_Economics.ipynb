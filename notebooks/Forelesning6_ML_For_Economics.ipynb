{
  "nbformat": 4,
  "nbformat_minor": 0,
  "metadata": {
    "colab": {
      "provenance": [],
      "gpuType": "T4"
    },
    "kernelspec": {
      "name": "python3",
      "display_name": "Python 3"
    },
    "language_info": {
      "name": "python"
    },
    "accelerator": "GPU"
  },
  "cells": [
    {
      "cell_type": "markdown",
      "source": [
        "# **Forelesning 6 - Long Short Term Memory modeller**\n",
        "I denne forelesningen skal vi se nærmere på bruk av LSTM-modeller, og hvordan det kan brukes i f.eks. prediksjon av aksjekursen."
      ],
      "metadata": {
        "id": "lad25Oz2FrnU"
      }
    },
    {
      "cell_type": "markdown",
      "source": [
        "## Machine learning basics for tidsserier\n",
        "\n",
        "* Husk alltid å starte med å **se** på data'en din. Bruker vi pandas er f.eks. denne metoden bra, da det viser de første $5$ radene og alle kolonnene for din dataframe.\n",
        "```\n",
        "df.head()\n",
        "```\n",
        "Alternativt kan man bruke *numpy*\n",
        "```\n",
        "array.shape # for å se formen til array'en din\n",
        "array[:3]   # vise de tre første radene.\n",
        "```\n",
        "\n",
        "### Visualisering\n",
        "Vi er alltid tjent med å vite hvordan tidsserie-data'en vår ser ut - og den beste måten da er ofte å visualisere hva som skjer. F.eks.\n",
        "```\n",
        "# Bruke matplotlib\n",
        "fig, ax = plt.subplots()\n",
        "ax.plot('insert det du skal plotte')\n",
        "\n",
        "# Bruke pandas\n",
        "fix, ax = plt.subplots()\n",
        "df.plot('insert det du skal plotte', ax = ax)\n",
        "```\n",
        "\n",
        "Ved å visualisere data'en vår kan vi finne ut:\n",
        "* Ser data'en vår rimelig ut?\n",
        "* Mangler jeg noe data?\n",
        "... og dette er viktig spørsmål å ha svar på før man i det hele tatt kan starte med analyse."
      ],
      "metadata": {
        "id": "6FJe_FmhWMqb"
      }
    },
    {
      "cell_type": "markdown",
      "source": [
        "## Teori om LSTM\n",
        "Se kompendium."
      ],
      "metadata": {
        "id": "gPg7fWMFF3z5"
      }
    },
    {
      "cell_type": "markdown",
      "source": [
        "# Kode eksempel\n",
        "Her skal vi se på hvordan vi kan predikere NVIDIA aksjekursen, selskapet som er delvis *medskyldig* i at AI har hatt den utviklingen den har hatt.\n",
        "\n",
        "Så vi henter data fra [Yahoo Finance](https://finance.yahoo.com/quote/NVDA/history/), og henter mellom følgende datoer:\n",
        "\n",
        "**Oppdater dato'er nærmere forelesningen**"
      ],
      "metadata": {
        "id": "tAUsxPOTGDFN"
      }
    },
    {
      "cell_type": "markdown",
      "source": [
        "# **1. Laste inn data**\n",
        "Her bruker vi `pandas` til å lese inn en CSV-fil med aksjehistorikk fra **Yahoo Finance**.\n",
        "\n",
        "`df.head()` viser de første 5 radene i datasettet, som viser aksjeprisen for en gitt dag (åpne-pris, høyeste, laveste, lukke-pris, justert sluttkurs og volum)."
      ],
      "metadata": {
        "id": "PANdrIk-z9zI"
      }
    },
    {
      "cell_type": "code",
      "source": [
        "# Starter med å importere to viktig libraries for LSTM\n",
        "import tensorflow as tf\n",
        "import pandas as pd\n",
        "\n",
        "# Leser NVIDIA csv filen, henta fra: https://finance.yahoo.com/quote/NVDA/history/\n",
        "df = pd.read_csv('NVDA.csv')\n",
        "\n",
        "df.head()"
      ],
      "metadata": {
        "id": "T_QfltExFrU_"
      },
      "execution_count": null,
      "outputs": []
    },
    {
      "cell_type": "code",
      "source": [
        "# Så kan vi se på shape til dataframe'n\n",
        "df.shape"
      ],
      "metadata": {
        "id": "K3yFM581WqRv"
      },
      "execution_count": null,
      "outputs": []
    },
    {
      "cell_type": "markdown",
      "source": [
        "# **2. Velge relevante kolonner**\n",
        "Nå trenger vi bare 'Date' og 'Close' kolonnene, siden vi kun ser på prediksjon av prisen når aksjehandelen lukkes for dagen.\n",
        "Da gjør vi det på følgende måte"
      ],
      "metadata": {
        "id": "DLXE8AFtHdz_"
      }
    },
    {
      "cell_type": "code",
      "execution_count": null,
      "metadata": {
        "id": "0SquTJ81Fk0S"
      },
      "outputs": [],
      "source": [
        "df = df[['Date', 'Close']]\n",
        "\n",
        "df"
      ]
    },
    {
      "cell_type": "markdown",
      "source": [
        "# **3. Datatyper i datasettet**\n",
        "Noe vi har sett en del ganger i løpet av kurset nå, er at det er viktig med hvilken *type* data vi operer med. Det er fordi at nettverkene vi lager på *feedes* med data de kan forstå.\n",
        "\n",
        "'Date' kolonner består av datoer, og er noe som kalles **ISO 8601 standard** (ÅÅÅÅ-MM-DD). Men selve data-typen er 'string' som vi ser under:"
      ],
      "metadata": {
        "id": "ORvEoZIMHxWl"
      }
    },
    {
      "cell_type": "code",
      "source": [
        "# Vi sjekker hvilken data-type første element i 'Date' kolonnen er.\n",
        "type(df['Date'][0])"
      ],
      "metadata": {
        "id": "w1KKnITzIPsR"
      },
      "execution_count": null,
      "outputs": []
    },
    {
      "cell_type": "markdown",
      "source": [
        "## La oss gjør om 'Date' kolonnen til datetime."
      ],
      "metadata": {
        "id": "QZzmR5JMQ8Ah"
      }
    },
    {
      "cell_type": "code",
      "source": [
        "import pandas as pd\n",
        "\n",
        "# Gjør om 'Date' kolonne til datetime\n",
        "df['Date'] = pd.to_datetime(df['Date'])\n",
        "df['Date']"
      ],
      "metadata": {
        "id": "cDkwg3WoQ-Al"
      },
      "execution_count": null,
      "outputs": []
    },
    {
      "cell_type": "markdown",
      "source": [
        "___\n",
        "## Alternativ måte å gjøre om 'Date' til datetime"
      ],
      "metadata": {
        "id": "YyrAXLmNRv1S"
      }
    },
    {
      "cell_type": "code",
      "source": [
        "# Date-kolonnen, er av typen 'object' eller 'str', som vi ser over. Så vi må endre dette til 'datetime'.\n",
        "\n",
        "import datetime\n",
        "\n",
        "### Funksjon som endrer et 'Object' med splitten '-' til datetime-variabel.\n",
        "def str_to_datetime(s):\n",
        "  split = s.split('-')\n",
        "  year, month, day = int(split[0]), int(split[1]), int(split[2]) # Splitter på hver int (heltall)\n",
        "  return datetime.datetime(year=year, month=month, day=day)\n",
        "\n",
        "datetime_object = str_to_datetime('1986-03-19')\n",
        "type(datetime_object)"
      ],
      "metadata": {
        "id": "wfK_C9_fHupb"
      },
      "execution_count": null,
      "outputs": []
    },
    {
      "cell_type": "code",
      "source": [
        "### Anvender funksjonen vår str_to_datetime på 'Date' kolonna, altså vi endrer det fra 'Object' til 'datetime64[ns]'\n",
        "\n",
        "df['Date'] = df['Date'].apply(str_to_datetime)\n",
        "df['Date']"
      ],
      "metadata": {
        "id": "ztKv0atisnzB",
        "collapsed": true
      },
      "execution_count": null,
      "outputs": []
    },
    {
      "cell_type": "markdown",
      "source": [
        "___"
      ],
      "metadata": {
        "id": "ZCHn2nMMR-ln"
      }
    },
    {
      "cell_type": "markdown",
      "source": [
        "## **4. Annen prosessering av data**\n",
        "Her trenger vi ikke indeksen i vår `df`, så vi fjerner den."
      ],
      "metadata": {
        "id": "nGtOtDqMSBHm"
      }
    },
    {
      "cell_type": "code",
      "source": [
        "# Kvitter oss med indeksen - fordi vi ikke trenger det her\n",
        "df.index = df.pop('Date')\n",
        "df"
      ],
      "metadata": {
        "id": "p1U9vEfbtq47"
      },
      "execution_count": null,
      "outputs": []
    },
    {
      "cell_type": "markdown",
      "source": [
        "# **5. Visualisering av data**\n",
        "\n",
        "Nå som vi har lagd datasettet slik vi vil ha det, kan vi visulalisere hva som faktisk foregår."
      ],
      "metadata": {
        "id": "L-4V6rO0s_8V"
      }
    },
    {
      "cell_type": "code",
      "source": [
        "import matplotlib.pyplot as plt\n",
        "\n",
        "# Plotting\n",
        "plt.figure(figsize=(10, 6))\n",
        "plt.plot(df.index, df['Close'])\n",
        "\n",
        "# Formaterer x-aksen til å vise datoer og roterer dem\n",
        "plt.gcf().autofmt_xdate()  # Automatisk rotasjon av datoer fordi det ser pent ut:)\n",
        "\n",
        "# Adder labels og title\n",
        "plt.xlabel('Date')\n",
        "plt.ylabel('Dollars $')\n",
        "plt.title('NVIDIA Stock Closing Prices Over Time')\n",
        "\n",
        "# Vis plot\n",
        "plt.show()"
      ],
      "metadata": {
        "id": "0o8XnvCvsrCd"
      },
      "execution_count": null,
      "outputs": []
    },
    {
      "cell_type": "markdown",
      "source": [
        "## Hvordan jobbe med tidsserie data i LSTM\n",
        "Et konsept i LSTM, er at vi har lyst til å kjenne til noen tidligere verdier. Derfor lager vi en dataframe som inneholder verdier for idag ($Y$), igår ($Y-1$), i forigår ($Y-2$) og dagen før det ($Y-3$). Dette kaller vi ofte for *windowed datasets*."
      ],
      "metadata": {
        "id": "FIx9PIOiTeCA"
      }
    },
    {
      "cell_type": "code",
      "source": [
        "import matplotlib.pyplot as plt\n",
        "\n",
        "# Definer tidssteg\n",
        "time_steps = [\"t-3\", \"t-2\", \"t-1\", \"t\"]\n",
        "values = [\"Y_{t-3}\", \"Y_{t-2}\", \"Y_{t-1}\", \"Y_t\"]\n",
        "\n",
        "# Plassering av boksene\n",
        "x_positions = range(len(time_steps))\n",
        "y_position = 0\n",
        "\n",
        "fig, ax = plt.subplots(figsize=(8, 2))\n",
        "\n",
        "# Tegn boksene\n",
        "for x, label in zip(x_positions, values):\n",
        "    color = \"blue\" if \"Y\" in label else \"green\"\n",
        "    ax.text(x, y_position, f\"${label}$\", ha=\"center\", va=\"center\",\n",
        "            bbox=dict(boxstyle=\"round,pad=0.3\", edgecolor=color, facecolor=\"white\"))\n",
        "\n",
        "# Tegn tidslinjen\n",
        "ax.plot(x_positions, [y_position] * len(x_positions), \"k-\", linewidth=1)\n",
        "\n",
        "# Tegn piler mellom boksene\n",
        "for i in range(len(x_positions) - 1):\n",
        "    ax.arrow(x_positions[i] + 0.2, y_position, 0.6, 0,\n",
        "             head_width=0.1, head_length=0.1, fc=\"black\", ec=\"black\")\n",
        "\n",
        "# Fjern akser\n",
        "ax.set_xticks([])\n",
        "ax.set_yticks([])\n",
        "ax.set_frame_on(False)\n",
        "\n",
        "plt.title(\"Illustrasjon av rullerende vindu\")\n",
        "plt.show()"
      ],
      "metadata": {
        "id": "Cxn9E3-VTjoT"
      },
      "execution_count": null,
      "outputs": []
    },
    {
      "cell_type": "markdown",
      "source": [
        "# **6. Lage et `windowed dataset`**\n",
        "\n",
        "- Nå skal vi lage en funksjon som **omgjør tidsserie-data til et format som kan brukes i LSTM**, ved å lage et *vindu* på $n=3$ dager."
      ],
      "metadata": {
        "id": "iFbKoU-e1wLa"
      }
    },
    {
      "cell_type": "code",
      "source": [
        "import numpy as np\n",
        "\n",
        "### Denne koden konverterer en time-series dataframe (df) av aksje-lukkepriser til en ny ###\n",
        "### df hvor hver rad inneholder \"et vindu\" av tidligere verdier (n = 3), altså dag i-1, i-2 ###\n",
        "### og i-3, i tillegg inneholder det target-value (dag i). Kilde: Gregg Hogg (YouTube) ###\n",
        "\n",
        "\n",
        "def df_to_windowed_df(dataframe, first_date_str, last_date_str, n=3):\n",
        "  first_date = str_to_datetime(first_date_str)\n",
        "  last_date  = str_to_datetime(last_date_str)\n",
        "\n",
        "  target_date = first_date\n",
        "\n",
        "  dates = []\n",
        "  X, Y = [], []\n",
        "\n",
        "  last_time = False\n",
        "  while not last_time:\n",
        "    df_subset = dataframe.loc[:target_date].tail(n+1)\n",
        "\n",
        "    if len(df_subset) != n+1:\n",
        "      print(f'Error: Window of size {n} is too large for date {target_date}')\n",
        "      return\n",
        "\n",
        "    values = df_subset['Close'].to_numpy()\n",
        "    x, y = values[:-1], values[-1]\n",
        "\n",
        "    dates.append(target_date)\n",
        "    X.append(x)\n",
        "    Y.append(y)\n",
        "\n",
        "    next_week = dataframe.loc[target_date:target_date+datetime.timedelta(days=7)]\n",
        "    next_datetime_str = str(next_week.head(2).tail(1).index.values[0])\n",
        "    next_date_str = next_datetime_str.split('T')[0]\n",
        "    year_month_day = next_date_str.split('-')\n",
        "    year, month, day = year_month_day\n",
        "    next_date = datetime.datetime(day=int(day), month=int(month), year=int(year))\n",
        "\n",
        "    if last_time:\n",
        "      break\n",
        "\n",
        "    target_date = next_date\n",
        "\n",
        "    if target_date == last_date:\n",
        "      last_time = True\n",
        "\n",
        "  ret_df = pd.DataFrame({})\n",
        "  ret_df['Target Date'] = dates\n",
        "\n",
        "  X = np.array(X)\n",
        "  for i in range(0, n):\n",
        "    X[:, i]\n",
        "    ret_df[f'Target-{n-i}'] = X[:, i]\n",
        "\n",
        "  ret_df['Target'] = Y\n",
        "\n",
        "  return ret_df\n",
        "\n",
        "# Start day second time around: '2021-03-25'\n",
        "windowed_df = df_to_windowed_df(df,\n",
        "                                '2020-09-01',\n",
        "                                '2024-05-28',\n",
        "                                n=3)\n",
        "windowed_df"
      ],
      "metadata": {
        "id": "tfiWDA_NtDy1"
      },
      "execution_count": null,
      "outputs": []
    },
    {
      "cell_type": "markdown",
      "source": [
        "# **7. Konvertere vårt `windowed dataset` til treningsdata**\n",
        "\n",
        "- Nå skal vi konvertere vår `windowed_df` til NumPy arrays som kan brukes i LSTM.\n",
        "- Splittes i **datoer** (`dates`), **features** (`X`) og **targets** (`Y`)."
      ],
      "metadata": {
        "id": "gAoNg_Ac2FAD"
      }
    },
    {
      "cell_type": "code",
      "source": [
        "# Her konverteres winowed_df om til våre features (X) og target (y). Kilde: Gregg Hogg (YouTube)\n",
        "\n",
        "def windowed_df_to_date_X_y(windowed_dataframe):\n",
        "  df_as_np = windowed_dataframe.to_numpy()\n",
        "\n",
        "  dates = df_as_np[:, 0]\n",
        "\n",
        "  middle_matrix = df_as_np[:, 1:-1]\n",
        "  X = middle_matrix.reshape((len(dates), middle_matrix.shape[1], 1))\n",
        "\n",
        "  Y = df_as_np[:, -1]\n",
        "\n",
        "  return dates, X.astype(np.float32), Y.astype(np.float32)\n",
        "\n",
        "dates, X, y = windowed_df_to_date_X_y(windowed_df)\n",
        "\n",
        "dates.shape, X.shape, y.shape"
      ],
      "metadata": {
        "id": "xMRniGootcGP"
      },
      "execution_count": null,
      "outputs": []
    },
    {
      "cell_type": "markdown",
      "source": [
        "# **8. Lag trenings-, validerings- og testdata**"
      ],
      "metadata": {
        "id": "ILYeibYI2h_c"
      }
    },
    {
      "cell_type": "code",
      "source": [
        "q_80 = int(len(dates) * .80)\n",
        "q_90 = int(len(dates) * .90)\n",
        "\n",
        "dates_train, X_train, y_train = dates[:q_80], X[:q_80], y[:q_80]\n",
        "\n",
        "dates_val, X_val, y_val = dates[q_80:q_90], X[q_80:q_90], y[q_80:q_90]\n",
        "dates_test, X_test, y_test = dates[q_90:], X[q_90:], y[q_90:]\n",
        "\n",
        "plt.plot(dates_train, y_train)\n",
        "plt.plot(dates_val, y_val)\n",
        "plt.plot(dates_test, y_test)\n",
        "\n",
        "# Formaterer x-aksen til å vise datoer og roterer dem\n",
        "plt.gcf().autofmt_xdate()  # Automatisk rotasjon av datoer fordi det ser pent ut:)\n",
        "\n",
        "# Adder labels og title\n",
        "plt.xlabel('Date')\n",
        "plt.ylabel('Dollars $')\n",
        "plt.title('NVIDIA Stock Closing Prices Over Time')\n",
        "\n",
        "plt.legend(['Train', 'Validation', 'Test'])\n",
        "\n",
        "# Vis plot\n",
        "plt.show()"
      ],
      "metadata": {
        "id": "Sw4ZRAHwuZ-P"
      },
      "execution_count": null,
      "outputs": []
    },
    {
      "cell_type": "markdown",
      "source": [
        "# **9. Lage og trene vår LSTM-modell**\n",
        "\n",
        "- `Sequential`-modellen bygges steg for steg.\n",
        "- **Input-lag** tar inn `3` verdier per datapunkt.\n",
        "- **LSTM-lager** har `64` celler (recurrent for hukommelse).\n",
        "- **Tre dense-lag** (`32` noder, ReLU som aktivering): lærer mønstrene i dataene.\n",
        "- **Output-laget** (`Dense(1)`): Gir én enkelt prediksjon (altså, sluttkursen)."
      ],
      "metadata": {
        "id": "oQ_yG8zA2nSQ"
      }
    },
    {
      "cell_type": "code",
      "source": [
        "from tensorflow.keras.models import Sequential\n",
        "from tensorflow.keras.optimizers import Adam\n",
        "from tensorflow.keras import layers\n",
        "\n",
        "model = Sequential([layers.Input((3, 1)),\n",
        "                    layers.LSTM(64),\n",
        "                    layers.Dense(32, activation='relu'),\n",
        "                    layers.Dense(32, activation='relu'),\n",
        "                    layers.Dense(32, activation='relu'),\n",
        "                    layers.Dense(1)])\n",
        "\n",
        "model.compile(loss='mse',\n",
        "              optimizer=Adam(learning_rate=0.001),\n",
        "              metrics=['mean_absolute_error'])\n",
        "\n",
        "model.fit(X_train, y_train, validation_data=(X_val, y_val), epochs=500)"
      ],
      "metadata": {
        "id": "_d5lawPbucIx",
        "collapsed": true
      },
      "execution_count": null,
      "outputs": []
    },
    {
      "cell_type": "markdown",
      "source": [
        "# **10. Plotter de ulike prediksjonene mot faktiske data**"
      ],
      "metadata": {
        "id": "xfY9Bj3U3Tfx"
      }
    },
    {
      "cell_type": "code",
      "source": [
        "train_predictions = model.predict(X_train).flatten()\n",
        "\n",
        "plt.plot(dates_train, train_predictions)\n",
        "plt.plot(dates_train, y_train)\n",
        "plt.legend(['Training Predictions', 'Training Observations'])\n",
        "\n",
        "# Formaterer x-aksen til å vise datoer og roterer dem\n",
        "plt.gcf().autofmt_xdate()  # Automatisk rotasjon av datoer fordi det ser pent ut:)\n",
        "\n",
        "# Adder labels og title\n",
        "plt.xlabel('Date')\n",
        "plt.ylabel('Dollars $')\n",
        "plt.title('NVIDIA Stock Closing Prices Over Time')"
      ],
      "metadata": {
        "id": "D6cZd-CmueX3"
      },
      "execution_count": null,
      "outputs": []
    },
    {
      "cell_type": "code",
      "source": [
        "val_predictions = model.predict(X_val).flatten()\n",
        "\n",
        "plt.plot(dates_val, val_predictions)\n",
        "plt.plot(dates_val, y_val)\n",
        "plt.legend(['Validation Predictions', 'Validation Observations'])\n",
        "\n",
        "# Formaterer x-aksen til å vise datoer og roterer dem\n",
        "plt.gcf().autofmt_xdate()  # Automatisk rotasjon av datoer fordi det ser pent ut:)\n",
        "\n",
        "\n",
        "# Adder labels og title\n",
        "plt.xlabel('Date')\n",
        "plt.ylabel('Dollars $')\n",
        "plt.title('NVIDIA Stock Closing Prices Over Time')"
      ],
      "metadata": {
        "id": "pSMjJEqzuiUQ"
      },
      "execution_count": null,
      "outputs": []
    },
    {
      "cell_type": "code",
      "source": [
        "test_predictions = model.predict(X_test).flatten()\n",
        "\n",
        "plt.plot(dates_test, test_predictions)\n",
        "plt.plot(dates_test, y_test)\n",
        "plt.legend(['Testing Predictions', 'Testing Observations'])\n",
        "\n",
        "# Formaterer x-aksen til å vise datoer og roterer dem\n",
        "plt.gcf().autofmt_xdate()  # Automatisk rotasjon av datoer fordi det ser pent ut:)\n",
        "\n",
        "# Adder labels og title\n",
        "plt.xlabel('Date')\n",
        "plt.ylabel('Dollars $')\n",
        "plt.title('NVIDIA Stock Closing Prices Over Time')\n",
        "\n",
        "# Vis plot\n",
        "plt.show()"
      ],
      "metadata": {
        "id": "z3S1sXwFuj1j"
      },
      "execution_count": null,
      "outputs": []
    },
    {
      "cell_type": "code",
      "source": [
        "plt.plot(dates_train, train_predictions)\n",
        "plt.plot(dates_train, y_train)\n",
        "plt.plot(dates_val, val_predictions)\n",
        "plt.plot(dates_val, y_val)\n",
        "plt.plot(dates_test, test_predictions)\n",
        "plt.plot(dates_test, y_test)\n",
        "plt.legend(['Training Predictions',\n",
        "            'Training Observations',\n",
        "            'Validation Predictions',\n",
        "            'Validation Observations',\n",
        "            'Testing Predictions',\n",
        "            'Testing Observations'])\n",
        "\n",
        "# Formaterer x-aksen til å vise datoer og roterer dem\n",
        "plt.gcf().autofmt_xdate()  # Automatisk rotasjon av datoer fordi det ser pent ut:)\n",
        "\n",
        "# Adder labels og title\n",
        "plt.xlabel('Date')\n",
        "plt.ylabel('Dollars $')\n",
        "plt.title('NVIDIA Stock Closing Prices Over Time')"
      ],
      "metadata": {
        "id": "-NfV8GcPulVo"
      },
      "execution_count": null,
      "outputs": []
    },
    {
      "cell_type": "code",
      "source": [
        "y_test, test_predictions"
      ],
      "metadata": {
        "id": "glBvBX3BupAs"
      },
      "execution_count": null,
      "outputs": []
    },
    {
      "cell_type": "markdown",
      "source": [
        "___\n",
        "# **Et annet eksempel fra Dehli**\n",
        "La oss se på et eksempel-datasett som inneholder daglig værinformasjon fra Dehli."
      ],
      "metadata": {
        "id": "JMK67a6EioGI"
      }
    },
    {
      "cell_type": "markdown",
      "source": [
        "Her skal jeg prøve å lage en LSTM modell av regndata fra klimadata fra Delhi fra 2013 til 2017."
      ],
      "metadata": {
        "id": "z8d3gwL_X9Oh"
      }
    },
    {
      "cell_type": "code",
      "source": [
        "import tensorflow as tf\n",
        "import pandas as pd\n",
        "\n",
        "# Leser filene, hentet fra: https://www.kaggle.com/datasets/sumanthvrao/daily-climate-time-series-data/data\n",
        "df_train = pd.read_csv('DailyDelhiClimateTrain.csv')\n",
        "df_test = pd.read_csv('DailyDelhiClimateTest.csv')\n",
        "\n",
        "# Konverter 'date' til datetime-format\n",
        "df_train['date'] = pd.to_datetime(df_train['date'])\n",
        "df_test['date'] = pd.to_datetime(df_test['date'])\n",
        "\n",
        "# Etter mye pain fant jeg min bug:)\n",
        "df_test = df_test[df_test['date'] != '2017-01-01']\n",
        "\n",
        "# Slå sammen datasettene\n",
        "df_dehli = pd.concat([df_train, df_test], axis=0)\n",
        "\n",
        "# Sorter etter dato for å sikre riktig tidsrekkefølge\n",
        "df_dehli = df_dehli.sort_values(by='date').reset_index(drop=True)\n",
        "\n",
        "# Sjekk resultatet\n",
        "print(df_dehli.head())\n",
        "print(df_dehli.tail())"
      ],
      "metadata": {
        "id": "aHpap59mYGwO"
      },
      "execution_count": null,
      "outputs": []
    },
    {
      "cell_type": "code",
      "source": [
        "df_train.shape"
      ],
      "metadata": {
        "id": "XvHO0FT-Ybs8"
      },
      "execution_count": null,
      "outputs": []
    },
    {
      "cell_type": "code",
      "source": [
        "df_test.shape"
      ],
      "metadata": {
        "id": "xUKMi9VDZuyc"
      },
      "execution_count": null,
      "outputs": []
    },
    {
      "cell_type": "code",
      "source": [
        "df_dehli.shape"
      ],
      "metadata": {
        "id": "-WnD7PKE4Cn5"
      },
      "execution_count": null,
      "outputs": []
    },
    {
      "cell_type": "markdown",
      "source": [
        "## Hvilke datatyper har vi?"
      ],
      "metadata": {
        "id": "9mxfTIY2ZXBL"
      }
    },
    {
      "cell_type": "code",
      "source": [
        "df_dehli.info()"
      ],
      "metadata": {
        "id": "pBNru4f8ZWXx"
      },
      "execution_count": null,
      "outputs": []
    },
    {
      "cell_type": "code",
      "source": [
        "import matplotlib.pyplot as plt\n",
        "# Plotting\n",
        "plt.figure(figsize=(10, 6))\n",
        "\n",
        "# Plotter hver variabel\n",
        "plt.plot(df_dehli['date'], df_dehli['meantemp'], label='Mean Temp', marker='o')\n",
        "plt.plot(df_dehli['date'], df_dehli['humidity'], label='Humidity', marker='o')\n",
        "plt.plot(df_dehli['date'], df_dehli['wind_speed'], label='Wind Speed', marker='o')\n",
        "#plt.plot(df_train['date'], df_train['meanpressure'], label='Mean Pressure', marker='o')\n",
        "\n",
        "# Set labels and title\n",
        "plt.xlabel('Date')\n",
        "plt.ylabel('Values')\n",
        "plt.title('Weather Data Over Time')\n",
        "\n",
        "# Rotate date labels for better readability\n",
        "plt.xticks(rotation=45)\n",
        "\n",
        "# Show legend\n",
        "plt.legend()\n",
        "\n",
        "# Display the plot\n",
        "plt.tight_layout()\n",
        "plt.show()"
      ],
      "metadata": {
        "id": "vaDrE9xQYm1v"
      },
      "execution_count": null,
      "outputs": []
    },
    {
      "cell_type": "code",
      "source": [
        "df_dehli"
      ],
      "metadata": {
        "id": "zmb66PLHbMXi"
      },
      "execution_count": null,
      "outputs": []
    },
    {
      "cell_type": "code",
      "source": [
        "df_dehli = df_dehli[['date', 'meantemp']]"
      ],
      "metadata": {
        "id": "Xv7hmR09aeE1"
      },
      "execution_count": null,
      "outputs": []
    },
    {
      "cell_type": "code",
      "source": [
        "df_dehli"
      ],
      "metadata": {
        "id": "b6IPWcYTcIWL"
      },
      "execution_count": null,
      "outputs": []
    },
    {
      "cell_type": "code",
      "source": [
        "# Kvitter oss med indeksen - fordi vi ikke trenger det her\n",
        "df_dehli.index = df_dehli.pop('date')\n",
        "df_dehli"
      ],
      "metadata": {
        "id": "QfBXQAHFY32h"
      },
      "execution_count": null,
      "outputs": []
    },
    {
      "cell_type": "code",
      "source": [
        "import numpy as np\n",
        "\n",
        "### Denne koden konverterer en time-series dataframe (df) av aksje-lukkepriser til en ny ###\n",
        "### df hvor hver rad inneholder \"et vindu\" av tidligere verdier (n = 3), altså dag i-1, i-2 ###\n",
        "### og i-3, i tillegg inneholder det target-value (dag i). ###\n",
        "\n",
        "\n",
        "def df_to_windowed_df(dataframe, first_date_str, last_date_str, n=3):\n",
        "  first_date = str_to_datetime(first_date_str)\n",
        "  last_date  = str_to_datetime(last_date_str)\n",
        "\n",
        "  target_date = first_date\n",
        "\n",
        "  dates = []\n",
        "  X, Y = [], []\n",
        "\n",
        "  last_time = False\n",
        "  while not last_time:\n",
        "    df_subset = dataframe.loc[:target_date].tail(n+1)\n",
        "\n",
        "    if len(df_subset) != n+1:\n",
        "      print(f'Error: Window of size {n} is too large for date {target_date}')\n",
        "      return\n",
        "\n",
        "    values = df_subset['meantemp'].to_numpy()\n",
        "    x, y = values[:-1], values[-1]\n",
        "\n",
        "    dates.append(target_date)\n",
        "    X.append(x)\n",
        "    Y.append(y)\n",
        "\n",
        "    next_week = dataframe.loc[target_date:target_date+datetime.timedelta(days=7)]\n",
        "    next_datetime_str = str(next_week.head(2).tail(1).index.values[0])\n",
        "    next_date_str = next_datetime_str.split('T')[0]\n",
        "    year_month_day = next_date_str.split('-')\n",
        "    year, month, day = year_month_day\n",
        "    next_date = datetime.datetime(day=int(day), month=int(month), year=int(year))\n",
        "\n",
        "    if last_time:\n",
        "      break\n",
        "\n",
        "    target_date = next_date\n",
        "\n",
        "    if target_date == last_date:\n",
        "      last_time = True\n",
        "\n",
        "  ret_df = pd.DataFrame({})\n",
        "  ret_df['Target Date'] = dates\n",
        "\n",
        "  X = np.array(X)\n",
        "  for i in range(0, n):\n",
        "    X[:, i]\n",
        "    ret_df[f'Target-{n-i}'] = X[:, i]\n",
        "\n",
        "  ret_df['Target'] = Y\n",
        "\n",
        "  return ret_df\n",
        "\n",
        "# Her må man begynne litt inn i datasettet mtp vindustørrelser\n",
        "windowed_df = df_to_windowed_df(df_dehli,\n",
        "                                '2013-01-04',\n",
        "                                '2017-04-24',\n",
        "                                n=3)\n",
        "windowed_df"
      ],
      "metadata": {
        "id": "bZNEwlmma6EV"
      },
      "execution_count": null,
      "outputs": []
    },
    {
      "cell_type": "code",
      "source": [
        "# Plotting\n",
        "plt.figure(figsize=(12, 6))\n",
        "\n",
        "# Plot kolonnene 'Target-3', 'Target-2', 'Target-1', og 'Target'\n",
        "plt.plot(windowed_df['Target Date'], windowed_df['Target-3'], label='Target-3', marker='o')\n",
        "plt.plot(windowed_df['Target Date'], windowed_df['Target-2'], label='Target-2', marker='o')\n",
        "plt.plot(windowed_df['Target Date'], windowed_df['Target-1'], label='Target-1', marker='o')\n",
        "plt.plot(windowed_df['Target Date'], windowed_df['Target'], label='Target', marker='o')\n",
        "\n",
        "# Setter på labels og titler\n",
        "plt.xlabel('Target Date')\n",
        "plt.ylabel('Values')\n",
        "plt.title('Target Values Over Time')\n",
        "\n",
        "plt.xticks(rotation=45)\n",
        "\n",
        "plt.legend()\n",
        "\n",
        "plt.tight_layout()\n",
        "plt.show()"
      ],
      "metadata": {
        "id": "6DW94p5Scgyb"
      },
      "execution_count": null,
      "outputs": []
    },
    {
      "cell_type": "code",
      "source": [
        "def windowed_df_to_date_X_y(windowed_dataframe):\n",
        "  df_as_np = windowed_dataframe.to_numpy()\n",
        "\n",
        "  dates = df_as_np[:, 0]\n",
        "\n",
        "  middle_matrix = df_as_np[:, 1:-1]\n",
        "  X = middle_matrix.reshape((len(dates), middle_matrix.shape[1], 1))\n",
        "\n",
        "  Y = df_as_np[:, -1]\n",
        "\n",
        "  return dates, X.astype(np.float32), Y.astype(np.float32)\n",
        "\n",
        "dates, X, y = windowed_df_to_date_X_y(windowed_df)\n",
        "\n",
        "dates.shape, X.shape, y.shape"
      ],
      "metadata": {
        "id": "jBqL7UHOcyAg"
      },
      "execution_count": null,
      "outputs": []
    },
    {
      "cell_type": "code",
      "source": [
        "q_80 = int(len(dates) * .8)\n",
        "q_90 = int(len(dates) * .9)\n",
        "\n",
        "dates_train, X_train, y_train = dates[:q_80], X[:q_80], y[:q_80]\n",
        "\n",
        "dates_val, X_val, y_val = dates[q_80:q_90], X[q_80:q_90], y[q_80:q_90]\n",
        "dates_test, X_test, y_test = dates[q_90:], X[q_90:], y[q_90:]\n",
        "\n",
        "plt.plot(dates_train, y_train)\n",
        "plt.plot(dates_val, y_val)\n",
        "plt.plot(dates_test, y_test)\n",
        "\n",
        "# Formaterer x-aksen til å vise datoer og roterer dem\n",
        "plt.gcf().autofmt_xdate()  # Automatisk rotasjon av datoer fordi det ser pent ut:)\n",
        "\n",
        "# Adder labels og title\n",
        "plt.xlabel('Date')\n",
        "plt.ylabel('Mean temp.')\n",
        "plt.title('Mean temperature over time')\n",
        "\n",
        "plt.legend(['Train', 'Validation', 'Test'])\n",
        "\n",
        "# Vis plot\n",
        "plt.show()"
      ],
      "metadata": {
        "id": "7Qc9q72rdOKs"
      },
      "execution_count": null,
      "outputs": []
    },
    {
      "cell_type": "code",
      "source": [
        "X_train"
      ],
      "metadata": {
        "id": "WTmVjTmA-UU5"
      },
      "execution_count": null,
      "outputs": []
    },
    {
      "cell_type": "code",
      "source": [
        "y_train"
      ],
      "metadata": {
        "id": "gi_wlCdz-XUV"
      },
      "execution_count": null,
      "outputs": []
    },
    {
      "cell_type": "code",
      "source": [
        "len(X_train)"
      ],
      "metadata": {
        "id": "upNKoJ5y-dHu"
      },
      "execution_count": null,
      "outputs": []
    },
    {
      "cell_type": "code",
      "source": [
        "y_train[0]"
      ],
      "metadata": {
        "id": "p-Be9GxI-flD"
      },
      "execution_count": null,
      "outputs": []
    },
    {
      "cell_type": "code",
      "source": [
        "from tensorflow.keras.models import Sequential\n",
        "from tensorflow.keras.optimizers import Adam\n",
        "from tensorflow.keras import layers\n",
        "from tensorflow.keras.callbacks import EarlyStopping\n",
        "\n",
        "# Definerer Early Stopping kriterier\n",
        "early_stopping = EarlyStopping(monitor='val_loss', patience=3, restore_best_weights=True)\n",
        "\n",
        "model = Sequential([layers.Input((3, 1)),\n",
        "                    layers.LSTM(64),\n",
        "                    layers.Dense(32, activation='relu'),\n",
        "                    layers.Dense(32, activation='relu'),\n",
        "                    layers.Dense(32, activation='relu'),\n",
        "                    layers.Dense(1)])\n",
        "\n",
        "model.compile(loss='mse',\n",
        "              optimizer='adam',\n",
        "              metrics=['mean_absolute_error'])\n",
        "\n",
        "model.fit(X_train, y_train,\n",
        "          validation_data=(X_val, y_val),\n",
        "          epochs=500, callbacks=[early_stopping])"
      ],
      "metadata": {
        "id": "Z3SIHElcdTZn"
      },
      "execution_count": null,
      "outputs": []
    },
    {
      "cell_type": "code",
      "source": [
        "train_predictions = model.predict(X_train).flatten()\n",
        "\n",
        "plt.plot(dates_train, train_predictions)\n",
        "plt.plot(dates_train, y_train)\n",
        "plt.legend(['Training Predictions', 'Training Observations'])\n",
        "\n",
        "# Formaterer x-aksen til å vise datoer og roterer dem\n",
        "plt.gcf().autofmt_xdate()  # Automatisk rotasjon av datoer fordi det ser pent ut:)\n",
        "\n",
        "# Adder labels og title\n",
        "plt.xlabel('Date')\n",
        "plt.ylabel('Mean temperature')\n",
        "plt.title('Dehli temperature prediction over time')"
      ],
      "metadata": {
        "id": "oXiToTnsdfRu"
      },
      "execution_count": null,
      "outputs": []
    },
    {
      "cell_type": "code",
      "source": [
        "val_predictions = model.predict(X_val).flatten()\n",
        "\n",
        "plt.plot(dates_val, val_predictions)\n",
        "plt.plot(dates_val, y_val)\n",
        "plt.legend(['Validation Predictions', 'Validation Observations'])\n",
        "\n",
        "# Formaterer x-aksen til å vise datoer og roterer dem\n",
        "plt.gcf().autofmt_xdate()  # Automatisk rotasjon av datoer fordi det ser pent ut:)\n",
        "\n",
        "\n",
        "# Adder labels og title\n",
        "plt.xlabel('Date')\n",
        "plt.ylabel('Mean temperature')\n",
        "plt.title('Dehli temperature prediction over time')"
      ],
      "metadata": {
        "id": "1TolP5FldtqI"
      },
      "execution_count": null,
      "outputs": []
    },
    {
      "cell_type": "code",
      "source": [
        "test_predictions = model.predict(X_test).flatten()\n",
        "\n",
        "plt.plot(dates_test, test_predictions)\n",
        "plt.plot(dates_test, y_test)\n",
        "plt.legend(['Testing Predictions', 'Testing Observations'])\n",
        "\n",
        "# Formaterer x-aksen til å vise datoer og roterer dem\n",
        "plt.gcf().autofmt_xdate()  # Automatisk rotasjon av datoer fordi det ser pent ut:)\n",
        "\n",
        "# Adder labels og title\n",
        "plt.xlabel('Date')\n",
        "plt.ylabel('Mean temperature')\n",
        "plt.title('Dehli temperature prediction over time')\n",
        "\n",
        "# Vis plot\n",
        "plt.show()"
      ],
      "metadata": {
        "id": "MmuPtnXOdwQV"
      },
      "execution_count": null,
      "outputs": []
    },
    {
      "cell_type": "code",
      "source": [
        "plt.plot(dates_train, train_predictions)\n",
        "plt.plot(dates_train, y_train)\n",
        "plt.plot(dates_val, val_predictions)\n",
        "plt.plot(dates_val, y_val)\n",
        "plt.plot(dates_test, test_predictions)\n",
        "plt.plot(dates_test, y_test)\n",
        "plt.legend(['Training Predictions',\n",
        "            'Training Observations',\n",
        "            'Validation Predictions',\n",
        "            'Validation Observations',\n",
        "            'Testing Predictions',\n",
        "            'Testing Observations'])\n",
        "\n",
        "# Formaterer x-aksen til å vise datoer og roterer dem\n",
        "plt.gcf().autofmt_xdate()  # Automatisk rotasjon av datoer fordi det ser pent ut:)\n",
        "\n",
        "# Adder labels og title\n",
        "plt.xlabel('Date')\n",
        "plt.ylabel('Mean temperature')\n",
        "plt.title('Dehli temperature prediction over time')"
      ],
      "metadata": {
        "id": "y8mdz09jdz_X"
      },
      "execution_count": null,
      "outputs": []
    },
    {
      "cell_type": "code",
      "source": [
        "from sklearn.metrics import mean_squared_error, mean_absolute_error, r2_score\n",
        "\n",
        "# Mean Absolute Error (MAE)\n",
        "mae = mean_absolute_error(y_test, test_predictions)\n",
        "\n",
        "# Mean Squared Error (MSE)\n",
        "mse = mean_squared_error(y_test, test_predictions)\n",
        "\n",
        "# Root Mean Squared Error (RMSE)\n",
        "rmse = np.sqrt(mse)\n",
        "\n",
        "# R-squared (R²)\n",
        "r2 = r2_score(y_test, test_predictions)\n",
        "\n",
        "# Outputs\n",
        "print(f\"Mean Absolute Error (MAE): {mae:.4f}\")\n",
        "print(f\"Mean Squared Error (MSE): {mse:.4f}\")\n",
        "print(f\"Root Mean Squared Error (RMSE): {rmse:.4f}\")\n",
        "print(f\"R-squared (R²): {r2:.4f}\")"
      ],
      "metadata": {
        "id": "e8GMcL0ciF19"
      },
      "execution_count": null,
      "outputs": []
    },
    {
      "cell_type": "code",
      "source": [],
      "metadata": {
        "id": "t22Rkb4kqP5U"
      },
      "execution_count": null,
      "outputs": []
    }
  ]
}