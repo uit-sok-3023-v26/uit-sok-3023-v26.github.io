{
  "nbformat": 4,
  "nbformat_minor": 0,
  "metadata": {
    "colab": {
      "provenance": [],
      "gpuType": "T4"
    },
    "kernelspec": {
      "name": "python3",
      "display_name": "Python 3"
    },
    "language_info": {
      "name": "python"
    },
    "accelerator": "GPU"
  },
  "cells": [
    {
      "cell_type": "markdown",
      "source": [
        "# **Forelesning 3 - Matematikk, statistikk og bakgrunn for maskinlæring**"
      ],
      "metadata": {
        "id": "X-shNHCnM_rU"
      }
    },
    {
      "cell_type": "markdown",
      "source": [
        "## Hvorfor?\n",
        "For å forstå mange av de operasjonene vi skal gjøre trenger vi noe fundamental matematikk i bunn. Dette kommer vi bare til å skrape overflaten til, men likevel gi en introduksjon og intuisjon til hvorfor vi kan gjøre det vi kommer til å gjøre."
      ],
      "metadata": {
        "id": "8lhUYmKlNECt"
      }
    },
    {
      "cell_type": "markdown",
      "source": [
        "## **Fra sist gang**\n",
        "Sist forelesning hadde vi om **TensorFlow**, og gikk videre til å diskutere arkitekturen i nevrale nettverk, dens komponenter og egenskaper. Vi diskuterte ulike loss-funksjoner, aktiveringsfunksjoner og gikk igjennom MNIST-datasett eksempel på bildeklassifisering.\n",
        "\n",
        "Vi nevnte, at mye av maskinlæring handler egentlig om å minimere en *loss-funksjon*, noe som er sant - men i denne forelesningen skal vi se på *hvordan* vi minimerer disse loss-funksjonene.\n",
        "\n",
        "Med andre ord, vi skal fokusere på hvordan nettverk *lærer* i maskinlæring, og da skal vi gå inn på hva optimiseringsalgoritmene som **SDG** og **Adam** gjør!"
      ],
      "metadata": {
        "id": "N8ihyAmMNEsh"
      }
    },
    {
      "cell_type": "markdown",
      "source": [
        "Sist gang så vi på matematisk notasjon av vekter, bias, nevron, aktiveringsfunksjon - og hvordan vi skriver når vi går fra ett lag til et annet.\n",
        "\n",
        "$$a_{0}^{(1)}\n",
        "= \\sigma \\left(w_{0,0} a_{0}^{(0)} + w_{0,1} a_{1}^{(0)} + \\cdots + w_{0,n} a_{n}^{(0)} + b_{0} \\right)$$\n",
        "- $a_0^{(1)}$ - betyr første nevron i det første hidden-layer.\n",
        "- $a_0^{(0)}$ - betyr første nevron i input laget.\n",
        "- vektene er fra **alle** nevronene i input laget til første hidden layer, med en bias.\n",
        "\n",
        "og at **hele nettverket** egentlig kan sees på som en funksjon:\n",
        "$$f(a_0, a_1, \\cdots, a_{783}) = \\mathbf{y} = \\begin{pmatrix}\n",
        "y_0 \\\\\n",
        "y_1 \\\\\n",
        "\\vdots \\\\\n",
        "y_9\n",
        "\\end{pmatrix}$$\n",
        "hvor målet er å finne *riktig* verdi av disse *vektene* og *biasene* slik at funksjonen \"oppfører\" seg slik vi ønsker.\n",
        "\n",
        "![https://3b1b-posts.us-east-1.linodeobjects.com/content/lessons/2017/neural-networks/neural-network-function.png](https://3b1b-posts.us-east-1.linodeobjects.com/content/lessons/2017/neural-networks/neural-network-function.png)\n",
        "Bilde: https://www.3blue1brown.com/lessons/gradient-descent\n",
        "\n",
        "## Så hvordan *lærer* nettverket???\n",
        "Et nevralt nettverk må ha et *starting point*, og intieres med å tilfeldig velge vekter og bias'er. Noe som (selvsagt) fører til dårlige prediksjoner og merkelig oppførsel. For å fikse på denne oppførselen må vi innføre en *straff*, og det gjør vi gjennom en **kost-funksjon**!"
      ],
      "metadata": {
        "id": "jmWWKLoSGrE4"
      }
    },
    {
      "cell_type": "markdown",
      "source": [
        "## Kost funksjon\n",
        "Fra sist gang, så diskuterte vi loss-funksjon. F.eks. har vi diskutert\n",
        "$$MSE = \\frac{1}{n} \\Sigma_{i=1}^n (\\hat{y}_i - y_i)^2$$\n",
        "og denne brukes for å evaluere hvor godt modellen vår gjør det, altså hvor bra den er. Ved tilfeldig gjetning, så vil vi da få en høy MSE - og vi ønsker å minimere denne. Det gjøres gjennom **optimaliseringsalgoritmer**, som vi skal se på nå."
      ],
      "metadata": {
        "id": "SsLDmR6LKTcl"
      }
    },
    {
      "cell_type": "markdown",
      "source": [
        "<div align=\"center\">\n",
        "  <img src=\"https://3b1b-posts.us-east-1.linodeobjects.com/content/lessons/2017/gradient-descent/recap-propagation.png\" alt=\"Recap Propagation\" width=\"45%\" />\n",
        "  <img src=\"https://3b1b-posts.us-east-1.linodeobjects.com/content/lessons/2017/gradient-descent/cost-calculation.png\" alt=\"Cost Calculation\" width=\"45%\" />\n",
        "</div>\n",
        "\n",
        "**Bilde: [3Blue1Brown](https://www.3blue1brown.com/lessons/gradient-descent)**"
      ],
      "metadata": {
        "id": "UpBEyxIaMh7a"
      }
    },
    {
      "cell_type": "markdown",
      "source": [
        "## **Først litt matematikk - Derivasjon og gradienter**\n",
        "Kalkulus, er en annen grunnstein av maskinlæring, og som dere kjenner til gjennom økonometri. Økonomer trenger differentiell kalkulus for å estimere modeller, finne optimum og løse modeller som baserer seg på differential-likninger (for å nevne noen). I maskinlæring, det vi bruker mest tid på i kurset, brukes kalkulus for å trene modellene i f.eks. nevrale nettverk.\n",
        "\n",
        "Derivasjon handler om hvor mye en variabel, kall denne $Y$, endres i respons til en endring i en annen variabel, $X$. Hvis forholdet mellom $X$ og $Y$ er lineært, er den deriverte av $Y$ med hensyn til $X$ en rett linje. Det betyr at den deriverte til\n",
        "$$Y = f(X)$$\n",
        "kan regnes ut den deriverte med hensyn på $X$ på følgende vis\n",
        "$$f'(X) = \\frac{d}{dX}f(X)=\\frac{ΔY}{ΔX}$$\n"
      ],
      "metadata": {
        "id": "cUOG9led-RmM"
      }
    },
    {
      "cell_type": "code",
      "source": [
        "import numpy as np\n",
        "import matplotlib.pyplot as plt\n",
        "\n",
        "# Lineær funksjon y = 2x + 1\n",
        "def f(x):\n",
        "    return 2*x + 1\n",
        "\n",
        "# Punkt for sekant-linja\n",
        "x1 = 1\n",
        "x2 = 4\n",
        "\n",
        "# Regn ut y-verdier for x1, x2\n",
        "y1 = f(x1)\n",
        "y2 = f(x2)\n",
        "\n",
        "# Regn ut stigningstallet (delta Y / delta X)\n",
        "delta_x = x2 - x1\n",
        "delta_y = y2 - y1\n",
        "slope = delta_y / delta_x\n",
        "\n",
        "# Plotter funksjonen fra 0<x<5, og tilhørende f(x) verdier\n",
        "x = np.linspace(0, 5, 100)\n",
        "y = f(x)\n",
        "\n",
        "plt.figure(figsize=(8, 6))\n",
        "plt.plot(x, y, label='$y = 2x + 1$', color='r')\n",
        "\n",
        "# Plotter sekant linja\n",
        "plt.plot([x1, x2], [y1, y2], 'ro-', label='$\\Delta Y / \\Delta X$', color='orange')\n",
        "plt.text((x1 + x2) / 2, (y1 + y2) / 2, f'Slope = {slope:.2f}', fontsize=12, ha='center')\n",
        "\n",
        "# Markerer punktene x1 og x2 på kurven\n",
        "plt.scatter([x1, x2], [y1, y2], color='red')\n",
        "plt.text(x1, y1, f'($x_1$, $y_1$)\\n({x1}, {y1})', fontsize=12, ha='right')\n",
        "plt.text(x2, y2, f'($x_2$, $y_2$)\\n({x2}, {y2})', fontsize=12, ha='left')\n",
        "\n",
        "# Legger til dotted lines\n",
        "plt.plot([x2, x2], [0, y2], 'k--', linewidth=1)  # Vertikal dotted line fra x2 til y2\n",
        "plt.plot([0, x2], [y1, y1], 'k--', linewidth=1)  # Horisontal dotted line fra y1 til x1\n",
        "\n",
        "# Legger til labels og title\n",
        "plt.xlabel('x')\n",
        "plt.ylabel('y')\n",
        "plt.title('Visualization of $\\Delta Y / \\Delta X$ for a Linear Function')\n",
        "plt.axhline(0, color='black', linewidth=0.5)\n",
        "plt.axvline(0, color='black', linewidth=0.5)\n",
        "plt.grid(True)\n",
        "plt.legend()\n",
        "\n",
        "# Viser selve plottet\n",
        "plt.show()"
      ],
      "metadata": {
        "id": "ke4Ohd2MQCKP",
        "colab": {
          "base_uri": "https://localhost:8080/",
          "height": 620
        },
        "outputId": "1781341e-4f71-4892-a03c-a3a1e4f8645f"
      },
      "execution_count": 1,
      "outputs": [
        {
          "output_type": "stream",
          "name": "stderr",
          "text": [
            "<ipython-input-1-3f3fca43fb19>:29: UserWarning: color is redundantly defined by the 'color' keyword argument and the fmt string \"ro-\" (-> color='r'). The keyword argument will take precedence.\n",
            "  plt.plot([x1, x2], [y1, y2], 'ro-', label='$\\Delta Y / \\Delta X$', color='orange')\n"
          ]
        },
        {
          "output_type": "display_data",
          "data": {
            "text/plain": [
              "<Figure size 800x600 with 1 Axes>"
            ],
            "image/png": "[encoded data removed]"
          },
          "metadata": {}
        }
      ]
    },
    {
      "cell_type": "markdown",
      "source": [
        "dog så vil vi ofte i matematikken, statistikken og økonomien støte på *ikke-lineære* funksjoner og da trenger vi en annen definsjon av den deriverte, nemlig\n",
        "$$f'(x) = \\lim_{h \\to 0} \\frac{f(x+h) - f(x)}{h}\n",
        "$$\n",
        "\n",
        "\n",
        "### Lokale minimum og maksimum\n",
        "Vi kan finne ekstremalpunkter av en funksjon $f(x)$ ved å\n",
        "$$\\frac{df}{dx}(x)=0$$\n",
        "\n",
        "Så når vi snakker om **kost funksjon**, la oss notere den som $C(w)$. Da kan vi regne ut\n",
        "$$\\frac{dC}{dw}(w)=0$$\n",
        "men det lar seg ikke alltid gjøre, særlig ikke for svært kompliserte funksjoner."
      ],
      "metadata": {
        "id": "U57Mn1ZsOuDb"
      }
    },
    {
      "cell_type": "markdown",
      "source": [
        "<div align=\"center\">\n",
        "  <img src=\"https://3b1b-posts.us-east-1.linodeobjects.com/content/lessons/2017/gradient-descent/infeasible-minimum.png\" alt=\"Infeasible Minimum\" width=\"45%\" />\n",
        "  <img src=\"https://3b1b-posts.us-east-1.linodeobjects.com/content/lessons/2017/gradient-descent/follow-slope.png\" alt=\"Follow the Slope\" width=\"45%\" />\n",
        "</div>\n",
        "\n",
        "**Bilde: [3Blue1Brown](https://www.3blue1brown.com/lessons/gradient-descent)**\n"
      ],
      "metadata": {
        "id": "sFwO8gHbSuiw"
      }
    },
    {
      "cell_type": "markdown",
      "source": [
        "# **Gradient decent**\n",
        "Hvis vi se på en litt mer komplisert funksjon i tre dimensjoner ($x$, $y$ og $z$), da kan vi skrive kost-funksjonen som\n",
        "$$C(x, y)$$\n",
        "\n",
        "Da ønsker vi å finne retningen for denne funksjonen minker fortest. Fra flervariabel kalkulus, kan vi finne *gradienten* en funksjon, skrevet som $∇C(x, y)$.\n",
        "\n",
        "Vi skal ikke gå i superdetalj i hva gradienten er, men litt utdypet skrives det slik:\n",
        "$$\\nabla C(x, y)=\\left(\\frac{\\partial C}{\\partial x}, \\frac{\\partial C}{\\partial y}\\right)$$\n",
        "\n",
        "Når denne funksjonen gir oss en *vektor* med retning hvor det er **brattest stigning**, så kan vi \"bare\" gå i **motsatt retning**! Ettersom vi ønsker å gå i retningen funksjonen minker mest!\n",
        "\n",
        "### Gradient decent gjør altså:\n",
        "1. *Gradient decent* er en teknikk for å minimere en loss/kost-funksjon $C$ som iterativt oppdaterer $\\vec{\\mathbf{W}}$ (en vektor av alle vekter/bias'ene).\n",
        "2. Regner ut $-\\nabla C\\left(\\vec{\\mathbf{W}} \\right)$, og oppdaterer $\\vec{\\mathbf{W}}$.\n",
        "Kan skrives:\n",
        "$$\\vec{\\mathbf{W}} := \\vec{\\mathbf{W}} - \\eta \\cdot \\nabla C\\left(\\vec{\\mathbf{W}}\\right)$$\n",
        "hvor $\\eta$ er *læringsraten* (eng: learning rate - og kan spesifiseres i koden), og kan sees på som å ta en lite steg i retningen hvor det minker mest.\n",
        "3. Gjenta steg 2 flere ganger (til konvergens eller gitt antall steg)\n",
        "\n",
        "(Learning rate - kan hindre *overshooting*, men også senke konvergens.)\n",
        "\n",
        "[Se denne om du vil vite mer om gradienter!](https://www.youtube.com/watch?v=IHZwWFHWa-w&list=PLZHQObOWTQDNU6R1_67000Dx_ZCJB-3pi&index=2)\n",
        "\n",
        "Vi nevnte innledningsvis at vi skal diskutere optimaliseringsalgoritmer, som **SDG** (Stochastic Gradient Decent) og det er \"bare\" et spesialtilfelle av **gradient decent** (som forklart over).\n",
        "\n",
        "Stochastic Gradient Descent (SGD) er en spesialtilfelle av gradient descent fordi den oppdaterer vektene basert på et tilfeldig treningseksempel av dataene (eller en minibatch), i stedet for hele datasettet. Dette har flere fordeler:\n",
        "\n",
        "1. **Raskere oppdateringer**: I stedet for å vente på at hele datasettet skal prosesseres før vektene oppdateres, gjør SGD oppdateringer etter hver minibatch. Dette gjør læringsprosessen raskere og mer effektiv.\n",
        "\n",
        "2. **Unngå lokal minima**: Fordi SGD introduserer en viss grad av støy ved å bruke tilfeldig utvalg, kan det hjelpe til med å unngå å bli stuck i lokale minima. Den støyende oppdateringen kan gjøre at algoritmen \"hopper\" ut av dårlige løsninger og fortsetter å søke etter bedre løsninger.\n",
        "\n",
        "3. **Bedre generalisering**: Den tilfeldige naturen i SGD kan også føre til bedre generalisering til ukjente data, siden den kan unngå overtilpasning ved å ikke alltid følge den presise gradienten av kostfunksjonen.\n",
        "\n",
        "4. **Fleksibilitet med læringsrate**: SGD gir mulighet for å implementere læringsrate-planer, der læringsraten kan justeres i løpet av treningen for å forbedre konvergensen ytterligere.\n",
        "\n",
        "Sammen med disse fordelene gjør SGD det til et populært valg i trening av nevrale nettverk, spesielt når man arbeider med store datasett der det ville vært ineffektivt å bruke hele datasettet for hver oppdatering.\n",
        "\n",
        "Dette er en del av forståelsen som kreves for hva det vil si at nevrale nettverket \"lærer\". Kult?\n",
        "\n",
        "---"
      ],
      "metadata": {
        "id": "YlAzuRwEHM3l"
      }
    },
    {
      "cell_type": "markdown",
      "source": [
        "## Hvorfor har vi brukt ADAM og ikke SDG som optimizer?\n",
        "\n",
        "Adam (Adaptive Moment Estimation) er en populær optimaliseringsalgoritme innen maskinlæring og dyp læring, og det har noen betydelige fordeler sammenlignet med Stochastic Gradient Descent (SGD):\n",
        "\n",
        "1. **Adaptive læringsrater**: Adam beregner individuelle læringsrater for hver parameter basert på første og andre moment av gradientene. Dette gjør at Adam automatisk kan tilpasse læringsraten under trening, noe som ofte resulterer i raskere konvergens.\n",
        "\n",
        "2. **Robusthet mot støy**: Adam er designet for å håndtere støy i gradientene. Den tilpasser seg dynamisk basert på den gjennomsnittlige gradienten, noe som gjør den mer robust i situasjoner med varierende datakvalitet og -distribusjoner.\n",
        "\n",
        "3. **Raskere konvergens**: På grunn av dens adaptive natur, konvergerer Adam ofte raskere enn SGD, spesielt i problemer med mange parametere eller komplekse datasett. Dette gjør Adam til et attraktivt valg for dyplæringsoppgaver.\n",
        "\n",
        "4. **Bedre ytelse i praksis**: Mange empiriske studier har vist at Adam ofte presterer bedre enn SGD på en rekke oppgaver og datasett. Det kan være spesielt nyttig i situasjoner der det er vanskelig å velge en passende læringsrate for SGD.\n",
        "\n",
        "5. **Mindre behov for hyperparameterjustering**: Adam reduserer behovet for finjustering av læringsratene og andre hyperparametere, noe som kan spare tid og ressurser under utviklingsprosessen.\n",
        "\n",
        "6. **Fleksibilitet**: Adam fungerer godt med forskjellige typer nevrale nettverk og er vanligvis en standardvalg i mange dype læringsbiblioteker, noe som har ført til utbredt bruk i forsknings- og industriapplikasjoner.\n",
        "\n",
        "Disse egenskapene har gjort Adam til en favoritt blant forskere og praktikere innen maskinlæring, og det er ofte det første valget for optimalisering når man arbeider med nevrale nettverk.\n"
      ],
      "metadata": {
        "id": "BcgawmuG_5x0"
      }
    },
    {
      "cell_type": "markdown",
      "source": [
        "## **Backpropagation**\n",
        "Nå har vi snakket om nevrale nettverk, deres struktur, input, loss-/kostnadsfunksjon og hvordan vi minimerer kostnadsfunksjonen for å finne vektene og biasene slik at nettverket kan \"lære\".\n",
        "\n",
        "Vi har snakket om at data *strømmer* fra *input* laget, gjennom *hidden layers* og til *output* laget, og kalles for *feedforward* nevrale nettverk. Likevel, i treningsprosessen, er **backpropagation** essensiell for nettverket's evne til å \"lære\".\n",
        "\n",
        "### Hva er backpropagation?\n",
        "Kort fortalt, så er det en algoritme for å beregne den veldig kompliserte gradienten\n",
        "$$- \\nabla C\\left(\\vec{\\mathbf{W}} \\right)$$\n",
        "\n",
        "Vi diskuterte at gradienten finner retningen til **bratteste** stigning, men hvor vi ønsker å minimere (derfor $-$ tegnet før gradienten).\n",
        "\n",
        "Det er vanskelig å se for seg retningen til $\\nabla C\\left(\\vec{\\mathbf{W}}\\right)$, når $\\vec{\\mathbf{W}}$ har flere tusen vekter og bias'er. Derfor kan vi tenke på det som hvis vi har\n",
        "$$- \\nabla C\\left(\\vec{\\mathbf{W}} \\right) = \\begin{pmatrix}\n",
        "\\vdots \\\\\n",
        "\\color{red}{2.40} \\\\\n",
        "\\vdots \\\\\n",
        "\\color{green}{0.20}\\\\\n",
        "\\vdots\n",
        "\\end{pmatrix}$$\n",
        "det betyr at den vekten assosiert med $2.40$ har $12$ ganger så høy påvirkningskraft til kostfunksjonen, sammenlignet med vekten assosiert med $0.20$.\n",
        "\n",
        "**Sagt på en annen måte:**\n",
        "Gradienten viser hvor sensitiv kostfunksjonen er for små endringer i vektene. Hvis en gradientverdi er $12$ ganger større enn en annen, betyr det at kostfunksjonen endres $12$ ganger raskere med hensyn til den vekten, men dette avhenger av den spesifikke kostfunksjonen som brukes.\n",
        "\n",
        "**Verdt å merke seg:**\n",
        "Backpropagation er en metode for å beregne gradientene for parameterne i nettverket. Den er uavhengig av hvilken optimaliseringsalgoritme (SDG, ADAM) som brukes til å oppdatere vektene, men gradientene den beregner, avhenger av den spesifikke kostfunksjonen (MSE, Cross-Entropy Loss, etc.)."
      ],
      "metadata": {
        "id": "RVpySfGMC6NU"
      }
    },
    {
      "cell_type": "markdown",
      "source": [
        "Backpropagation, jobber seg bakover fra output laget til å finne de ideelle vekter og bias'ene mellom de ulike lagene, med mål om best mulige prediksjoner.\n",
        "\n",
        "I teorien gjøres dette for all treningsdata, men det tar laaaang tid. Derfor deler man opp treningsdata'en (tilfeldig) i mindre *batcher*, og vi kan regne ut gradienten fortere (dette er konseptet til Stochastic gradient decent).\n",
        "\n",
        "---"
      ],
      "metadata": {
        "id": "CIeFiy6AS1BM"
      }
    },
    {
      "cell_type": "markdown",
      "source": [
        "## **Regularisering**\n",
        "Når vi utvikler maskinlæringsmodeller, kan vi oppleve at treningsnøyaktigheten til modellen er høy, men valideringsnøyaktigheten eller testnøyaktigheten er lav. Dette er en situasjon som populært kalles overfitting innen maskinlæring. Som diskutert tidligere i kurset, det ønsker vi **ikke** at modellene våre gjør!\n",
        "\n",
        "### Dropout\n",
        "Dropout er en (av flere!) måte å regularisere modellene våre på. Det er en regulariseringsteknikk som innebærer å tilfeldig ignorere eller \"droppe ut\" noen av output'ene i et lag under trening, og brukes i dype nevrale nettverk for å forhindre overfitting.\n",
        "\n",
        "Dropout implementeres per lag i ulike typer lag som tette fullt tilkoblede lag, konvolusjonslag og rekursive lag, unntatt utgangslaget. Dropout-sannsynligheten spesifiserer sjansen for å droppe ut output's, med forskjellige sannsynligheter for inngangs- og skjulte lag, som forhindrer at en enkelt nevron blir for spesialisert eller overdrevent avhengig av tilstedeværelsen av spesifikke trekk i treningsdataene.\n",
        "\n",
        "### Early stopping\n",
        "Early stopping er en teknikk som brukes i maskinlæring for å forhindre overfitting av modeller. Metoden innebærer å overvåke ytelsen til modellen på et valideringssett under trening, og å stoppe treningen når ytelsen begynner å bli dårligere, selv om treningsfeilen fortsatt reduseres. Dette skjer vanligvis ved å følge disse trinnene:\n",
        "\n",
        "1. Monitorering av valideringsytelse: Under treningen evalueres modellen på et valideringssett etter hver epoke (eng: *epoch*) for å se hvordan den presterer på data den ikke har sett før.\n",
        "\n",
        "2. Definere en tidlig stoppkriterium: Hvis valideringsytelsen (for eksempel nøyaktighet/accuracy eller tap/loss) ikke forbedres over et definert antall påfølgende epoker (kalt \"patience\"), avsluttes treningen. Dette forhindrer at modellen fortsetter å lære og blir mer tilpasset treningsdataene, noe som kan føre til overfitting.\n",
        "\n",
        "3. Lagring av beste modell: Når tidlig stopp inntreffer, lagres den modellen med best valideringsytelse, slik at man kan bruke den mest generaliserte versjonen av modellen til fremtidige prediksjoner.\n",
        "\n",
        "Ved å bruke early stopping kan man oppnå en god balanse mellom modellens kompleksitet og ytelse, og dermed forbedre generaliseringsevnen.\n",
        "\n",
        "### Andre teknikker\n",
        "L1 regularisering, L2 regularisering og batch-normalisering er andre teknikker som kan hjelpe oss å forhindre overfitting. Men vi går ikke gjennom disse i kurset, men kan være interessant å bli kjent med i forbindelse med prosjektarbeidet.\n",
        "\n",
        "---"
      ],
      "metadata": {
        "id": "y5YTLHmJNlt_"
      }
    },
    {
      "cell_type": "markdown",
      "source": [
        "##**Tuning av hyperparametre**\n",
        "Tuning av hyperparametere innebærer justering av innstillinger som læringsrate, antall lag og nevroner før treningen av en maskinlæringsmodell. Dette er viktig for å optimalisere modellens ytelse og generalisering."
      ],
      "metadata": {
        "id": "EZoLKEqbNpDu"
      }
    },
    {
      "cell_type": "markdown",
      "source": [
        "##**Feature engineering**\n",
        "Feature engineering er prosessen med å lage, transformere eller velge funksjoner (features) fra rådata for å forbedre ytelsen til maskinlæringsmodeller. Det involverer aktiviteter som:\n",
        "\n",
        "- Transformasjon: Endre skalaen eller formatet på dataene (f.eks. normalisering eller standardisering).\n",
        "- Kombinasjon: Lage nye funksjoner ved å kombinere eksisterende variabler (f.eks. summere eller multiplisere variabler).\n",
        "- Utvelgelse: Velge de mest relevante funksjonene for å redusere kompleksiteten i modellen og forhindre overfitting.\n",
        "\n",
        "Effektiv feature engineering kan føre til bedre modellprestasjoner og mer nøyaktige prediksjoner.\n",
        "\n",
        "---"
      ],
      "metadata": {
        "id": "VP5iO2MoNsYJ"
      }
    },
    {
      "cell_type": "markdown",
      "source": [
        "# **Fra forrige gang**\n",
        "Her ser vi på koden fra sist forelesning, men med litt justeringer. Vil det føre til enda bedre prediksjoner?"
      ],
      "metadata": {
        "id": "Nu7_VQMlILJ9"
      }
    },
    {
      "cell_type": "code",
      "source": [
        "import tensorflow as tf\n",
        "from tensorflow.keras.models import Sequential\n",
        "from tensorflow.keras.layers import Flatten, Dense, Dropout\n",
        "from tensorflow.keras.callbacks import EarlyStopping\n",
        "from sklearn.model_selection import train_test_split\n",
        "import numpy as np\n",
        "\n",
        "# Sist gang, så lasta vi inn MNIST datasett.\n",
        "mnist = tf.keras.datasets.mnist\n",
        "(x_train, y_train), (x_test, y_test) = mnist.load_data()\n",
        "x_train, x_test = x_train / 255.0, x_test / 255.0  # Normaliserer pixelverdiene til [0, 1]"
      ],
      "metadata": {
        "colab": {
          "base_uri": "https://localhost:8080/"
        },
        "id": "pwQHWvTmIMI-",
        "outputId": "00718184-c590-44a3-d900-b9d1a0c71813"
      },
      "execution_count": 2,
      "outputs": [
        {
          "output_type": "stream",
          "name": "stdout",
          "text": [
            "Downloading data from https://storage.googleapis.com/tensorflow/tf-keras-datasets/mnist.npz\n",
            "\u001b[1m11490434/11490434\u001b[0m \u001b[32m━━━━━━━━━━━━━━━━━━━━\u001b[0m\u001b[37m\u001b[0m \u001b[1m0s\u001b[0m 0us/step\n"
          ]
        }
      ]
    },
    {
      "cell_type": "code",
      "source": [
        "# Splitter training data opp til training og validation sets\n",
        "# Dette gir oss muligheten til å overvåke modellens ytelse på et sett som ikke ble brukt til trening. Før vi til slutt, tester det på x_test og y_test\n",
        "x_train, x_val, y_train, y_val = train_test_split(x_train, y_train, test_size=0.2, random_state=42)"
      ],
      "metadata": {
        "id": "tzwcV2SuIOww"
      },
      "execution_count": 3,
      "outputs": []
    },
    {
      "cell_type": "code",
      "source": [
        "# Definerer en sekvensiell modell ved hjelp av TensorFlow's Keras API.\n",
        "model = Sequential([\n",
        "    tf.keras.Input(shape=(28, 28)),                   # Input lag - bilde som er 28 x 28 piksler\n",
        "    Flatten(),                                        # \"Flate ut\" laget fra en 2D array (28, 28) til en vektor (784, )\n",
        "    Dropout(0.25),                                    # Dropout-lag som tilfeldigvis \"dropper ut\" 25% av nevronene for å forhindre overfitting.\n",
        "    Dense(128, activation='relu'),                    # Dense-lag med 128 nevroner og ReLU aktivering.\n",
        "    Dropout(0.25),                                    # Ytterligere Dropout for å redusere overfitting ytterligere.\n",
        "    Dense(10, activation = 'softmax')                 # Fully-connecta lag til output (0-9, altså 10 ulike klasser) vha softmax\n",
        "])"
      ],
      "metadata": {
        "id": "0cuYJesJIQwE"
      },
      "execution_count": 8,
      "outputs": []
    },
    {
      "cell_type": "code",
      "source": [
        "model.summary()"
      ],
      "metadata": {
        "colab": {
          "base_uri": "https://localhost:8080/",
          "height": 289
        },
        "id": "y3DsQAPGDFRE",
        "outputId": "c229f3b8-254a-4550-9b37-caf835307be1"
      },
      "execution_count": 14,
      "outputs": [
        {
          "output_type": "display_data",
          "data": {
            "text/plain": [
              "\u001b[1mModel: \"sequential\"\u001b[0m\n"
            ],
            "text/html": [
              "<pre style=\"white-space:pre;overflow-x:auto;line-height:normal;font-family:Menlo,'DejaVu Sans Mono',consolas,'Courier New',monospace\"><span style=\"font-weight: bold\">Model: \"sequential\"</span>\n",
              "</pre>\n"
            ]
          },
          "metadata": {}
        },
        {
          "output_type": "display_data",
          "data": {
            "text/plain": [
              "┏━━━━━━━━━━━━━━━━━━━━━━━━━━━━━━━━━━━━━━┳━━━━━━━━━━━━━━━━━━━━━━━━━━━━━┳━━━━━━━━━━━━━━━━━┓\n",
              "┃\u001b[1m \u001b[0m\u001b[1mLayer (type)                        \u001b[0m\u001b[1m \u001b[0m┃\u001b[1m \u001b[0m\u001b[1mOutput Shape               \u001b[0m\u001b[1m \u001b[0m┃\u001b[1m \u001b[0m\u001b[1m        Param #\u001b[0m\u001b[1m \u001b[0m┃\n",
              "┡━━━━━━━━━━━━━━━━━━━━━━━━━━━━━━━━━━━━━━╇━━━━━━━━━━━━━━━━━━━━━━━━━━━━━╇━━━━━━━━━━━━━━━━━┩\n",
              "│ flatten (\u001b[38;5;33mFlatten\u001b[0m)                    │ (\u001b[38;5;45mNone\u001b[0m, \u001b[38;5;34m784\u001b[0m)                 │               \u001b[38;5;34m0\u001b[0m │\n",
              "├──────────────────────────────────────┼─────────────────────────────┼─────────────────┤\n",
              "│ dropout (\u001b[38;5;33mDropout\u001b[0m)                    │ (\u001b[38;5;45mNone\u001b[0m, \u001b[38;5;34m784\u001b[0m)                 │               \u001b[38;5;34m0\u001b[0m │\n",
              "├──────────────────────────────────────┼─────────────────────────────┼─────────────────┤\n",
              "│ dense (\u001b[38;5;33mDense\u001b[0m)                        │ (\u001b[38;5;45mNone\u001b[0m, \u001b[38;5;34m128\u001b[0m)                 │         \u001b[38;5;34m100,480\u001b[0m │\n",
              "├──────────────────────────────────────┼─────────────────────────────┼─────────────────┤\n",
              "│ dropout_1 (\u001b[38;5;33mDropout\u001b[0m)                  │ (\u001b[38;5;45mNone\u001b[0m, \u001b[38;5;34m128\u001b[0m)                 │               \u001b[38;5;34m0\u001b[0m │\n",
              "├──────────────────────────────────────┼─────────────────────────────┼─────────────────┤\n",
              "│ dense_1 (\u001b[38;5;33mDense\u001b[0m)                      │ (\u001b[38;5;45mNone\u001b[0m, \u001b[38;5;34m10\u001b[0m)                  │           \u001b[38;5;34m1,290\u001b[0m │\n",
              "└──────────────────────────────────────┴─────────────────────────────┴─────────────────┘\n"
            ],
            "text/html": [
              "<pre style=\"white-space:pre;overflow-x:auto;line-height:normal;font-family:Menlo,'DejaVu Sans Mono',consolas,'Courier New',monospace\">┏━━━━━━━━━━━━━━━━━━━━━━━━━━━━━━━━━━━━━━┳━━━━━━━━━━━━━━━━━━━━━━━━━━━━━┳━━━━━━━━━━━━━━━━━┓\n",
              "┃<span style=\"font-weight: bold\"> Layer (type)                         </span>┃<span style=\"font-weight: bold\"> Output Shape                </span>┃<span style=\"font-weight: bold\">         Param # </span>┃\n",
              "┡━━━━━━━━━━━━━━━━━━━━━━━━━━━━━━━━━━━━━━╇━━━━━━━━━━━━━━━━━━━━━━━━━━━━━╇━━━━━━━━━━━━━━━━━┩\n",
              "│ flatten (<span style=\"color: #0087ff; text-decoration-color: #0087ff\">Flatten</span>)                    │ (<span style=\"color: #00d7ff; text-decoration-color: #00d7ff\">None</span>, <span style=\"color: #00af00; text-decoration-color: #00af00\">784</span>)                 │               <span style=\"color: #00af00; text-decoration-color: #00af00\">0</span> │\n",
              "├──────────────────────────────────────┼─────────────────────────────┼─────────────────┤\n",
              "│ dropout (<span style=\"color: #0087ff; text-decoration-color: #0087ff\">Dropout</span>)                    │ (<span style=\"color: #00d7ff; text-decoration-color: #00d7ff\">None</span>, <span style=\"color: #00af00; text-decoration-color: #00af00\">784</span>)                 │               <span style=\"color: #00af00; text-decoration-color: #00af00\">0</span> │\n",
              "├──────────────────────────────────────┼─────────────────────────────┼─────────────────┤\n",
              "│ dense (<span style=\"color: #0087ff; text-decoration-color: #0087ff\">Dense</span>)                        │ (<span style=\"color: #00d7ff; text-decoration-color: #00d7ff\">None</span>, <span style=\"color: #00af00; text-decoration-color: #00af00\">128</span>)                 │         <span style=\"color: #00af00; text-decoration-color: #00af00\">100,480</span> │\n",
              "├──────────────────────────────────────┼─────────────────────────────┼─────────────────┤\n",
              "│ dropout_1 (<span style=\"color: #0087ff; text-decoration-color: #0087ff\">Dropout</span>)                  │ (<span style=\"color: #00d7ff; text-decoration-color: #00d7ff\">None</span>, <span style=\"color: #00af00; text-decoration-color: #00af00\">128</span>)                 │               <span style=\"color: #00af00; text-decoration-color: #00af00\">0</span> │\n",
              "├──────────────────────────────────────┼─────────────────────────────┼─────────────────┤\n",
              "│ dense_1 (<span style=\"color: #0087ff; text-decoration-color: #0087ff\">Dense</span>)                      │ (<span style=\"color: #00d7ff; text-decoration-color: #00d7ff\">None</span>, <span style=\"color: #00af00; text-decoration-color: #00af00\">10</span>)                  │           <span style=\"color: #00af00; text-decoration-color: #00af00\">1,290</span> │\n",
              "└──────────────────────────────────────┴─────────────────────────────┴─────────────────┘\n",
              "</pre>\n"
            ]
          },
          "metadata": {}
        },
        {
          "output_type": "display_data",
          "data": {
            "text/plain": [
              "\u001b[1m Total params: \u001b[0m\u001b[38;5;34m101,770\u001b[0m (397.54 KB)\n"
            ],
            "text/html": [
              "<pre style=\"white-space:pre;overflow-x:auto;line-height:normal;font-family:Menlo,'DejaVu Sans Mono',consolas,'Courier New',monospace\"><span style=\"font-weight: bold\"> Total params: </span><span style=\"color: #00af00; text-decoration-color: #00af00\">101,770</span> (397.54 KB)\n",
              "</pre>\n"
            ]
          },
          "metadata": {}
        },
        {
          "output_type": "display_data",
          "data": {
            "text/plain": [
              "\u001b[1m Trainable params: \u001b[0m\u001b[38;5;34m101,770\u001b[0m (397.54 KB)\n"
            ],
            "text/html": [
              "<pre style=\"white-space:pre;overflow-x:auto;line-height:normal;font-family:Menlo,'DejaVu Sans Mono',consolas,'Courier New',monospace\"><span style=\"font-weight: bold\"> Trainable params: </span><span style=\"color: #00af00; text-decoration-color: #00af00\">101,770</span> (397.54 KB)\n",
              "</pre>\n"
            ]
          },
          "metadata": {}
        },
        {
          "output_type": "display_data",
          "data": {
            "text/plain": [
              "\u001b[1m Non-trainable params: \u001b[0m\u001b[38;5;34m0\u001b[0m (0.00 B)\n"
            ],
            "text/html": [
              "<pre style=\"white-space:pre;overflow-x:auto;line-height:normal;font-family:Menlo,'DejaVu Sans Mono',consolas,'Courier New',monospace\"><span style=\"font-weight: bold\"> Non-trainable params: </span><span style=\"color: #00af00; text-decoration-color: #00af00\">0</span> (0.00 B)\n",
              "</pre>\n"
            ]
          },
          "metadata": {}
        }
      ]
    },
    {
      "cell_type": "code",
      "source": [
        "predictions = model(x_train[:1]).numpy()\n",
        "predictions"
      ],
      "metadata": {
        "colab": {
          "base_uri": "https://localhost:8080/"
        },
        "id": "ZABynll2L2kp",
        "outputId": "412b62dd-343f-46b6-cf69-26d03ce7978c"
      },
      "execution_count": 9,
      "outputs": [
        {
          "output_type": "execute_result",
          "data": {
            "text/plain": [
              "array([[0.11418618, 0.08540364, 0.07722898, 0.12946802, 0.1605158 ,\n",
              "        0.13186507, 0.09316692, 0.03779643, 0.09749361, 0.07287533]],\n",
              "      dtype=float32)"
            ]
          },
          "metadata": {},
          "execution_count": 9
        }
      ]
    },
    {
      "cell_type": "code",
      "source": [
        "# Har vi tatt 'softmax' som aktiveringsfunksjon i slutten av nettverket - skal summen her være lik 1.\n",
        "np.sum(predictions)"
      ],
      "metadata": {
        "colab": {
          "base_uri": "https://localhost:8080/"
        },
        "id": "la31M9qUTsHo",
        "outputId": "9e7b3249-c73b-4f0e-8067-c4e936f96613"
      },
      "execution_count": 10,
      "outputs": [
        {
          "output_type": "execute_result",
          "data": {
            "text/plain": [
              "1.0"
            ]
          },
          "metadata": {},
          "execution_count": 10
        }
      ]
    },
    {
      "cell_type": "code",
      "source": [
        "#tf.nn.softmax(predictions).numpy()"
      ],
      "metadata": {
        "id": "MbehRgm5L0v0"
      },
      "execution_count": null,
      "outputs": []
    },
    {
      "cell_type": "code",
      "source": [
        "# Definerer tap-funksjonen, ingen logit's pga softmax er tatt lenger oppe i nevrale nettverk strukturen.\n",
        "loss_fn = tf.keras.losses.SparseCategoricalCrossentropy(from_logits=False)"
      ],
      "metadata": {
        "id": "Vpfa-7vyITJV"
      },
      "execution_count": 11,
      "outputs": []
    },
    {
      "cell_type": "code",
      "source": [
        "# Kompilerer modellen med spesifiserte innstillinger\n",
        "model.compile(optimizer='adam',\n",
        "              loss=loss_fn,\n",
        "              metrics=['accuracy'])"
      ],
      "metadata": {
        "id": "WcixGzonIVAi"
      },
      "execution_count": 12,
      "outputs": []
    },
    {
      "cell_type": "code",
      "source": [
        "# Setter opp tidlig stopp for å hindre overfitting.\n",
        "# monitor='val_loss' betyr at vi stopper basert på forbedring i valideringstapet.\n",
        "# patience=3 betyr at modellen kan vente 3 epochs uten forbedring før treningen stopper.\n",
        "# restore_best_weights=True betyr at modellen automatisk vil gå tilbake til de beste vektene som ble oppnådd under treningen.\n",
        "early_stopping = EarlyStopping(monitor='val_loss', patience=3, restore_best_weights=True)"
      ],
      "metadata": {
        "id": "Ki9TWFN8IYZR"
      },
      "execution_count": 13,
      "outputs": []
    },
    {
      "cell_type": "code",
      "source": [
        "# Trener modellen med valideringsdata og tidlig stopp\n",
        "history = model.fit(x_train, y_train,\n",
        "                    epochs=20,\n",
        "                    validation_data=(x_val, y_val),   # Valideringssett for å overvåke ytelse under trening.\n",
        "                    callbacks=[early_stopping])       # Bruker tidlig stopp."
      ],
      "metadata": {
        "colab": {
          "base_uri": "https://localhost:8080/"
        },
        "id": "bl7CiacpIaeY",
        "outputId": "12696659-86b2-4183-fa74-9cb5c51f80e4"
      },
      "execution_count": 15,
      "outputs": [
        {
          "output_type": "stream",
          "name": "stdout",
          "text": [
            "Epoch 1/20\n",
            "\u001b[1m1500/1500\u001b[0m \u001b[32m━━━━━━━━━━━━━━━━━━━━\u001b[0m\u001b[37m\u001b[0m \u001b[1m7s\u001b[0m 2ms/step - accuracy: 0.7999 - loss: 0.6506 - val_accuracy: 0.9494 - val_loss: 0.1766\n",
            "Epoch 2/20\n",
            "\u001b[1m1500/1500\u001b[0m \u001b[32m━━━━━━━━━━━━━━━━━━━━\u001b[0m\u001b[37m\u001b[0m \u001b[1m3s\u001b[0m 2ms/step - accuracy: 0.9317 - loss: 0.2317 - val_accuracy: 0.9624 - val_loss: 0.1303\n",
            "Epoch 3/20\n",
            "\u001b[1m1500/1500\u001b[0m \u001b[32m━━━━━━━━━━━━━━━━━━━━\u001b[0m\u001b[37m\u001b[0m \u001b[1m3s\u001b[0m 2ms/step - accuracy: 0.9448 - loss: 0.1793 - val_accuracy: 0.9687 - val_loss: 0.1086\n",
            "Epoch 4/20\n",
            "\u001b[1m1500/1500\u001b[0m \u001b[32m━━━━━━━━━━━━━━━━━━━━\u001b[0m\u001b[37m\u001b[0m \u001b[1m5s\u001b[0m 2ms/step - accuracy: 0.9538 - loss: 0.1483 - val_accuracy: 0.9712 - val_loss: 0.0960\n",
            "Epoch 5/20\n",
            "\u001b[1m1500/1500\u001b[0m \u001b[32m━━━━━━━━━━━━━━━━━━━━\u001b[0m\u001b[37m\u001b[0m \u001b[1m3s\u001b[0m 2ms/step - accuracy: 0.9576 - loss: 0.1355 - val_accuracy: 0.9737 - val_loss: 0.0873\n",
            "Epoch 6/20\n",
            "\u001b[1m1500/1500\u001b[0m \u001b[32m━━━━━━━━━━━━━━━━━━━━\u001b[0m\u001b[37m\u001b[0m \u001b[1m3s\u001b[0m 2ms/step - accuracy: 0.9614 - loss: 0.1241 - val_accuracy: 0.9740 - val_loss: 0.0891\n",
            "Epoch 7/20\n",
            "\u001b[1m1500/1500\u001b[0m \u001b[32m━━━━━━━━━━━━━━━━━━━━\u001b[0m\u001b[37m\u001b[0m \u001b[1m5s\u001b[0m 2ms/step - accuracy: 0.9622 - loss: 0.1205 - val_accuracy: 0.9763 - val_loss: 0.0830\n",
            "Epoch 8/20\n",
            "\u001b[1m1500/1500\u001b[0m \u001b[32m━━━━━━━━━━━━━━━━━━━━\u001b[0m\u001b[37m\u001b[0m \u001b[1m3s\u001b[0m 2ms/step - accuracy: 0.9649 - loss: 0.1124 - val_accuracy: 0.9762 - val_loss: 0.0833\n",
            "Epoch 9/20\n",
            "\u001b[1m1500/1500\u001b[0m \u001b[32m━━━━━━━━━━━━━━━━━━━━\u001b[0m\u001b[37m\u001b[0m \u001b[1m5s\u001b[0m 2ms/step - accuracy: 0.9668 - loss: 0.1072 - val_accuracy: 0.9762 - val_loss: 0.0816\n",
            "Epoch 10/20\n",
            "\u001b[1m1500/1500\u001b[0m \u001b[32m━━━━━━━━━━━━━━━━━━━━\u001b[0m\u001b[37m\u001b[0m \u001b[1m4s\u001b[0m 2ms/step - accuracy: 0.9679 - loss: 0.1028 - val_accuracy: 0.9780 - val_loss: 0.0799\n",
            "Epoch 11/20\n",
            "\u001b[1m1500/1500\u001b[0m \u001b[32m━━━━━━━━━━━━━━━━━━━━\u001b[0m\u001b[37m\u001b[0m \u001b[1m3s\u001b[0m 2ms/step - accuracy: 0.9700 - loss: 0.0942 - val_accuracy: 0.9770 - val_loss: 0.0775\n",
            "Epoch 12/20\n",
            "\u001b[1m1500/1500\u001b[0m \u001b[32m━━━━━━━━━━━━━━━━━━━━\u001b[0m\u001b[37m\u001b[0m \u001b[1m3s\u001b[0m 2ms/step - accuracy: 0.9698 - loss: 0.0927 - val_accuracy: 0.9797 - val_loss: 0.0746\n",
            "Epoch 13/20\n",
            "\u001b[1m1500/1500\u001b[0m \u001b[32m━━━━━━━━━━━━━━━━━━━━\u001b[0m\u001b[37m\u001b[0m \u001b[1m5s\u001b[0m 2ms/step - accuracy: 0.9706 - loss: 0.0900 - val_accuracy: 0.9796 - val_loss: 0.0748\n",
            "Epoch 14/20\n",
            "\u001b[1m1500/1500\u001b[0m \u001b[32m━━━━━━━━━━━━━━━━━━━━\u001b[0m\u001b[37m\u001b[0m \u001b[1m5s\u001b[0m 2ms/step - accuracy: 0.9721 - loss: 0.0867 - val_accuracy: 0.9793 - val_loss: 0.0762\n",
            "Epoch 15/20\n",
            "\u001b[1m1500/1500\u001b[0m \u001b[32m━━━━━━━━━━━━━━━━━━━━\u001b[0m\u001b[37m\u001b[0m \u001b[1m3s\u001b[0m 2ms/step - accuracy: 0.9717 - loss: 0.0888 - val_accuracy: 0.9800 - val_loss: 0.0720\n",
            "Epoch 16/20\n",
            "\u001b[1m1500/1500\u001b[0m \u001b[32m━━━━━━━━━━━━━━━━━━━━\u001b[0m\u001b[37m\u001b[0m \u001b[1m3s\u001b[0m 2ms/step - accuracy: 0.9735 - loss: 0.0799 - val_accuracy: 0.9797 - val_loss: 0.0741\n",
            "Epoch 17/20\n",
            "\u001b[1m1500/1500\u001b[0m \u001b[32m━━━━━━━━━━━━━━━━━━━━\u001b[0m\u001b[37m\u001b[0m \u001b[1m4s\u001b[0m 2ms/step - accuracy: 0.9725 - loss: 0.0825 - val_accuracy: 0.9784 - val_loss: 0.0774\n",
            "Epoch 18/20\n",
            "\u001b[1m1500/1500\u001b[0m \u001b[32m━━━━━━━━━━━━━━━━━━━━\u001b[0m\u001b[37m\u001b[0m \u001b[1m4s\u001b[0m 2ms/step - accuracy: 0.9721 - loss: 0.0837 - val_accuracy: 0.9808 - val_loss: 0.0745\n"
          ]
        }
      ]
    },
    {
      "cell_type": "code",
      "source": [
        "# Evaluering av modellen på testsettet\n",
        "test_loss, test_accuracy = model.evaluate(x_test, y_test, verbose=2)\n",
        "print(f'Test loss: {test_loss}, Test accuracy: {test_accuracy}')"
      ],
      "metadata": {
        "colab": {
          "base_uri": "https://localhost:8080/"
        },
        "id": "z6KmfbJ0IcCB",
        "outputId": "bafefb6e-9488-447f-ae97-9472d112795c"
      },
      "execution_count": 16,
      "outputs": [
        {
          "output_type": "stream",
          "name": "stdout",
          "text": [
            "313/313 - 1s - 4ms/step - accuracy: 0.9771 - loss: 0.0738\n",
            "Test loss: 0.07378825545310974, Test accuracy: 0.9771000146865845\n"
          ]
        }
      ]
    },
    {
      "cell_type": "markdown",
      "source": [
        "## Så her ender vi opp med en accuracy på rundt $98$%!"
      ],
      "metadata": {
        "id": "WE7K3iORUwKb"
      }
    },
    {
      "cell_type": "code",
      "source": [
        "# Plotter trenings og validerings loss/tap\n",
        "plt.figure(figsize=(12, 5))\n",
        "\n",
        "# Plotter Loss\n",
        "plt.subplot(1, 2, 1)\n",
        "plt.plot(history.history['loss'], label='Training Loss', color='blue')\n",
        "plt.plot(history.history['val_loss'], label='Validation Loss', color='orange')\n",
        "plt.title('Training and Validation Loss')\n",
        "plt.xlabel('Epochs')\n",
        "plt.ylabel('Loss')\n",
        "plt.legend()\n",
        "\n",
        "# Plotter Accuracy\n",
        "plt.subplot(1, 2, 2)\n",
        "plt.plot(history.history['accuracy'], label='Training Accuracy', color='blue')\n",
        "plt.plot(history.history['val_accuracy'], label='Validation Accuracy', color='orange')\n",
        "plt.title('Training and Validation Accuracy')\n",
        "plt.xlabel('Epochs')\n",
        "plt.ylabel('Accuracy')\n",
        "plt.legend()\n",
        "\n",
        "plt.tight_layout()\n",
        "plt.show()"
      ],
      "metadata": {
        "colab": {
          "base_uri": "https://localhost:8080/",
          "height": 507
        },
        "id": "Zazmd_EbJzwz",
        "outputId": "b5a330a5-22a1-4824-d8e5-4620dcfd291b"
      },
      "execution_count": 17,
      "outputs": [
        {
          "output_type": "display_data",
          "data": {
            "text/plain": [
              "<Figure size 1200x500 with 2 Axes>"
            ],
            "image/png": "[encoded data removed]"
          },
          "metadata": {}
        }
      ]
    },
    {
      "cell_type": "markdown",
      "source": [
        "---"
      ],
      "metadata": {
        "id": "ihBl3aiUR_Bm"
      }
    },
    {
      "cell_type": "markdown",
      "source": [
        "---"
      ],
      "metadata": {
        "id": "n-E7U_m7R-9U"
      }
    },
    {
      "cell_type": "markdown",
      "source": [
        "---"
      ],
      "metadata": {
        "id": "zqQkepnmR-4I"
      }
    },
    {
      "cell_type": "markdown",
      "source": [
        "# Oppgaver\n",
        "\n",
        "## Oppgave 1\n",
        "Gå igjennom \"Kode eksempel - Convolutional Neural Networks\" (lenger ned i dokumentet), og der vil dere se at vi får en **enda høyere** test accuracy.\n",
        "\n",
        "Prøv å forstå koden under, en god øvelse på å se hva dere har forstått.\n",
        "\n",
        "## Oppgave 2\n",
        "I forelesning 1 så vi på datasettet ```Fraud.csv``` - last inn denne filen i Google Colab, og prøv å lag et nevralt nettverk som predikerer om ```isFraud``` er lik $0$ eller $1$.\n",
        "\n",
        "Hint da bør du sjekke ut:\n",
        "```python\n",
        "  # Loss funksjon\n",
        "  loss_fn = tf.keras.losses.BinaryCrossentropy(from_logits=False)\n",
        "\n",
        "  # Eks. på output-lag, med en aktiveringsfunksjon\n",
        "  model.add(tf.keras.layers.Dense(1, activation='sigmoid'))  \n",
        "```\n",
        "\n",
        "---"
      ],
      "metadata": {
        "id": "WxsYz_dSJ1aT"
      }
    },
    {
      "cell_type": "markdown",
      "source": [
        "# **Kode eksempel - Convolutional Neural Networks**\n",
        "Her er et kode-eksempel som bruker et spesielt type nettverk, CNN, dette vil vi ser mer på i forelesning 5."
      ],
      "metadata": {
        "id": "H1tBXU1yjp4y"
      }
    },
    {
      "cell_type": "code",
      "source": [
        "import tensorflow as tf\n",
        "from tensorflow.keras.models import Sequential\n",
        "from tensorflow.keras.layers import Dense, Dropout\n",
        "from tensorflow.keras.datasets import mnist\n",
        "from tensorflow.keras.utils import to_categorical"
      ],
      "metadata": {
        "id": "cni1ZR0644Bm"
      },
      "execution_count": 18,
      "outputs": []
    },
    {
      "cell_type": "code",
      "source": [
        "# Laster inn MNIST-datasettet (håndskrevne siffer).\n",
        "(x_train, y_train), (x_test, y_test) = mnist.load_data()\n",
        "\n",
        "# Normaliserer bildene til verdier i området [0, 1] ved å dele på 255.\n",
        "# Dette gjør at pikselverdiene, som opprinnelig er i området [0, 255], skaleres til flyttall mellom 0 og 1.\n",
        "x_train = x_train.astype('float32') / 255\n",
        "x_test = x_test.astype('float32') / 255"
      ],
      "metadata": {
        "id": "PAoS1op4RaJk"
      },
      "execution_count": 19,
      "outputs": []
    },
    {
      "cell_type": "code",
      "source": [
        "# Laster inn MNIST-datasettet (håndskrevne siffer).\n",
        "(x_train, y_train), (x_test, y_test) = mnist.load_data()\n",
        "\n",
        "# Normaliserer bildene til verdier i området [0, 1] ved å dele på 255.\n",
        "# Dette gjør at pikselverdiene, som opprinnelig er i området [0, 255], skaleres til flyttall mellom 0 og 1.\n",
        "x_train = x_train.astype('float32') / 255\n",
        "x_test = x_test.astype('float32') / 255\n",
        "\n",
        "# Endrer formen på bildene fra (num_samples, 28, 28) til (num_samples, 28, 28, 1).\n",
        "# Den ekstra dimensjonen (1) representerer antall kanaler (her gråskala), hadde den vært satt til (3) har vi fargebilder\n",
        "# da de har tre fargekanaler RGB (Rød, Grønn, Blå).\n",
        "x_train = x_train.reshape((-1, 28, 28, 1))\n",
        "x_test = x_test.reshape((-1, 28, 28, 1))\n",
        "\n",
        "#Obs: Den første \"-1\" i reshape() lar NumPy automatisk beregne antall eksempler (num_samples).\n",
        "\n",
        "\n",
        "# One-hot encoder etikettene (klassene) slik at hver etikett blir representert som en vektor med 10 elementer.\n",
        "# Eksempel: Hvis en etikett er 3, blir den representert som [0, 0, 0, 1, 0, 0, 0, 0, 0, 0].\n",
        "y_train = to_categorical(y_train, 10)\n",
        "y_test = to_categorical(y_test, 10)"
      ],
      "metadata": {
        "id": "5zqu1vmt77BU"
      },
      "execution_count": 20,
      "outputs": []
    },
    {
      "cell_type": "markdown",
      "source": [
        "Når du setter den første dimensjonen til `-1`, vil `reshape()`-funksjonen fra NumPy automatisk finne ut hvor mange bilder det er, basert på størrelsen på resten av dimensjonene $(28, 28, 1)$. På denne måten slipper du å manuelt spesifisere antall bilder `num_samples()` (Men, her vet vi at det er 60.000 bilder i treningsdataene - fra MNIST)."
      ],
      "metadata": {
        "id": "gZc_3wFTAkEt"
      }
    },
    {
      "cell_type": "code",
      "source": [
        "# Importere nødvendige biblioteker fra TensorFlow\n",
        "import tensorflow as tf\n",
        "from tensorflow.keras.models import Sequential\n",
        "from tensorflow.keras.layers import Dense, Conv2D, MaxPooling2D, Flatten, Dropout\n",
        "\n",
        "# Lager en sekvensiell modell\n",
        "model = Sequential([\n",
        "    # Første konvolusjonslag\n",
        "    # Bruker 32 filtre av størrelse (3, 3), aktivert med ReLU, og forventer en inputform av (28, 28, 1) - altså våre gråskalabilder.\n",
        "    tf.keras.layers.Conv2D(32, (3, 3), activation='relu', input_shape=(28, 28, 1)),\n",
        "\n",
        "    # Maksimal pooling-lag som reduserer dimensjonaliteten til funksjonskartene.\n",
        "    # Bruker en pooling størrelse på (2, 2), noe som halverer både bredde og høyde.\n",
        "    tf.keras.layers.MaxPooling2D((2, 2)),\n",
        "\n",
        "    # Dropout-lag for å forhindre overfitting ved tilfeldig å sette 25% av nevronene til null under trening.\n",
        "    Dropout(0.25),\n",
        "\n",
        "    # Andre konvolusjonslag med 64 filtre, fortsatt med ReLU-aktivering.\n",
        "    tf.keras.layers.Conv2D(64, (3, 3), activation='relu'),\n",
        "\n",
        "    # Ny maksimal pooling-lag for ytterligere dimensjonsreduksjon.\n",
        "    tf.keras.layers.MaxPooling2D((2, 2)),\n",
        "\n",
        "    # Ytterligere dropout-lag for å forhindre overfitting, denne gangen med 25%.\n",
        "    Dropout(0.25),\n",
        "\n",
        "    # Flatten-lag som konverterer de 2D-funksjonskartene til 1D-vektorer.\n",
        "    tf.keras.layers.Flatten(),\n",
        "\n",
        "    # Første Dense-lag med 128 nevroner og ReLU-aktivering, som fullstendig kobler til forrige lag.\n",
        "    Dense(128, activation='relu'),\n",
        "\n",
        "    # Dropout-lag for å hindre overfitting i dette laget også, nå med 50%.\n",
        "    Dropout(0.5),\n",
        "\n",
        "    # Utgangslag med 10 nevroner som representerer de 10 klassene, aktivert med softmax for å få sannsynligheter.\n",
        "    Dense(10, activation='softmax')\n",
        "])\n",
        "\n",
        "# Modellstrukturen er nå definert. Den kan kompileres og trenes på datasett etterpå."
      ],
      "metadata": {
        "id": "WKegqxow8CB4",
        "colab": {
          "base_uri": "https://localhost:8080/"
        },
        "outputId": "7ec8f7a8-ec4a-460e-ec33-2afd7744e33b"
      },
      "execution_count": 21,
      "outputs": [
        {
          "output_type": "stream",
          "name": "stderr",
          "text": [
            "/usr/local/lib/python3.11/dist-packages/keras/src/layers/convolutional/base_conv.py:107: UserWarning: Do not pass an `input_shape`/`input_dim` argument to a layer. When using Sequential models, prefer using an `Input(shape)` object as the first layer in the model instead.\n",
            "  super().__init__(activity_regularizer=activity_regularizer, **kwargs)\n"
          ]
        }
      ]
    },
    {
      "cell_type": "code",
      "source": [
        "model.compile(optimizer='adam',\n",
        "              loss='categorical_crossentropy',\n",
        "              metrics=['accuracy'])"
      ],
      "metadata": {
        "id": "Ojln13iK8FhL"
      },
      "execution_count": 22,
      "outputs": []
    },
    {
      "cell_type": "code",
      "source": [
        "history = model.fit(x_train, y_train, epochs=10)"
      ],
      "metadata": {
        "colab": {
          "base_uri": "https://localhost:8080/"
        },
        "id": "l6fJXjO-8GzI",
        "outputId": "7641c146-abaf-4882-c27b-a56892e8a574"
      },
      "execution_count": 23,
      "outputs": [
        {
          "output_type": "stream",
          "name": "stdout",
          "text": [
            "Epoch 1/10\n",
            "\u001b[1m1875/1875\u001b[0m \u001b[32m━━━━━━━━━━━━━━━━━━━━\u001b[0m\u001b[37m\u001b[0m \u001b[1m9s\u001b[0m 2ms/step - accuracy: 0.8443 - loss: 0.4747\n",
            "Epoch 2/10\n",
            "\u001b[1m1875/1875\u001b[0m \u001b[32m━━━━━━━━━━━━━━━━━━━━\u001b[0m\u001b[37m\u001b[0m \u001b[1m5s\u001b[0m 3ms/step - accuracy: 0.9686 - loss: 0.1042\n",
            "Epoch 3/10\n",
            "\u001b[1m1875/1875\u001b[0m \u001b[32m━━━━━━━━━━━━━━━━━━━━\u001b[0m\u001b[37m\u001b[0m \u001b[1m4s\u001b[0m 2ms/step - accuracy: 0.9765 - loss: 0.0796\n",
            "Epoch 4/10\n",
            "\u001b[1m1875/1875\u001b[0m \u001b[32m━━━━━━━━━━━━━━━━━━━━\u001b[0m\u001b[37m\u001b[0m \u001b[1m5s\u001b[0m 2ms/step - accuracy: 0.9795 - loss: 0.0653\n",
            "Epoch 5/10\n",
            "\u001b[1m1875/1875\u001b[0m \u001b[32m━━━━━━━━━━━━━━━━━━━━\u001b[0m\u001b[37m\u001b[0m \u001b[1m5s\u001b[0m 3ms/step - accuracy: 0.9826 - loss: 0.0575\n",
            "Epoch 6/10\n",
            "\u001b[1m1875/1875\u001b[0m \u001b[32m━━━━━━━━━━━━━━━━━━━━\u001b[0m\u001b[37m\u001b[0m \u001b[1m4s\u001b[0m 2ms/step - accuracy: 0.9849 - loss: 0.0490\n",
            "Epoch 7/10\n",
            "\u001b[1m1875/1875\u001b[0m \u001b[32m━━━━━━━━━━━━━━━━━━━━\u001b[0m\u001b[37m\u001b[0m \u001b[1m6s\u001b[0m 3ms/step - accuracy: 0.9851 - loss: 0.0477\n",
            "Epoch 8/10\n",
            "\u001b[1m1875/1875\u001b[0m \u001b[32m━━━━━━━━━━━━━━━━━━━━\u001b[0m\u001b[37m\u001b[0m \u001b[1m4s\u001b[0m 2ms/step - accuracy: 0.9856 - loss: 0.0457\n",
            "Epoch 9/10\n",
            "\u001b[1m1875/1875\u001b[0m \u001b[32m━━━━━━━━━━━━━━━━━━━━\u001b[0m\u001b[37m\u001b[0m \u001b[1m4s\u001b[0m 2ms/step - accuracy: 0.9865 - loss: 0.0402\n",
            "Epoch 10/10\n",
            "\u001b[1m1875/1875\u001b[0m \u001b[32m━━━━━━━━━━━━━━━━━━━━\u001b[0m\u001b[37m\u001b[0m \u001b[1m5s\u001b[0m 3ms/step - accuracy: 0.9885 - loss: 0.0372\n"
          ]
        }
      ]
    },
    {
      "cell_type": "code",
      "source": [
        "test_loss, test_accuracy = model.evaluate(x_test, y_test)\n",
        "print(f'Test accuracy: {test_accuracy}: Test loss: {test_loss}')"
      ],
      "metadata": {
        "colab": {
          "base_uri": "https://localhost:8080/"
        },
        "id": "rkUKlNAZ8IH2",
        "outputId": "6d8d81fe-3ef9-4111-aec3-e22cc115bf46"
      },
      "execution_count": 24,
      "outputs": [
        {
          "output_type": "stream",
          "name": "stdout",
          "text": [
            "\u001b[1m313/313\u001b[0m \u001b[32m━━━━━━━━━━━━━━━━━━━━\u001b[0m\u001b[37m\u001b[0m \u001b[1m2s\u001b[0m 3ms/step - accuracy: 0.9898 - loss: 0.0273\n",
            "Test accuracy: 0.9922999739646912: Test loss: 0.021838104352355003\n"
          ]
        }
      ]
    },
    {
      "cell_type": "markdown",
      "source": [
        "## Her ser vi at vi har fått en test accuracy på over $99$%!\n",
        "Her har vi brukt en annen form for nevrale nettverk, kalt *Convolutional Neural Networks* - som vi vil se mer på i forelesning 5!"
      ],
      "metadata": {
        "id": "5su5nR9IB90w"
      }
    },
    {
      "cell_type": "markdown",
      "source": [
        "-----"
      ],
      "metadata": {
        "id": "6Dxk1m_zWqRH"
      }
    }
  ]
}