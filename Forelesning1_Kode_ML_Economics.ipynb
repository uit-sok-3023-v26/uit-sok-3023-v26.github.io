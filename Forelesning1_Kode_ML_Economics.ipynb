{
  "nbformat": 4,
  "nbformat_minor": 0,
  "metadata": {
    "colab": {
      "provenance": [],
      "gpuType": "T4"
    },
    "kernelspec": {
      "name": "python3",
      "display_name": "Python 3"
    },
    "language_info": {
      "name": "python"
    },
    "accelerator": "GPU"
  },
  "cells": [
    {
      "cell_type": "markdown",
      "source": [
        "# **Forelesning 1 - Introduksjon**\n"
      ],
      "metadata": {
        "id": "JrktUKjI0_vz"
      }
    },
    {
      "cell_type": "markdown",
      "source": [
        "# Om kurset\n",
        "Pensum i dette faget er kompendiumet, henviste artikler og **disse Notebook-ene**, som er lagd for å brukes i [Google Colab](https://colab.google/). I tillegg til notebooks, vil vi også gjennomgå en del matematikk og maskinlæringskonsepter i de fysiske forelesningene.\n",
        "\n",
        "I dette kurset har vi ikke pensumbok, men vi har lagd en kompendium som skal være støttelitteratur for forelesningene og inneholder en del teori som dere kan bruke i prosjektoppgaven. I tillegg, vil dere kunne bli testa i pensum fra kompendiet på muntlige eksamen.\n",
        "\n",
        "Informasjon om semesteroppgave, forelesninger, innlevering og muntlig eksamen finner dere på GitHub siden [her](https://uit-sok-3023-v25.github.io/index.html).\n",
        "\n"
      ],
      "metadata": {
        "id": "i4jDtPKD1wUj"
      }
    },
    {
      "cell_type": "markdown",
      "source": [
        "# Eksamen og vurdering\n",
        "| <h2>Vurderingsform        | <h2>Andel av karakter  | <h2>Arbeidsform           | <h2>Beskrivelse |\n",
        "|-----------------------|--------|-----------------|-------------|\n",
        "| <h4>Semesteroppgave        | <h4>50%    | <h4>1-2 stk     | <h4>Gjennomføre et maskinlæringsprosjekt i Google Colab. |\n",
        "| <h4>Muntlig eksamen        | <h4>50%    | <h4>Individuelt     |<h4> **20-30** minutter spørsmål til prosjekt OG resterende pensum. |"
      ],
      "metadata": {
        "id": "fKgkFWQY4dHP"
      }
    },
    {
      "cell_type": "markdown",
      "source": [
        "# Hvorfor Google Colab\n",
        "Colab er en vertstjeneste for Jupyter Notebook som ikke krever noe oppsett for å bruke og gir gratis tilgang til databehandlingsressurser, inkludert GPU-er og TPU-er. Colab er spesielt godt egnet for maskinlæring, datavitenskap og vil derfor brukes aktivt gjennom kurset. Tensorflow, som er maskinlæringsrammeverket vi kommer til å bruke mye, er også utviklet av Google - noe som gjør det enkelt å kjøre i Google Colab.\n",
        "\n",
        "![](https://media.dev.to/cdn-cgi/image/width=1000,height=420,fit=cover,gravity=auto,format=auto/https%3A%2F%2Fdev-to-uploads.s3.amazonaws.com%2Fuploads%2Farticles%2Fmns81frj4ziq82o2fea5.jpg)\n",
        "\n",
        "Når det er sagt, er det mange måter å skrive Python-kode på. Dere står fritt til å velge akkurat det dere vil, et annet eksempel er Visual Studio Code (VSCode) - men forelesningene vil foregå i Colab."
      ],
      "metadata": {
        "id": "71w5_4Wj2naW"
      }
    },
    {
      "cell_type": "markdown",
      "source": [
        "# Hvordan hente forelesningsnotatene til din PC/Mac\n",
        "\n",
        "#### **Manuell nedlastning**\n",
        "Forelesningene vil dere finne [her](https://github.com/uit-sok-3023-v25/uit-sok-3023-v25.github.io/tree/main/notebooks). De kan dere laste ned manuelt inne fra GitHub. Hvor vi vil bruke Forelesning 1 til Forelesning 6.\n",
        "\n",
        "Det gjør dere inn i repositorie hvor disse **.ipynb**-filene ligger, samt datasett vi bruker og andre filer.\n",
        "\n",
        "#### **Alternativ henting av forelesningsnotatene**\n",
        "Dere kan også bruke et utviklerverktøy for å hente forelesningsnotatene, men dette er ikke et krav. Særlig dere på samfunnsøkonomi vil bruke ```git``` en del. Da kan dere følge denne oppskriften.\n",
        "\n",
        "### 1. Installere git\n",
        "**Windows:**\n",
        "\n",
        "1. Gå til [installasjonsiden for git](https://git-scm.com/downloads)\n",
        "4. Last ned for windows og installer for alle brukere (krever elevering/admin login)\n",
        "\n",
        "**Mac:**\n",
        "\n",
        "Åpne Terminal-appen og skriv `git`. Du blir spurt om du vil installere utviklerverktøy. Takk ja, og installer:-)\n",
        "* (Hvis det ikke funker: gå til gå til [installasjonsiden for git](https://git-scm.com/downloads))\n",
        "\n",
        "### 2. Hente kursmateriell fra Github\n",
        "\n",
        "For å hente filene til din PC åpner du kommanovinduet (Windows) eller terminalen (Mac) på nytt, men denne gangen UTEN Å HØYREKLIKKET, siden du nå skal arbeidet på ditt hjemmeområde. Videre gjør du slik:\n",
        "\n",
        "1. Naviger til dit du ønsker å ha kursmappen din. Om du for eksempel har en mappe `Documents` på maskinen din, og du vil ha kursmappen under den, så skriver du\n",
        "```cd Documents```\n",
        "\n",
        "2. Lag en mappe der du ønsker å ha kursfilene dine ved å skrive inn i terminalvinduet\n",
        "\n",
        "```mkdir sok-3023```\n",
        "\n",
        "3. Gå så inn i den mappen du har laget ved å skrive\n",
        "\n",
        "```cd sok-3023```\n",
        "        \n",
        "4. Last ned kursmateriellet ved å kopiere inn følgende kommando i kommandovinduet:\n",
        "\n",
        "```git clone https://github.com/uit-sok-3023-v25/notebooks/```<br>\n",
        "[https://github.com/uit-sok-3023-v25/notebooks/](https://github.com/uit-sok-3023-v25/notebooks/)\n"
      ],
      "metadata": {
        "id": "6A33Zkvw9_fb"
      }
    },
    {
      "cell_type": "markdown",
      "source": [
        "# Hvorfor Python?\n",
        "Python er et høynivå programmeringsspråk, noe som betyr at det er enklere for oss å lese og forstå koden sammenlignet med lavnivåspråk som C eller Assembly. Python støtter også objektorientert programmering, slik at vi kan lage objekter og klasser. Dette kan være mer utfordrende i andre språk som R, hvor objektorienterte funksjoner ikke er like integrerte og intuitive.\n",
        "\n",
        "Python er et av de mest veldokumenterte programmeringsspråkene, særlig innen fagfeltet maskinlæring og kunstig intelligens. Dette gjør Python til et naturlig valg for dette introduksjonskurset i maskinlæring.\n",
        "\n",
        "Vi anbefaler at arbeidet dere gjør, inkludert prosjektet, lagres i et personlig repository på GitHub. Dette kan være nyttig å vise fram i ett fremtidig prosjekt eller masteroppgaven. I tillegg, kan det være kjekt å vise til i en jobbsøknad, og kan vise deres breddekunnskaper innen økonomi og dataanalyse."
      ],
      "metadata": {
        "id": "Zf8d-Iog2umK"
      }
    },
    {
      "cell_type": "markdown",
      "source": [
        "# Andre læringsressurser\n",
        "Som følge av koding og datavitenskapens egenart, er det mange småproblemer man kan støte på underveis. Likevel, har vi utallige nettsteder vi kan søke hjelp til, som\n",
        "* Google\n",
        "* YouTube\n",
        "* ChatGPT\n",
        "\n",
        "Husk å bruke kunstig intelligens med måte, da den (ironisk nok) kan *hallusinere* når det kommer til kompliserte kodespørsmål om ML/AI.\n"
      ],
      "metadata": {
        "id": "KicuSdGA4sEe"
      }
    },
    {
      "cell_type": "markdown",
      "source": [
        "# **La oss begynne med det faglige**"
      ],
      "metadata": {
        "id": "2FXH7J9iByzG"
      }
    },
    {
      "cell_type": "markdown",
      "source": [
        "# **Introduksjon til ML/AI**\n",
        "* Kunstig intelligens er *intelligens* hos maskiner, i motsetning til naturlig intelligens hos mennesker/dyr/levende liv.\n",
        "* Maskiner kan også *etterligne* menneskelige kognitive funksjoner som *læring* og *problemløsning*.\n",
        "  * Egentlig handler det *bare* om trender i data.\n",
        "* Maskinlæring og AI trekker tråder fra biologi, psykologi, datavitenskap, statistikk (!!), ingeniørvitenskap osv.\n",
        "  * Faktisk er statistikk **grunnmuren** for mange av de kjente maskinlæringsteknikkene vi har, og dette kurset kommer derfor til å gi dere en kort introduksjon til noen av de viktigste matematiske prinsippene bak (uten at vi skal gå alt for mye i dybden, og vil ha fokus på anvendelser).\n",
        "* Kunstig intelligens er med andre ord et bredt begrep som monner mye, under viser noen av dens sentrale bestanddeler.\n",
        "\n",
        "![AI's bestanddeler](https://miro.medium.com/v2/resize:fit:2000/format:webp/1*TSfbVZfzkLTDFT46U4-wbQ.png)"
      ],
      "metadata": {
        "id": "7K7S-FHA5WrK"
      }
    },
    {
      "cell_type": "markdown",
      "source": [
        "# AI er gammelt!\n",
        "Deler av kunstig intelligens, som nevrale nettverk, er ikke ny teori. Nevrale nettverk hadde god bakgrunnteori allerede på 40 tallet!\n",
        "\n",
        "## Grunnen til at det har eksplodert de siste årene er hovedsakelig\n",
        "1. Utvikling av **nye** matematiske/statistiske modeller.\n",
        "2. Økning i **tilgjengelig data**.\n",
        "3. Økning i **GPU**'er (muligheten for å prosessere data).\n",
        "4. Kostnadene av **datalagring** er minket betydelig."
      ],
      "metadata": {
        "id": "tn8stVc4_36x"
      }
    },
    {
      "cell_type": "markdown",
      "source": [
        "# **Maskinlæring i økonomi og finans**\n",
        "* Fordeler med bruk av AI/ML i finans\n",
        "  * **Finansielle operasjoner** (f.eks. trading) er noen ganger basert på *forhåndsdefinerte regler*. ML/AI kan automatisere denne prosessen, og dermed **redusere kost og tidsbruk**.\n",
        "  * **Finansielle beslutninger** (f.eks. innvilgning av lån, invisteringer etc.) krever ofte hurtig og fakta-baserte beslutninger - hvor maskinlæring kan være et verktøy i denne prosessen.\n",
        "  * Til forskjell fra en økonom som forvalter et fond, krever ikke maskinlæring og kunstig intelligens **økonomisk kunnskap**, men finner mønster og trender i data - som kan potensielt hjelpe økonomer i deres jobb.\n",
        "  * **Deteksjon** av svindel/hvitvasking/økonomisk kriminalitet.\n",
        "\n",
        "![Deteksjon av svindel](https://d17ocfn2f5o4rl.cloudfront.net/wp-content/uploads/2019/07/ML-Fraud-info-3.jpg)"
      ],
      "metadata": {
        "id": "JL1s1vO4BrLs"
      }
    },
    {
      "cell_type": "markdown",
      "source": [
        "## Veiledet læring\n",
        "**Veiledet læring** og **ikke-veiledet læring** er to sentrale tilnærminger innen maskinlæring. Veiledet læring involverer bruk av et merket (eng: *labeled*) datasett, der hver input-data har en tilsvarende output (eller merking). Modellen lærer å forutsi output'et basert på input'et. Eksempler på veiledet læring inkluderer regresjon og klassifikasjon. På den annen side benytter ikke-veiledet læring datasett uten merking, hvor målet er å finne mønstre eller strukturer i dataene. Denne tilnærmingen brukes ofte i clustering og dimensjonsreduksjon. Valget mellom veiledet og ikke-veiledet læring avhenger av problemet og tilgjengeligheten av merkede data.\n",
        "\n",
        "### Sammenligning av Veiledet og Ikke-veiledet Læring\n",
        "\n",
        "| **Egenskap**                   | **Veiledet Læring**                             | **Ikke-veiledet Læring**                     |\n",
        "|----------------------------|--------------------------------------------|------------------------------------------|\n",
        "| **Datasett**               | Merket datasett med inngangs- og utgangsdata | Umerket datasett uten merking            |\n",
        "| **Mål**                    | Forutsi utgang basert på innganger        | Finne mønstre, grupper eller strukturer  |\n",
        "| **Algoritmer**             | Lineær regresjon, logistisk regresjon, NN | K-means, hierarkisk clustering, PCA     |\n",
        "| **Bruksområder**          | Klassifikasjon, regresjon, prediksjon     | Clustering, datavisualisering            |\n",
        "| **Eksempler**              | Spam-deteksjon, ansiktsgjenkjenning       | Segmentering av kunder, anomalideteksjon |\n",
        "| **Dataforberedelse**      | Krever omfattende dataforberedelse med merking | Mindre dataforberedelse nødvendig         |"
      ],
      "metadata": {
        "id": "yZ7K4Ul2T_1n"
      }
    },
    {
      "cell_type": "markdown",
      "source": [
        "# Scikit-Learn: Et Nøkkelverktøy for Maskinlæring\n",
        "![SciKit learn](https://miro.medium.com/v2/resize:fit:693/1*1ouD8HMkmJffNSAMfvBSkw.png)\n",
        "\n",
        "Scikit-Learn, ofte importert som `sklearn`, er et kraftig og omfattende Python-bibliotek som gjør det enklere å utvikle og implementere maskinlæringsmodeller. Det er et av de mest brukte verktøyene for maskinlæring, spesielt på grunn av sin brukervennlige syntaks og bredde. Her er noen grunner til hvorfor det er nyttig å kunne Scikit-Learn:\n",
        "\n",
        "## 1. Enkel og Konsistent API\n",
        "Scikit-Learn har et enhetlig og konsistent API, noe som betyr at metoder og funksjoner er strukturert på en måte som er lett å lære og lett å huske. Dette gjør det raskt å implementere maskinlæringsalgoritmer uten å måtte skrive mye kode.\n",
        "\n",
        "## 2. Stort Utvalg av Algoritmer\n",
        "Scikit-Learn tilbyr en rekke maskinlæringsalgoritmer for både veiledet og ikke-veiledet læring, inkludert:\n",
        "   - **Klassifikasjon** (som KNN, beslutningstrær, SVM)\n",
        "   - **Regresjon** (som lineær og logistisk regresjon)\n",
        "   - **Clustering** (som K-means, hierarkisk clustering)\n",
        "   - **Dimensjonsreduksjon** (som PCA)\n",
        "   \n",
        "Dette brede utvalget gjør det mulig å eksperimentere og finne den beste modellen for et gitt datasett.\n",
        "\n",
        "## 3. Effektive Dataforberedelsesverktøy\n",
        "Scikit-Learn inneholder også verktøy for dataforberedelse, som:\n",
        "   - **Skalering og normalisering**: StandardScaler, MinMaxScaler, osv.\n",
        "   - **Håndtering av kategoriske data**: OneHotEncoder og LabelEncoder\n",
        "   - **Datasplitting**: Train-test-split-funksjonen, som gjør det enkelt å dele data i trenings- og testsett.\n",
        "\n",
        "Disse funksjonene forenkler prosessen med dataforberedelse, noe som er viktig for å bygge nøyaktige maskinlæringsmodeller - se også *Praktisk bruk av Python* i kompendiet om dette.\n",
        "\n",
        "## 4. God Dokumentasjon og Støtte\n",
        "Scikit-Learn har omfattende dokumentasjon og et stort, aktivt brukermiljø. Dokumentasjonen inkluderer detaljerte beskrivelser, eksempler og brukstilfeller, noe som gjør det enkelt å komme i gang.\n",
        "\n",
        "## 5. Kompatibilitet med andre Verktøy\n",
        "Scikit-Learn er designet for å fungere godt sammen med andre Python-verktøy, og er faktisk bygd på NumPy, SciPy og matplotlib. Dette gjør det enkelt å integrere i en dataanalyse- og maskinlæringsarbeidsflyt, noe som gir en effektiv og helhetlig løsning.\n",
        "\n",
        "### Konklusjon\n",
        "Å kunne Scikit-Learn gir en sterk fordel innen dataanalyse og maskinlæring. Det forenkler både utvikling og testing av modeller, og tilbyr verktøyene som trengs for å bygge robuste, nøyaktige løsninger. Derfor er dette noe vi kommer til å bruke mye i dette kurset.\n",
        "\n"
      ],
      "metadata": {
        "id": "uhSKsRttt5vN"
      }
    },
    {
      "cell_type": "markdown",
      "source": [
        "# Et enkelt økonomisk eksempel\n",
        "Som nevnt, er det mye fint ved ```scikit-learn```-biblioteket, som blant annet betyr at de har flere datasett vi kan hente fra internett. I dette eksempelet skal vi se på et dataset som heter **California Housing**, som inneholder informasjon om prisen på hus. Dette er meget velegnet for lineær regresjon, da det er kontinuerlige målvariabler (husprisen) - som er det vi ønsker å lage en prediktiv modell for.\n"
      ],
      "metadata": {
        "id": "-ltsQFg7wZxQ"
      }
    },
    {
      "cell_type": "code",
      "source": [
        "# Importerer nødvendige biblotek\n",
        "import numpy as np\n",
        "import pandas as pd\n",
        "from sklearn.datasets import fetch_california_housing\n",
        "from sklearn.model_selection import train_test_split\n",
        "from sklearn.linear_model import LinearRegression\n",
        "from sklearn.metrics import mean_squared_error, r2_score\n",
        "import matplotlib.pyplot as plt"
      ],
      "metadata": {
        "id": "5pjaMjZ2N1vw"
      },
      "execution_count": 13,
      "outputs": []
    },
    {
      "cell_type": "code",
      "source": [
        "# Laster inn California Housing datasettet\n",
        "data = fetch_california_housing()\n",
        "data"
      ],
      "metadata": {
        "colab": {
          "base_uri": "https://localhost:8080/"
        },
        "id": "c1NkUO3eN5TQ",
        "outputId": "c4fff90f-acac-4427-ef06-dbb74bc880d3"
      },
      "execution_count": 2,
      "outputs": [
        {
          "output_type": "execute_result",
          "data": {
            "text/plain": [
              "{'data': array([[   8.3252    ,   41.        ,    6.98412698, ...,    2.55555556,\n",
              "           37.88      , -122.23      ],\n",
              "        [   8.3014    ,   21.        ,    6.23813708, ...,    2.10984183,\n",
              "           37.86      , -122.22      ],\n",
              "        [   7.2574    ,   52.        ,    8.28813559, ...,    2.80225989,\n",
              "           37.85      , -122.24      ],\n",
              "        ...,\n",
              "        [   1.7       ,   17.        ,    5.20554273, ...,    2.3256351 ,\n",
              "           39.43      , -121.22      ],\n",
              "        [   1.8672    ,   18.        ,    5.32951289, ...,    2.12320917,\n",
              "           39.43      , -121.32      ],\n",
              "        [   2.3886    ,   16.        ,    5.25471698, ...,    2.61698113,\n",
              "           39.37      , -121.24      ]]),\n",
              " 'target': array([4.526, 3.585, 3.521, ..., 0.923, 0.847, 0.894]),\n",
              " 'frame': None,\n",
              " 'target_names': ['MedHouseVal'],\n",
              " 'feature_names': ['MedInc',\n",
              "  'HouseAge',\n",
              "  'AveRooms',\n",
              "  'AveBedrms',\n",
              "  'Population',\n",
              "  'AveOccup',\n",
              "  'Latitude',\n",
              "  'Longitude'],\n",
              " 'DESCR': '.. _california_housing_dataset:\\n\\nCalifornia Housing dataset\\n--------------------------\\n\\n**Data Set Characteristics:**\\n\\n:Number of Instances: 20640\\n\\n:Number of Attributes: 8 numeric, predictive attributes and the target\\n\\n:Attribute Information:\\n    - MedInc        median income in block group\\n    - HouseAge      median house age in block group\\n    - AveRooms      average number of rooms per household\\n    - AveBedrms     average number of bedrooms per household\\n    - Population    block group population\\n    - AveOccup      average number of household members\\n    - Latitude      block group latitude\\n    - Longitude     block group longitude\\n\\n:Missing Attribute Values: None\\n\\nThis dataset was obtained from the StatLib repository.\\nhttps://www.dcc.fc.up.pt/~ltorgo/Regression/cal_housing.html\\n\\nThe target variable is the median house value for California districts,\\nexpressed in hundreds of thousands of dollars ($100,000).\\n\\nThis dataset was derived from the 1990 U.S. census, using one row per census\\nblock group. A block group is the smallest geographical unit for which the U.S.\\nCensus Bureau publishes sample data (a block group typically has a population\\nof 600 to 3,000 people).\\n\\nA household is a group of people residing within a home. Since the average\\nnumber of rooms and bedrooms in this dataset are provided per household, these\\ncolumns may take surprisingly large values for block groups with few households\\nand many empty houses, such as vacation resorts.\\n\\nIt can be downloaded/loaded using the\\n:func:`sklearn.datasets.fetch_california_housing` function.\\n\\n.. rubric:: References\\n\\n- Pace, R. Kelley and Ronald Barry, Sparse Spatial Autoregressions,\\n  Statistics and Probability Letters, 33 (1997) 291-297\\n'}"
            ]
          },
          "metadata": {},
          "execution_count": 2
        }
      ]
    },
    {
      "cell_type": "code",
      "source": [
        "print(data['DESCR'])"
      ],
      "metadata": {
        "colab": {
          "base_uri": "https://localhost:8080/"
        },
        "id": "b-ItQBlEt0i4",
        "outputId": "e78b1c9c-2adf-4c6e-ee45-4a4132ed2bac"
      },
      "execution_count": 4,
      "outputs": [
        {
          "output_type": "stream",
          "name": "stdout",
          "text": [
            ".. _california_housing_dataset:\n",
            "\n",
            "California Housing dataset\n",
            "--------------------------\n",
            "\n",
            "**Data Set Characteristics:**\n",
            "\n",
            ":Number of Instances: 20640\n",
            "\n",
            ":Number of Attributes: 8 numeric, predictive attributes and the target\n",
            "\n",
            ":Attribute Information:\n",
            "    - MedInc        median income in block group\n",
            "    - HouseAge      median house age in block group\n",
            "    - AveRooms      average number of rooms per household\n",
            "    - AveBedrms     average number of bedrooms per household\n",
            "    - Population    block group population\n",
            "    - AveOccup      average number of household members\n",
            "    - Latitude      block group latitude\n",
            "    - Longitude     block group longitude\n",
            "\n",
            ":Missing Attribute Values: None\n",
            "\n",
            "This dataset was obtained from the StatLib repository.\n",
            "https://www.dcc.fc.up.pt/~ltorgo/Regression/cal_housing.html\n",
            "\n",
            "The target variable is the median house value for California districts,\n",
            "expressed in hundreds of thousands of dollars ($100,000).\n",
            "\n",
            "This dataset was derived from the 1990 U.S. census, using one row per census\n",
            "block group. A block group is the smallest geographical unit for which the U.S.\n",
            "Census Bureau publishes sample data (a block group typically has a population\n",
            "of 600 to 3,000 people).\n",
            "\n",
            "A household is a group of people residing within a home. Since the average\n",
            "number of rooms and bedrooms in this dataset are provided per household, these\n",
            "columns may take surprisingly large values for block groups with few households\n",
            "and many empty houses, such as vacation resorts.\n",
            "\n",
            "It can be downloaded/loaded using the\n",
            ":func:`sklearn.datasets.fetch_california_housing` function.\n",
            "\n",
            ".. rubric:: References\n",
            "\n",
            "- Pace, R. Kelley and Ronald Barry, Sparse Spatial Autoregressions,\n",
            "  Statistics and Probability Letters, 33 (1997) 291-297\n",
            "\n"
          ]
        }
      ]
    },
    {
      "cell_type": "code",
      "source": [
        "pd.DataFrame(data.data, columns=data.feature_names)"
      ],
      "metadata": {
        "colab": {
          "base_uri": "https://localhost:8080/",
          "height": 424
        },
        "id": "8IEMW0LwOMv2",
        "outputId": "6d570776-24d2-48d4-dc4c-157931496fc0"
      },
      "execution_count": 5,
      "outputs": [
        {
          "output_type": "execute_result",
          "data": {
            "text/plain": [
              "       MedInc  HouseAge  AveRooms  AveBedrms  Population  AveOccup  Latitude  \\\n",
              "0      8.3252      41.0  6.984127   1.023810       322.0  2.555556     37.88   \n",
              "1      8.3014      21.0  6.238137   0.971880      2401.0  2.109842     37.86   \n",
              "2      7.2574      52.0  8.288136   1.073446       496.0  2.802260     37.85   \n",
              "3      5.6431      52.0  5.817352   1.073059       558.0  2.547945     37.85   \n",
              "4      3.8462      52.0  6.281853   1.081081       565.0  2.181467     37.85   \n",
              "...       ...       ...       ...        ...         ...       ...       ...   \n",
              "20635  1.5603      25.0  5.045455   1.133333       845.0  2.560606     39.48   \n",
              "20636  2.5568      18.0  6.114035   1.315789       356.0  3.122807     39.49   \n",
              "20637  1.7000      17.0  5.205543   1.120092      1007.0  2.325635     39.43   \n",
              "20638  1.8672      18.0  5.329513   1.171920       741.0  2.123209     39.43   \n",
              "20639  2.3886      16.0  5.254717   1.162264      1387.0  2.616981     39.37   \n",
              "\n",
              "       Longitude  \n",
              "0        -122.23  \n",
              "1        -122.22  \n",
              "2        -122.24  \n",
              "3        -122.25  \n",
              "4        -122.25  \n",
              "...          ...  \n",
              "20635    -121.09  \n",
              "20636    -121.21  \n",
              "20637    -121.22  \n",
              "20638    -121.32  \n",
              "20639    -121.24  \n",
              "\n",
              "[20640 rows x 8 columns]"
            ],
            "text/html": [
              "\n",
              "  <div id=\"df-6764ce13-29a2-4dcb-aa04-514a54c73d08\" class=\"colab-df-container\">\n",
              "    <div>\n",
              "<style scoped>\n",
              "    .dataframe tbody tr th:only-of-type {\n",
              "        vertical-align: middle;\n",
              "    }\n",
              "\n",
              "    .dataframe tbody tr th {\n",
              "        vertical-align: top;\n",
              "    }\n",
              "\n",
              "    .dataframe thead th {\n",
              "        text-align: right;\n",
              "    }\n",
              "</style>\n",
              "<table border=\"1\" class=\"dataframe\">\n",
              "  <thead>\n",
              "    <tr style=\"text-align: right;\">\n",
              "      <th></th>\n",
              "      <th>MedInc</th>\n",
              "      <th>HouseAge</th>\n",
              "      <th>AveRooms</th>\n",
              "      <th>AveBedrms</th>\n",
              "      <th>Population</th>\n",
              "      <th>AveOccup</th>\n",
              "      <th>Latitude</th>\n",
              "      <th>Longitude</th>\n",
              "    </tr>\n",
              "  </thead>\n",
              "  <tbody>\n",
              "    <tr>\n",
              "      <th>0</th>\n",
              "      <td>8.3252</td>\n",
              "      <td>41.0</td>\n",
              "      <td>6.984127</td>\n",
              "      <td>1.023810</td>\n",
              "      <td>322.0</td>\n",
              "      <td>2.555556</td>\n",
              "      <td>37.88</td>\n",
              "      <td>-122.23</td>\n",
              "    </tr>\n",
              "    <tr>\n",
              "      <th>1</th>\n",
              "      <td>8.3014</td>\n",
              "      <td>21.0</td>\n",
              "      <td>6.238137</td>\n",
              "      <td>0.971880</td>\n",
              "      <td>2401.0</td>\n",
              "      <td>2.109842</td>\n",
              "      <td>37.86</td>\n",
              "      <td>-122.22</td>\n",
              "    </tr>\n",
              "    <tr>\n",
              "      <th>2</th>\n",
              "      <td>7.2574</td>\n",
              "      <td>52.0</td>\n",
              "      <td>8.288136</td>\n",
              "      <td>1.073446</td>\n",
              "      <td>496.0</td>\n",
              "      <td>2.802260</td>\n",
              "      <td>37.85</td>\n",
              "      <td>-122.24</td>\n",
              "    </tr>\n",
              "    <tr>\n",
              "      <th>3</th>\n",
              "      <td>5.6431</td>\n",
              "      <td>52.0</td>\n",
              "      <td>5.817352</td>\n",
              "      <td>1.073059</td>\n",
              "      <td>558.0</td>\n",
              "      <td>2.547945</td>\n",
              "      <td>37.85</td>\n",
              "      <td>-122.25</td>\n",
              "    </tr>\n",
              "    <tr>\n",
              "      <th>4</th>\n",
              "      <td>3.8462</td>\n",
              "      <td>52.0</td>\n",
              "      <td>6.281853</td>\n",
              "      <td>1.081081</td>\n",
              "      <td>565.0</td>\n",
              "      <td>2.181467</td>\n",
              "      <td>37.85</td>\n",
              "      <td>-122.25</td>\n",
              "    </tr>\n",
              "    <tr>\n",
              "      <th>...</th>\n",
              "      <td>...</td>\n",
              "      <td>...</td>\n",
              "      <td>...</td>\n",
              "      <td>...</td>\n",
              "      <td>...</td>\n",
              "      <td>...</td>\n",
              "      <td>...</td>\n",
              "      <td>...</td>\n",
              "    </tr>\n",
              "    <tr>\n",
              "      <th>20635</th>\n",
              "      <td>1.5603</td>\n",
              "      <td>25.0</td>\n",
              "      <td>5.045455</td>\n",
              "      <td>1.133333</td>\n",
              "      <td>845.0</td>\n",
              "      <td>2.560606</td>\n",
              "      <td>39.48</td>\n",
              "      <td>-121.09</td>\n",
              "    </tr>\n",
              "    <tr>\n",
              "      <th>20636</th>\n",
              "      <td>2.5568</td>\n",
              "      <td>18.0</td>\n",
              "      <td>6.114035</td>\n",
              "      <td>1.315789</td>\n",
              "      <td>356.0</td>\n",
              "      <td>3.122807</td>\n",
              "      <td>39.49</td>\n",
              "      <td>-121.21</td>\n",
              "    </tr>\n",
              "    <tr>\n",
              "      <th>20637</th>\n",
              "      <td>1.7000</td>\n",
              "      <td>17.0</td>\n",
              "      <td>5.205543</td>\n",
              "      <td>1.120092</td>\n",
              "      <td>1007.0</td>\n",
              "      <td>2.325635</td>\n",
              "      <td>39.43</td>\n",
              "      <td>-121.22</td>\n",
              "    </tr>\n",
              "    <tr>\n",
              "      <th>20638</th>\n",
              "      <td>1.8672</td>\n",
              "      <td>18.0</td>\n",
              "      <td>5.329513</td>\n",
              "      <td>1.171920</td>\n",
              "      <td>741.0</td>\n",
              "      <td>2.123209</td>\n",
              "      <td>39.43</td>\n",
              "      <td>-121.32</td>\n",
              "    </tr>\n",
              "    <tr>\n",
              "      <th>20639</th>\n",
              "      <td>2.3886</td>\n",
              "      <td>16.0</td>\n",
              "      <td>5.254717</td>\n",
              "      <td>1.162264</td>\n",
              "      <td>1387.0</td>\n",
              "      <td>2.616981</td>\n",
              "      <td>39.37</td>\n",
              "      <td>-121.24</td>\n",
              "    </tr>\n",
              "  </tbody>\n",
              "</table>\n",
              "<p>20640 rows × 8 columns</p>\n",
              "</div>\n",
              "    <div class=\"colab-df-buttons\">\n",
              "\n",
              "  <div class=\"colab-df-container\">\n",
              "    <button class=\"colab-df-convert\" onclick=\"convertToInteractive('df-6764ce13-29a2-4dcb-aa04-514a54c73d08')\"\n",
              "            title=\"Convert this dataframe to an interactive table.\"\n",
              "            style=\"display:none;\">\n",
              "\n",
              "  <svg xmlns=\"http://www.w3.org/2000/svg\" height=\"24px\" viewBox=\"0 -960 960 960\">\n",
              "    <path d=\"M120-120v-720h720v720H120Zm60-500h600v-160H180v160Zm220 220h160v-160H400v160Zm0 220h160v-160H400v160ZM180-400h160v-160H180v160Zm440 0h160v-160H620v160ZM180-180h160v-160H180v160Zm440 0h160v-160H620v160Z\"/>\n",
              "  </svg>\n",
              "    </button>\n",
              "\n",
              "  <style>\n",
              "    .colab-df-container {\n",
              "      display:flex;\n",
              "      gap: 12px;\n",
              "    }\n",
              "\n",
              "    .colab-df-convert {\n",
              "      background-color: #E8F0FE;\n",
              "      border: none;\n",
              "      border-radius: 50%;\n",
              "      cursor: pointer;\n",
              "      display: none;\n",
              "      fill: #1967D2;\n",
              "      height: 32px;\n",
              "      padding: 0 0 0 0;\n",
              "      width: 32px;\n",
              "    }\n",
              "\n",
              "    .colab-df-convert:hover {\n",
              "      background-color: #E2EBFA;\n",
              "      box-shadow: 0px 1px 2px rgba(60, 64, 67, 0.3), 0px 1px 3px 1px rgba(60, 64, 67, 0.15);\n",
              "      fill: #174EA6;\n",
              "    }\n",
              "\n",
              "    .colab-df-buttons div {\n",
              "      margin-bottom: 4px;\n",
              "    }\n",
              "\n",
              "    [theme=dark] .colab-df-convert {\n",
              "      background-color: #3B4455;\n",
              "      fill: #D2E3FC;\n",
              "    }\n",
              "\n",
              "    [theme=dark] .colab-df-convert:hover {\n",
              "      background-color: #434B5C;\n",
              "      box-shadow: 0px 1px 3px 1px rgba(0, 0, 0, 0.15);\n",
              "      filter: drop-shadow(0px 1px 2px rgba(0, 0, 0, 0.3));\n",
              "      fill: #FFFFFF;\n",
              "    }\n",
              "  </style>\n",
              "\n",
              "    <script>\n",
              "      const buttonEl =\n",
              "        document.querySelector('#df-6764ce13-29a2-4dcb-aa04-514a54c73d08 button.colab-df-convert');\n",
              "      buttonEl.style.display =\n",
              "        google.colab.kernel.accessAllowed ? 'block' : 'none';\n",
              "\n",
              "      async function convertToInteractive(key) {\n",
              "        const element = document.querySelector('#df-6764ce13-29a2-4dcb-aa04-514a54c73d08');\n",
              "        const dataTable =\n",
              "          await google.colab.kernel.invokeFunction('convertToInteractive',\n",
              "                                                    [key], {});\n",
              "        if (!dataTable) return;\n",
              "\n",
              "        const docLinkHtml = 'Like what you see? Visit the ' +\n",
              "          '<a target=\"_blank\" href=https://colab.research.google.com/notebooks/data_table.ipynb>data table notebook</a>'\n",
              "          + ' to learn more about interactive tables.';\n",
              "        element.innerHTML = '';\n",
              "        dataTable['output_type'] = 'display_data';\n",
              "        await google.colab.output.renderOutput(dataTable, element);\n",
              "        const docLink = document.createElement('div');\n",
              "        docLink.innerHTML = docLinkHtml;\n",
              "        element.appendChild(docLink);\n",
              "      }\n",
              "    </script>\n",
              "  </div>\n",
              "\n",
              "\n",
              "<div id=\"df-9664cc46-51c3-4e35-af07-62be1fd5032e\">\n",
              "  <button class=\"colab-df-quickchart\" onclick=\"quickchart('df-9664cc46-51c3-4e35-af07-62be1fd5032e')\"\n",
              "            title=\"Suggest charts\"\n",
              "            style=\"display:none;\">\n",
              "\n",
              "<svg xmlns=\"http://www.w3.org/2000/svg\" height=\"24px\"viewBox=\"0 0 24 24\"\n",
              "     width=\"24px\">\n",
              "    <g>\n",
              "        <path d=\"M19 3H5c-1.1 0-2 .9-2 2v14c0 1.1.9 2 2 2h14c1.1 0 2-.9 2-2V5c0-1.1-.9-2-2-2zM9 17H7v-7h2v7zm4 0h-2V7h2v10zm4 0h-2v-4h2v4z\"/>\n",
              "    </g>\n",
              "</svg>\n",
              "  </button>\n",
              "\n",
              "<style>\n",
              "  .colab-df-quickchart {\n",
              "      --bg-color: #E8F0FE;\n",
              "      --fill-color: #1967D2;\n",
              "      --hover-bg-color: #E2EBFA;\n",
              "      --hover-fill-color: #174EA6;\n",
              "      --disabled-fill-color: #AAA;\n",
              "      --disabled-bg-color: #DDD;\n",
              "  }\n",
              "\n",
              "  [theme=dark] .colab-df-quickchart {\n",
              "      --bg-color: #3B4455;\n",
              "      --fill-color: #D2E3FC;\n",
              "      --hover-bg-color: #434B5C;\n",
              "      --hover-fill-color: #FFFFFF;\n",
              "      --disabled-bg-color: #3B4455;\n",
              "      --disabled-fill-color: #666;\n",
              "  }\n",
              "\n",
              "  .colab-df-quickchart {\n",
              "    background-color: var(--bg-color);\n",
              "    border: none;\n",
              "    border-radius: 50%;\n",
              "    cursor: pointer;\n",
              "    display: none;\n",
              "    fill: var(--fill-color);\n",
              "    height: 32px;\n",
              "    padding: 0;\n",
              "    width: 32px;\n",
              "  }\n",
              "\n",
              "  .colab-df-quickchart:hover {\n",
              "    background-color: var(--hover-bg-color);\n",
              "    box-shadow: 0 1px 2px rgba(60, 64, 67, 0.3), 0 1px 3px 1px rgba(60, 64, 67, 0.15);\n",
              "    fill: var(--button-hover-fill-color);\n",
              "  }\n",
              "\n",
              "  .colab-df-quickchart-complete:disabled,\n",
              "  .colab-df-quickchart-complete:disabled:hover {\n",
              "    background-color: var(--disabled-bg-color);\n",
              "    fill: var(--disabled-fill-color);\n",
              "    box-shadow: none;\n",
              "  }\n",
              "\n",
              "  .colab-df-spinner {\n",
              "    border: 2px solid var(--fill-color);\n",
              "    border-color: transparent;\n",
              "    border-bottom-color: var(--fill-color);\n",
              "    animation:\n",
              "      spin 1s steps(1) infinite;\n",
              "  }\n",
              "\n",
              "  @keyframes spin {\n",
              "    0% {\n",
              "      border-color: transparent;\n",
              "      border-bottom-color: var(--fill-color);\n",
              "      border-left-color: var(--fill-color);\n",
              "    }\n",
              "    20% {\n",
              "      border-color: transparent;\n",
              "      border-left-color: var(--fill-color);\n",
              "      border-top-color: var(--fill-color);\n",
              "    }\n",
              "    30% {\n",
              "      border-color: transparent;\n",
              "      border-left-color: var(--fill-color);\n",
              "      border-top-color: var(--fill-color);\n",
              "      border-right-color: var(--fill-color);\n",
              "    }\n",
              "    40% {\n",
              "      border-color: transparent;\n",
              "      border-right-color: var(--fill-color);\n",
              "      border-top-color: var(--fill-color);\n",
              "    }\n",
              "    60% {\n",
              "      border-color: transparent;\n",
              "      border-right-color: var(--fill-color);\n",
              "    }\n",
              "    80% {\n",
              "      border-color: transparent;\n",
              "      border-right-color: var(--fill-color);\n",
              "      border-bottom-color: var(--fill-color);\n",
              "    }\n",
              "    90% {\n",
              "      border-color: transparent;\n",
              "      border-bottom-color: var(--fill-color);\n",
              "    }\n",
              "  }\n",
              "</style>\n",
              "\n",
              "  <script>\n",
              "    async function quickchart(key) {\n",
              "      const quickchartButtonEl =\n",
              "        document.querySelector('#' + key + ' button');\n",
              "      quickchartButtonEl.disabled = true;  // To prevent multiple clicks.\n",
              "      quickchartButtonEl.classList.add('colab-df-spinner');\n",
              "      try {\n",
              "        const charts = await google.colab.kernel.invokeFunction(\n",
              "            'suggestCharts', [key], {});\n",
              "      } catch (error) {\n",
              "        console.error('Error during call to suggestCharts:', error);\n",
              "      }\n",
              "      quickchartButtonEl.classList.remove('colab-df-spinner');\n",
              "      quickchartButtonEl.classList.add('colab-df-quickchart-complete');\n",
              "    }\n",
              "    (() => {\n",
              "      let quickchartButtonEl =\n",
              "        document.querySelector('#df-9664cc46-51c3-4e35-af07-62be1fd5032e button');\n",
              "      quickchartButtonEl.style.display =\n",
              "        google.colab.kernel.accessAllowed ? 'block' : 'none';\n",
              "    })();\n",
              "  </script>\n",
              "</div>\n",
              "\n",
              "    </div>\n",
              "  </div>\n"
            ],
            "application/vnd.google.colaboratory.intrinsic+json": {
              "type": "dataframe",
              "summary": "{\n  \"name\": \"pd\",\n  \"rows\": 20640,\n  \"fields\": [\n    {\n      \"column\": \"MedInc\",\n      \"properties\": {\n        \"dtype\": \"number\",\n        \"std\": 1.8998217179452732,\n        \"min\": 0.4999,\n        \"max\": 15.0001,\n        \"num_unique_values\": 12928,\n        \"samples\": [\n          5.0286,\n          2.0433,\n          6.1228\n        ],\n        \"semantic_type\": \"\",\n        \"description\": \"\"\n      }\n    },\n    {\n      \"column\": \"HouseAge\",\n      \"properties\": {\n        \"dtype\": \"number\",\n        \"std\": 12.585557612111637,\n        \"min\": 1.0,\n        \"max\": 52.0,\n        \"num_unique_values\": 52,\n        \"samples\": [\n          35.0,\n          25.0,\n          7.0\n        ],\n        \"semantic_type\": \"\",\n        \"description\": \"\"\n      }\n    },\n    {\n      \"column\": \"AveRooms\",\n      \"properties\": {\n        \"dtype\": \"number\",\n        \"std\": 2.4741731394243205,\n        \"min\": 0.8461538461538461,\n        \"max\": 141.9090909090909,\n        \"num_unique_values\": 19392,\n        \"samples\": [\n          6.111269614835948,\n          5.912820512820513,\n          5.7924528301886795\n        ],\n        \"semantic_type\": \"\",\n        \"description\": \"\"\n      }\n    },\n    {\n      \"column\": \"AveBedrms\",\n      \"properties\": {\n        \"dtype\": \"number\",\n        \"std\": 0.47391085679546435,\n        \"min\": 0.3333333333333333,\n        \"max\": 34.06666666666667,\n        \"num_unique_values\": 14233,\n        \"samples\": [\n          0.9906542056074766,\n          1.112099644128114,\n          1.0398230088495575\n        ],\n        \"semantic_type\": \"\",\n        \"description\": \"\"\n      }\n    },\n    {\n      \"column\": \"Population\",\n      \"properties\": {\n        \"dtype\": \"number\",\n        \"std\": 1132.4621217653375,\n        \"min\": 3.0,\n        \"max\": 35682.0,\n        \"num_unique_values\": 3888,\n        \"samples\": [\n          4169.0,\n          636.0,\n          3367.0\n        ],\n        \"semantic_type\": \"\",\n        \"description\": \"\"\n      }\n    },\n    {\n      \"column\": \"AveOccup\",\n      \"properties\": {\n        \"dtype\": \"number\",\n        \"std\": 10.386049562213591,\n        \"min\": 0.6923076923076923,\n        \"max\": 1243.3333333333333,\n        \"num_unique_values\": 18841,\n        \"samples\": [\n          2.6939799331103678,\n          3.559375,\n          3.297082228116711\n        ],\n        \"semantic_type\": \"\",\n        \"description\": \"\"\n      }\n    },\n    {\n      \"column\": \"Latitude\",\n      \"properties\": {\n        \"dtype\": \"number\",\n        \"std\": 2.1359523974571117,\n        \"min\": 32.54,\n        \"max\": 41.95,\n        \"num_unique_values\": 862,\n        \"samples\": [\n          33.7,\n          34.41,\n          38.24\n        ],\n        \"semantic_type\": \"\",\n        \"description\": \"\"\n      }\n    },\n    {\n      \"column\": \"Longitude\",\n      \"properties\": {\n        \"dtype\": \"number\",\n        \"std\": 2.003531723502581,\n        \"min\": -124.35,\n        \"max\": -114.31,\n        \"num_unique_values\": 844,\n        \"samples\": [\n          -118.63,\n          -119.86,\n          -121.26\n        ],\n        \"semantic_type\": \"\",\n        \"description\": \"\"\n      }\n    }\n  ]\n}"
            }
          },
          "metadata": {},
          "execution_count": 5
        }
      ]
    },
    {
      "cell_type": "code",
      "source": [
        "pd.Series(data.target, name=\"MedianHouseValue\")"
      ],
      "metadata": {
        "colab": {
          "base_uri": "https://localhost:8080/",
          "height": 458
        },
        "id": "4QPiBE0tOXY8",
        "outputId": "c4b5bb07-8113-4420-c9e5-2d7abe12823d"
      },
      "execution_count": 6,
      "outputs": [
        {
          "output_type": "execute_result",
          "data": {
            "text/plain": [
              "0        4.526\n",
              "1        3.585\n",
              "2        3.521\n",
              "3        3.413\n",
              "4        3.422\n",
              "         ...  \n",
              "20635    0.781\n",
              "20636    0.771\n",
              "20637    0.923\n",
              "20638    0.847\n",
              "20639    0.894\n",
              "Name: MedianHouseValue, Length: 20640, dtype: float64"
            ],
            "text/html": [
              "<div>\n",
              "<style scoped>\n",
              "    .dataframe tbody tr th:only-of-type {\n",
              "        vertical-align: middle;\n",
              "    }\n",
              "\n",
              "    .dataframe tbody tr th {\n",
              "        vertical-align: top;\n",
              "    }\n",
              "\n",
              "    .dataframe thead th {\n",
              "        text-align: right;\n",
              "    }\n",
              "</style>\n",
              "<table border=\"1\" class=\"dataframe\">\n",
              "  <thead>\n",
              "    <tr style=\"text-align: right;\">\n",
              "      <th></th>\n",
              "      <th>MedianHouseValue</th>\n",
              "    </tr>\n",
              "  </thead>\n",
              "  <tbody>\n",
              "    <tr>\n",
              "      <th>0</th>\n",
              "      <td>4.526</td>\n",
              "    </tr>\n",
              "    <tr>\n",
              "      <th>1</th>\n",
              "      <td>3.585</td>\n",
              "    </tr>\n",
              "    <tr>\n",
              "      <th>2</th>\n",
              "      <td>3.521</td>\n",
              "    </tr>\n",
              "    <tr>\n",
              "      <th>3</th>\n",
              "      <td>3.413</td>\n",
              "    </tr>\n",
              "    <tr>\n",
              "      <th>4</th>\n",
              "      <td>3.422</td>\n",
              "    </tr>\n",
              "    <tr>\n",
              "      <th>...</th>\n",
              "      <td>...</td>\n",
              "    </tr>\n",
              "    <tr>\n",
              "      <th>20635</th>\n",
              "      <td>0.781</td>\n",
              "    </tr>\n",
              "    <tr>\n",
              "      <th>20636</th>\n",
              "      <td>0.771</td>\n",
              "    </tr>\n",
              "    <tr>\n",
              "      <th>20637</th>\n",
              "      <td>0.923</td>\n",
              "    </tr>\n",
              "    <tr>\n",
              "      <th>20638</th>\n",
              "      <td>0.847</td>\n",
              "    </tr>\n",
              "    <tr>\n",
              "      <th>20639</th>\n",
              "      <td>0.894</td>\n",
              "    </tr>\n",
              "  </tbody>\n",
              "</table>\n",
              "<p>20640 rows × 1 columns</p>\n",
              "</div><br><label><b>dtype:</b> float64</label>"
            ]
          },
          "metadata": {},
          "execution_count": 6
        }
      ]
    },
    {
      "cell_type": "code",
      "source": [
        "X = pd.DataFrame(data.data, columns=data.feature_names)  # Features/input\n",
        "X = X[['MedInc']]                                        # Velger å se på en enkel lineær regresjon\n",
        "y = pd.Series(data.target, name=\"MedianHouseValue\")      # Målvariabel (House value)"
      ],
      "metadata": {
        "id": "DnArDjLo0V2_"
      },
      "execution_count": 7,
      "outputs": []
    },
    {
      "cell_type": "code",
      "source": [
        "# Visualiserer de første fem radene av dataen vår.\n",
        "print(\"Features:\\n\", X.head())\n",
        "print(\"\\nTarget:\\n\", y.head())"
      ],
      "metadata": {
        "colab": {
          "base_uri": "https://localhost:8080/"
        },
        "id": "4llq6aly1I89",
        "outputId": "e6a48ef0-3ee6-4bdf-ac71-d2d43e5b671e"
      },
      "execution_count": 8,
      "outputs": [
        {
          "output_type": "stream",
          "name": "stdout",
          "text": [
            "Features:\n",
            "    MedInc\n",
            "0  8.3252\n",
            "1  8.3014\n",
            "2  7.2574\n",
            "3  5.6431\n",
            "4  3.8462\n",
            "\n",
            "Target:\n",
            " 0    4.526\n",
            "1    3.585\n",
            "2    3.521\n",
            "3    3.413\n",
            "4    3.422\n",
            "Name: MedianHouseValue, dtype: float64\n"
          ]
        }
      ]
    },
    {
      "cell_type": "code",
      "source": [
        "# Splitter data iinn i trening og testing sets (80% train, 20% test)\n",
        "X_train, X_test, y_train, y_test = train_test_split(X, y, test_size=0.2, random_state=42)"
      ],
      "metadata": {
        "id": "hCs13AO_1MYL"
      },
      "execution_count": 9,
      "outputs": []
    },
    {
      "cell_type": "code",
      "source": [
        "# Initierer Linear Regression model\n",
        "model = LinearRegression()\n",
        "\n",
        "# Trener modellen på treningssettet\n",
        "model.fit(X_train, y_train)\n",
        "\n",
        "# Gjør prediksjoner på test-settet\n",
        "y_pred = model.predict(X_test)"
      ],
      "metadata": {
        "id": "UR1PDbeiv-zz"
      },
      "execution_count": 10,
      "outputs": []
    },
    {
      "cell_type": "code",
      "source": [
        "# Evaluerer modellen\n",
        "mse = mean_squared_error(y_test, y_pred)  # Mean Squared Error\n",
        "r2 = r2_score(y_test, y_pred)             # R-squared value\n",
        "\n",
        "print(f\"\\nModel Evaluation:\\nMean Squared Error: {mse:.2f}\")\n",
        "print(f\"R-squared: {r2:.2f}\")\n",
        "\n",
        "# Plotter datapunktene og regresjonslinja.\n",
        "plt.figure(figsize=(10, 6))\n",
        "plt.scatter(X_test, y_test, color='blue', alpha=0.5, label=\"Faktiske data\")\n",
        "plt.plot(X_test, y_pred, color='red', linewidth=2, label=\"Regresjonslinje\")\n",
        "plt.xlabel(\"Gj.snittlig inntekt\")\n",
        "plt.ylabel(\"Median House Value\")\n",
        "plt.title(\"Enkel lineær regresjon på California Housing Dataset\")\n",
        "plt.legend()\n",
        "plt.show()"
      ],
      "metadata": {
        "colab": {
          "base_uri": "https://localhost:8080/",
          "height": 653
        },
        "id": "PveMqla41Rfm",
        "outputId": "49eb95bf-7dea-421c-e738-1fb24fef45de"
      },
      "execution_count": 14,
      "outputs": [
        {
          "output_type": "stream",
          "name": "stdout",
          "text": [
            "\n",
            "Model Evaluation:\n",
            "Mean Squared Error: 0.71\n",
            "R-squared: 0.46\n",
            "0.629908653009376\n"
          ]
        },
        {
          "output_type": "display_data",
          "data": {
            "text/plain": [
              "<Figure size 1000x600 with 1 Axes>"
            ],
            "image/png": "[encoded data removed]"
          },
          "metadata": {}
        }
      ]
    },
    {
      "cell_type": "markdown",
      "source": [
        "## Enkel Lineær Regressjon på California Housing-datasettet\n",
        "\n",
        "I dette eksempelet benytter vi **enkel lineær regresjon** til å forutsi husverdier basert på én uavhengig variabel, `MedInc` (medianinntekt). Vi har gjennomført følgende steg i koden:\n",
        "\n",
        "1. **Laster inn datasettet**: Vi starter med California Housing-datasettet, som inneholder flere funksjoner. Her velger vi kun én funksjon, `MedInc`, for å holde analysen enkel og utføre en enkel lineær regresjon.\n",
        "\n",
        "2. **Oppdeling i trenings- og testsett**: Datasettet deles i et treningssett (80%) og et testsett (20%) ved hjelp av `train_test_split`, slik at vi kan trene modellen og evaluere nøyaktigheten.\n",
        "\n",
        "3. **Enkel Lineær Regressjon**:\n",
        "   - I en enkel lineær regresjon prøver vi å finne den beste rette linjen som representerer forholdet mellom vår uavhengige variabel ($X$) (medianinntekt) og vår avhengige variabel ($y$) (husverdi).\n",
        "   - Den lineære regresjonsmodellen antar en lineær sammenheng mellom variablene og kan representeres ved ligningen:\n",
        "     $$\\hat{y} = \\beta_0 + \\beta_1 X$$\n",
        "     hvor:\n",
        "     - $\\hat{y}$ er den predikerte husverdien.\n",
        "     - $\\beta_0$ er konstantleddet (intercept).\n",
        "     - $\\beta_1$ er koeffisienten (helningen) for $X$.\n",
        "\n",
        "4. **Trene modellen**: Vi trener modellen ved å tilpasse den til treningssettet ved å bruke `model.fit(X_train, y_train)`. Dette beregner koeffisientene $\\beta_0$ og $\\beta_1$ basert på dataene i treningssettet.\n",
        "\n",
        "5. **Gjøre prediksjoner**: Etter å ha trent modellen kan vi gjøre prediksjoner på testsettet med `model.predict(X_test)`, som returnerer $\\hat{y}$-verdier for testdataene basert på treningsdataenes lineære sammenheng.\n",
        "\n",
        "6. **Evaluere modellen**: Vi evaluerer modellens nøyaktighet ved å beregne:\n",
        "   - **Mean Squared Error (MSE)**, som måler gjennomsnittlig kvadratisk feil:\n",
        "     $$\\text{MSE} = \\frac{1}{n} \\sum_{i=1}^{n} (y_i - \\hat{y}_i)^2$$\n",
        "   - **R-squared (R²)**, som viser andelen av variasjonen i $y$ som forklares av $X$ i modellen.\n",
        "\n",
        "7. **Visualisere regresjonslinjen**: Vi plotter de faktiske dataene (blå prikker) og den predikerte regresjonslinjen (rød linje) for å vise hvordan modellen passer dataene visuelt.\n",
        "\n",
        "Dette gir oss innsikt i sammenhengen mellom `MedInc` og `MedianHouseValue` i California Housing-datasettet, der høyere medianinntekt ofte korrelerer med høyere husverdi.\n"
      ],
      "metadata": {
        "id": "0tEOIHEI2Fsp"
      }
    },
    {
      "cell_type": "markdown",
      "source": [
        "# Multippel lineær regresjon"
      ],
      "metadata": {
        "id": "UYhEJx6n3l49"
      }
    },
    {
      "cell_type": "code",
      "source": [
        "# Laster inn California Housing datasettet\n",
        "data = fetch_california_housing()\n",
        "X = pd.DataFrame(data.data, columns=data.feature_names)  # Features/input - men beholder alle features!\n",
        "y = pd.Series(data.target, name=\"MedianHouseValue\")      # Målvariabel (House value)\n",
        "\n",
        "# Splitter data inn i training og testing sets (80% train, 20% test)\n",
        "X_train, X_test, y_train, y_test = train_test_split(X, y, test_size=0.2, random_state=42)\n",
        "\n",
        "# Initierer Linear Regression model\n",
        "model = LinearRegression()\n",
        "\n",
        "# Trener modellen på treningssettet\n",
        "model.fit(X_train, y_train)\n",
        "\n",
        "# Gjør prediksjoner på test-settet\n",
        "y_pred = model.predict(X_test)\n",
        "\n",
        "# Evaluer modellen\n",
        "mse = mean_squared_error(y_test, y_pred)  # Mean Squared Error\n",
        "r2 = r2_score(y_test, y_pred)             # R-squared value\n",
        "\n",
        "print(f\"\\nModel Evaluation:\\nMean Squared Error: {mse:.2f}\")\n",
        "print(f\"R-squared: {r2:.2f}\")"
      ],
      "metadata": {
        "colab": {
          "base_uri": "https://localhost:8080/"
        },
        "id": "6TaljM_I2FEl",
        "outputId": "7a0ef6e3-e905-476d-d8ca-c38f8ba3ba07"
      },
      "execution_count": 13,
      "outputs": [
        {
          "output_type": "stream",
          "name": "stdout",
          "text": [
            "\n",
            "Model Evaluation:\n",
            "Mean Squared Error: 0.56\n",
            "R-squared: 0.58\n"
          ]
        }
      ]
    },
    {
      "cell_type": "markdown",
      "source": [
        "## Hva skjedde nå?\n",
        "Hvordan gjør modellen vår det nå, når vi har med alle features fra datasettet? Sammenlignet med over, hvor vi bare hadde én feature?\n",
        "\n",
        "---------"
      ],
      "metadata": {
        "id": "wSuZkSz04_cy"
      }
    },
    {
      "cell_type": "markdown",
      "source": [
        "# Lineær regresjon - for klassifikasjon?\n",
        "I statistikk-kurs, så brukes ofte et datasett kalt 'iris' for å lære seg databehandling og enkle maskinlæringsmodeller. Det ble brukt av den britiske statistikeren og biologen Ronald Fisher.\n",
        "\n",
        "```python\n",
        "# Importerer pandas for å laste datasettet\n",
        "import pandas as pd\n",
        "\n",
        "iris = pd.read_csv('https://raw.githubusercontent.com/mwaskom/seaborn-data/master/iris.csv')\n",
        "```\n",
        "\n",
        "Dette datasettet gir variabelene ```sepal_length```, ```sepal_width```, ```petal_length```, ```petal_width``` og ```species```. Tabellen under forklarer hva disse er:\n",
        "\n",
        "| **Variabelnavn**     | **Beskrivelse**                                           | **Enhet**       | **Type**    |\n",
        "|----------------------|-----------------------------------------------------------|-----------------|-------------|\n",
        "| **sepal length (cm)** | Lengden på begerbladet (sepal) på blomsten                | Centimeter (cm) | Numerisk    |\n",
        "| **sepal width (cm)**  | Bredden på begerbladet (sepal) på blomsten                | Centimeter (cm) | Numerisk    |\n",
        "| **petal length (cm)** | Lengden på kronbladet (petal) på blomsten                 | Centimeter (cm) | Numerisk    |\n",
        "| **petal width (cm)**  | Bredden på kronbladet (petal) på blomsten                 | Centimeter (cm) | Numerisk    |\n",
        "| **species**           | Blomstens art: Setosa, Versicolor eller Virginica         | Kategorisk (blomst-art) | Kategorisk  |\n",
        "\n",
        "Nå skal vi bruke *lineær regresjon* for å predikere blomst-art, basert på de forrige variablene.\n",
        "\n",
        "![IRIS datasett](https://zahidhasan.github.io/images/iris.png)\n"
      ],
      "metadata": {
        "id": "Wr_4v642ClL1"
      }
    },
    {
      "cell_type": "code",
      "source": [
        "import pandas as pd\n",
        "\n",
        "iris = pd.read_csv('https://raw.githubusercontent.com/mwaskom/seaborn-data/master/iris.csv')\n",
        "iris.head() # Inspiserer de første 5 radene"
      ],
      "metadata": {
        "colab": {
          "base_uri": "https://localhost:8080/",
          "height": 206
        },
        "id": "BsLuIYfXDRrt",
        "outputId": "eb935efe-5987-4b05-aaef-67a245fcf2e9"
      },
      "execution_count": 15,
      "outputs": [
        {
          "output_type": "execute_result",
          "data": {
            "text/plain": [
              "   sepal_length  sepal_width  petal_length  petal_width species\n",
              "0           5.1          3.5           1.4          0.2  setosa\n",
              "1           4.9          3.0           1.4          0.2  setosa\n",
              "2           4.7          3.2           1.3          0.2  setosa\n",
              "3           4.6          3.1           1.5          0.2  setosa\n",
              "4           5.0          3.6           1.4          0.2  setosa"
            ],
            "text/html": [
              "\n",
              "  <div id=\"df-1cbd2bee-8be8-4a01-995e-e31f8a9e15f1\" class=\"colab-df-container\">\n",
              "    <div>\n",
              "<style scoped>\n",
              "    .dataframe tbody tr th:only-of-type {\n",
              "        vertical-align: middle;\n",
              "    }\n",
              "\n",
              "    .dataframe tbody tr th {\n",
              "        vertical-align: top;\n",
              "    }\n",
              "\n",
              "    .dataframe thead th {\n",
              "        text-align: right;\n",
              "    }\n",
              "</style>\n",
              "<table border=\"1\" class=\"dataframe\">\n",
              "  <thead>\n",
              "    <tr style=\"text-align: right;\">\n",
              "      <th></th>\n",
              "      <th>sepal_length</th>\n",
              "      <th>sepal_width</th>\n",
              "      <th>petal_length</th>\n",
              "      <th>petal_width</th>\n",
              "      <th>species</th>\n",
              "    </tr>\n",
              "  </thead>\n",
              "  <tbody>\n",
              "    <tr>\n",
              "      <th>0</th>\n",
              "      <td>5.1</td>\n",
              "      <td>3.5</td>\n",
              "      <td>1.4</td>\n",
              "      <td>0.2</td>\n",
              "      <td>setosa</td>\n",
              "    </tr>\n",
              "    <tr>\n",
              "      <th>1</th>\n",
              "      <td>4.9</td>\n",
              "      <td>3.0</td>\n",
              "      <td>1.4</td>\n",
              "      <td>0.2</td>\n",
              "      <td>setosa</td>\n",
              "    </tr>\n",
              "    <tr>\n",
              "      <th>2</th>\n",
              "      <td>4.7</td>\n",
              "      <td>3.2</td>\n",
              "      <td>1.3</td>\n",
              "      <td>0.2</td>\n",
              "      <td>setosa</td>\n",
              "    </tr>\n",
              "    <tr>\n",
              "      <th>3</th>\n",
              "      <td>4.6</td>\n",
              "      <td>3.1</td>\n",
              "      <td>1.5</td>\n",
              "      <td>0.2</td>\n",
              "      <td>setosa</td>\n",
              "    </tr>\n",
              "    <tr>\n",
              "      <th>4</th>\n",
              "      <td>5.0</td>\n",
              "      <td>3.6</td>\n",
              "      <td>1.4</td>\n",
              "      <td>0.2</td>\n",
              "      <td>setosa</td>\n",
              "    </tr>\n",
              "  </tbody>\n",
              "</table>\n",
              "</div>\n",
              "    <div class=\"colab-df-buttons\">\n",
              "\n",
              "  <div class=\"colab-df-container\">\n",
              "    <button class=\"colab-df-convert\" onclick=\"convertToInteractive('df-1cbd2bee-8be8-4a01-995e-e31f8a9e15f1')\"\n",
              "            title=\"Convert this dataframe to an interactive table.\"\n",
              "            style=\"display:none;\">\n",
              "\n",
              "  <svg xmlns=\"http://www.w3.org/2000/svg\" height=\"24px\" viewBox=\"0 -960 960 960\">\n",
              "    <path d=\"M120-120v-720h720v720H120Zm60-500h600v-160H180v160Zm220 220h160v-160H400v160Zm0 220h160v-160H400v160ZM180-400h160v-160H180v160Zm440 0h160v-160H620v160ZM180-180h160v-160H180v160Zm440 0h160v-160H620v160Z\"/>\n",
              "  </svg>\n",
              "    </button>\n",
              "\n",
              "  <style>\n",
              "    .colab-df-container {\n",
              "      display:flex;\n",
              "      gap: 12px;\n",
              "    }\n",
              "\n",
              "    .colab-df-convert {\n",
              "      background-color: #E8F0FE;\n",
              "      border: none;\n",
              "      border-radius: 50%;\n",
              "      cursor: pointer;\n",
              "      display: none;\n",
              "      fill: #1967D2;\n",
              "      height: 32px;\n",
              "      padding: 0 0 0 0;\n",
              "      width: 32px;\n",
              "    }\n",
              "\n",
              "    .colab-df-convert:hover {\n",
              "      background-color: #E2EBFA;\n",
              "      box-shadow: 0px 1px 2px rgba(60, 64, 67, 0.3), 0px 1px 3px 1px rgba(60, 64, 67, 0.15);\n",
              "      fill: #174EA6;\n",
              "    }\n",
              "\n",
              "    .colab-df-buttons div {\n",
              "      margin-bottom: 4px;\n",
              "    }\n",
              "\n",
              "    [theme=dark] .colab-df-convert {\n",
              "      background-color: #3B4455;\n",
              "      fill: #D2E3FC;\n",
              "    }\n",
              "\n",
              "    [theme=dark] .colab-df-convert:hover {\n",
              "      background-color: #434B5C;\n",
              "      box-shadow: 0px 1px 3px 1px rgba(0, 0, 0, 0.15);\n",
              "      filter: drop-shadow(0px 1px 2px rgba(0, 0, 0, 0.3));\n",
              "      fill: #FFFFFF;\n",
              "    }\n",
              "  </style>\n",
              "\n",
              "    <script>\n",
              "      const buttonEl =\n",
              "        document.querySelector('#df-1cbd2bee-8be8-4a01-995e-e31f8a9e15f1 button.colab-df-convert');\n",
              "      buttonEl.style.display =\n",
              "        google.colab.kernel.accessAllowed ? 'block' : 'none';\n",
              "\n",
              "      async function convertToInteractive(key) {\n",
              "        const element = document.querySelector('#df-1cbd2bee-8be8-4a01-995e-e31f8a9e15f1');\n",
              "        const dataTable =\n",
              "          await google.colab.kernel.invokeFunction('convertToInteractive',\n",
              "                                                    [key], {});\n",
              "        if (!dataTable) return;\n",
              "\n",
              "        const docLinkHtml = 'Like what you see? Visit the ' +\n",
              "          '<a target=\"_blank\" href=https://colab.research.google.com/notebooks/data_table.ipynb>data table notebook</a>'\n",
              "          + ' to learn more about interactive tables.';\n",
              "        element.innerHTML = '';\n",
              "        dataTable['output_type'] = 'display_data';\n",
              "        await google.colab.output.renderOutput(dataTable, element);\n",
              "        const docLink = document.createElement('div');\n",
              "        docLink.innerHTML = docLinkHtml;\n",
              "        element.appendChild(docLink);\n",
              "      }\n",
              "    </script>\n",
              "  </div>\n",
              "\n",
              "\n",
              "<div id=\"df-7771f90d-0314-4964-8063-0f503e55808c\">\n",
              "  <button class=\"colab-df-quickchart\" onclick=\"quickchart('df-7771f90d-0314-4964-8063-0f503e55808c')\"\n",
              "            title=\"Suggest charts\"\n",
              "            style=\"display:none;\">\n",
              "\n",
              "<svg xmlns=\"http://www.w3.org/2000/svg\" height=\"24px\"viewBox=\"0 0 24 24\"\n",
              "     width=\"24px\">\n",
              "    <g>\n",
              "        <path d=\"M19 3H5c-1.1 0-2 .9-2 2v14c0 1.1.9 2 2 2h14c1.1 0 2-.9 2-2V5c0-1.1-.9-2-2-2zM9 17H7v-7h2v7zm4 0h-2V7h2v10zm4 0h-2v-4h2v4z\"/>\n",
              "    </g>\n",
              "</svg>\n",
              "  </button>\n",
              "\n",
              "<style>\n",
              "  .colab-df-quickchart {\n",
              "      --bg-color: #E8F0FE;\n",
              "      --fill-color: #1967D2;\n",
              "      --hover-bg-color: #E2EBFA;\n",
              "      --hover-fill-color: #174EA6;\n",
              "      --disabled-fill-color: #AAA;\n",
              "      --disabled-bg-color: #DDD;\n",
              "  }\n",
              "\n",
              "  [theme=dark] .colab-df-quickchart {\n",
              "      --bg-color: #3B4455;\n",
              "      --fill-color: #D2E3FC;\n",
              "      --hover-bg-color: #434B5C;\n",
              "      --hover-fill-color: #FFFFFF;\n",
              "      --disabled-bg-color: #3B4455;\n",
              "      --disabled-fill-color: #666;\n",
              "  }\n",
              "\n",
              "  .colab-df-quickchart {\n",
              "    background-color: var(--bg-color);\n",
              "    border: none;\n",
              "    border-radius: 50%;\n",
              "    cursor: pointer;\n",
              "    display: none;\n",
              "    fill: var(--fill-color);\n",
              "    height: 32px;\n",
              "    padding: 0;\n",
              "    width: 32px;\n",
              "  }\n",
              "\n",
              "  .colab-df-quickchart:hover {\n",
              "    background-color: var(--hover-bg-color);\n",
              "    box-shadow: 0 1px 2px rgba(60, 64, 67, 0.3), 0 1px 3px 1px rgba(60, 64, 67, 0.15);\n",
              "    fill: var(--button-hover-fill-color);\n",
              "  }\n",
              "\n",
              "  .colab-df-quickchart-complete:disabled,\n",
              "  .colab-df-quickchart-complete:disabled:hover {\n",
              "    background-color: var(--disabled-bg-color);\n",
              "    fill: var(--disabled-fill-color);\n",
              "    box-shadow: none;\n",
              "  }\n",
              "\n",
              "  .colab-df-spinner {\n",
              "    border: 2px solid var(--fill-color);\n",
              "    border-color: transparent;\n",
              "    border-bottom-color: var(--fill-color);\n",
              "    animation:\n",
              "      spin 1s steps(1) infinite;\n",
              "  }\n",
              "\n",
              "  @keyframes spin {\n",
              "    0% {\n",
              "      border-color: transparent;\n",
              "      border-bottom-color: var(--fill-color);\n",
              "      border-left-color: var(--fill-color);\n",
              "    }\n",
              "    20% {\n",
              "      border-color: transparent;\n",
              "      border-left-color: var(--fill-color);\n",
              "      border-top-color: var(--fill-color);\n",
              "    }\n",
              "    30% {\n",
              "      border-color: transparent;\n",
              "      border-left-color: var(--fill-color);\n",
              "      border-top-color: var(--fill-color);\n",
              "      border-right-color: var(--fill-color);\n",
              "    }\n",
              "    40% {\n",
              "      border-color: transparent;\n",
              "      border-right-color: var(--fill-color);\n",
              "      border-top-color: var(--fill-color);\n",
              "    }\n",
              "    60% {\n",
              "      border-color: transparent;\n",
              "      border-right-color: var(--fill-color);\n",
              "    }\n",
              "    80% {\n",
              "      border-color: transparent;\n",
              "      border-right-color: var(--fill-color);\n",
              "      border-bottom-color: var(--fill-color);\n",
              "    }\n",
              "    90% {\n",
              "      border-color: transparent;\n",
              "      border-bottom-color: var(--fill-color);\n",
              "    }\n",
              "  }\n",
              "</style>\n",
              "\n",
              "  <script>\n",
              "    async function quickchart(key) {\n",
              "      const quickchartButtonEl =\n",
              "        document.querySelector('#' + key + ' button');\n",
              "      quickchartButtonEl.disabled = true;  // To prevent multiple clicks.\n",
              "      quickchartButtonEl.classList.add('colab-df-spinner');\n",
              "      try {\n",
              "        const charts = await google.colab.kernel.invokeFunction(\n",
              "            'suggestCharts', [key], {});\n",
              "      } catch (error) {\n",
              "        console.error('Error during call to suggestCharts:', error);\n",
              "      }\n",
              "      quickchartButtonEl.classList.remove('colab-df-spinner');\n",
              "      quickchartButtonEl.classList.add('colab-df-quickchart-complete');\n",
              "    }\n",
              "    (() => {\n",
              "      let quickchartButtonEl =\n",
              "        document.querySelector('#df-7771f90d-0314-4964-8063-0f503e55808c button');\n",
              "      quickchartButtonEl.style.display =\n",
              "        google.colab.kernel.accessAllowed ? 'block' : 'none';\n",
              "    })();\n",
              "  </script>\n",
              "</div>\n",
              "\n",
              "    </div>\n",
              "  </div>\n"
            ],
            "application/vnd.google.colaboratory.intrinsic+json": {
              "type": "dataframe",
              "variable_name": "iris",
              "summary": "{\n  \"name\": \"iris\",\n  \"rows\": 150,\n  \"fields\": [\n    {\n      \"column\": \"sepal_length\",\n      \"properties\": {\n        \"dtype\": \"number\",\n        \"std\": 0.8280661279778629,\n        \"min\": 4.3,\n        \"max\": 7.9,\n        \"num_unique_values\": 35,\n        \"samples\": [\n          6.2,\n          4.5,\n          5.6\n        ],\n        \"semantic_type\": \"\",\n        \"description\": \"\"\n      }\n    },\n    {\n      \"column\": \"sepal_width\",\n      \"properties\": {\n        \"dtype\": \"number\",\n        \"std\": 0.435866284936698,\n        \"min\": 2.0,\n        \"max\": 4.4,\n        \"num_unique_values\": 23,\n        \"samples\": [\n          2.3,\n          4.0,\n          3.5\n        ],\n        \"semantic_type\": \"\",\n        \"description\": \"\"\n      }\n    },\n    {\n      \"column\": \"petal_length\",\n      \"properties\": {\n        \"dtype\": \"number\",\n        \"std\": 1.7652982332594667,\n        \"min\": 1.0,\n        \"max\": 6.9,\n        \"num_unique_values\": 43,\n        \"samples\": [\n          6.7,\n          3.8,\n          3.7\n        ],\n        \"semantic_type\": \"\",\n        \"description\": \"\"\n      }\n    },\n    {\n      \"column\": \"petal_width\",\n      \"properties\": {\n        \"dtype\": \"number\",\n        \"std\": 0.7622376689603465,\n        \"min\": 0.1,\n        \"max\": 2.5,\n        \"num_unique_values\": 22,\n        \"samples\": [\n          0.2,\n          1.2,\n          1.3\n        ],\n        \"semantic_type\": \"\",\n        \"description\": \"\"\n      }\n    },\n    {\n      \"column\": \"species\",\n      \"properties\": {\n        \"dtype\": \"category\",\n        \"num_unique_values\": 3,\n        \"samples\": [\n          \"setosa\",\n          \"versicolor\",\n          \"virginica\"\n        ],\n        \"semantic_type\": \"\",\n        \"description\": \"\"\n      }\n    }\n  ]\n}"
            }
          },
          "metadata": {},
          "execution_count": 15
        }
      ]
    },
    {
      "cell_type": "code",
      "source": [
        "# Importer nødvendige biblioteker\n",
        "import numpy as np\n",
        "from sklearn.linear_model import LinearRegression\n",
        "from sklearn.model_selection import train_test_split\n",
        "from sklearn.preprocessing import LabelEncoder\n",
        "from sklearn.metrics import accuracy_score\n",
        "\n",
        "# Konverter arten til numeriske verdier, altså output'et (y-verdien)\n",
        "label_encoder = LabelEncoder()\n",
        "iris['species'] = label_encoder.fit_transform(iris['species'])"
      ],
      "metadata": {
        "id": "bY9QDfdVyRX5"
      },
      "execution_count": 17,
      "outputs": []
    },
    {
      "cell_type": "code",
      "source": [
        "# Definer features og targetvariable\n",
        "X = iris.drop('species', axis=1)  # Funksjoner: sepallengde, sepalbredde, petallengde, petalbredde\n",
        "y = iris['species']               # Målvariabel: art\n",
        "\n",
        "# Split datasettet i trenings- og testsett\n",
        "X_train, X_test, y_train, y_test = train_test_split(X, y, test_size=0.3, random_state=42)\n",
        "\n",
        "# Definer lineær regresjonsmodellen\n",
        "model = LinearRegression()\n",
        "\n",
        "# Tren modellen på treningsdata\n",
        "model.fit(X_train, y_train)\n",
        "\n",
        "# Gjør prediksjoner på testdata\n",
        "y_pred = model.predict(X_test)\n",
        "\n",
        "print(y_pred)\n",
        "\n",
        "# Siden resultatet er kontinuerlige verdier, avrunder vi til nærmeste heltall\n",
        "y_pred_rounded = np.round(y_pred).astype(int)\n",
        "\n",
        "# Evaluer nøyaktigheten\n",
        "accuracy = accuracy_score(y_test, y_pred_rounded)\n",
        "print(f\"Accuracy: {accuracy * 100:.2f}%\")\n",
        "\n",
        "# Print noen eksempler på prediksjoner\n",
        "for i in range(10):\n",
        "    print(f\"True species: {y_test.iloc[i]}, Predicted species: {y_pred_rounded[i]}\")"
      ],
      "metadata": {
        "colab": {
          "base_uri": "https://localhost:8080/"
        },
        "id": "QAwUw6W4Ee8G",
        "outputId": "12c1f80b-71e0-4616-bc54-2a64abb33347"
      },
      "execution_count": 18,
      "outputs": [
        {
          "output_type": "stream",
          "name": "stdout",
          "text": [
            "[ 1.24069097 -0.04537609  2.24501083  1.35143666  1.29775083  0.01024241\n",
            "  1.05031173  1.82525399  1.37084413  1.06699186  1.70363485 -0.08712067\n",
            " -0.165166   -0.07724353 -0.03380619  1.40167699  2.00651252  1.04725931\n",
            "  1.28368327  1.97600474  0.01782354  1.59952875  0.079732    1.92307532\n",
            "  1.8621986   1.8790815   1.80251247  2.04196713  0.01873817  0.01291496\n",
            " -0.15365607 -0.08046738  1.18506728 -0.00461982 -0.02934265  1.68665136\n",
            "  1.29088786 -0.07995434 -0.09076782 -0.16795331  1.75520461  1.37514144\n",
            "  1.3174234  -0.07193336 -0.1131512 ]\n",
            "Accuracy: 100.00%\n",
            "True species: 1, Predicted species: 1\n",
            "True species: 0, Predicted species: 0\n",
            "True species: 2, Predicted species: 2\n",
            "True species: 1, Predicted species: 1\n",
            "True species: 1, Predicted species: 1\n",
            "True species: 0, Predicted species: 0\n",
            "True species: 1, Predicted species: 1\n",
            "True species: 2, Predicted species: 2\n",
            "True species: 1, Predicted species: 1\n",
            "True species: 1, Predicted species: 1\n"
          ]
        }
      ]
    },
    {
      "cell_type": "markdown",
      "source": [
        "## Fordeler og ulemper med lineær regresjon for klassifikasjon\n",
        "\n",
        "### Fordeler:\n",
        "- Enkel implementasjon: Lineær regresjon er en av de enkleste modellene å forstå og implementere. Dette gjør den til et godt valg for å illustrere grunnleggende konsepter eller som et utgangspunkt.\n",
        "\n",
        "- Lav beregningskompleksitet: Lineær regresjon er rask å trene og predikere med, spesielt på små datasett som Iris. Det er derfor en effektiv modell for rask testing og prototyping.\n",
        "\n",
        "- Gir en numerisk forståelse av klassifiseringsproblemet: Ved å bruke lineær regresjon på et klassifiseringsproblem, kan man få en intuitiv følelse av hvordan forskjellige funksjoner (features) påvirker målet i form av kontinuerlige utfall.\n",
        "\n",
        "### Ulemper:\n",
        "- Ikke designet for klassifisering: Lineær regresjon er en modell for regresjon, ikke for klassifisering. Klassifisering er en oppgave hvor resultatet er en kategori (som for eksempel 0, 1, 2 for artene i Iris-datasettet), mens regresjon gir kontinuerlige prediksjoner. Ved å bruke lineær regresjon må du etterpå runde resultatene for å tilordne en klasse, noe som ikke nødvendigvis alltid fungerer like godt.\n",
        "\n",
        "- Kan gi dårlige prediksjoner på klasser som ikke er ordnet: Lineær regresjon antar at de numeriske verdiene er ordnet i en lineær sammenheng, noe som ikke stemmer for klassifikasjon hvor klassene ikke nødvendigvis har en slik ordning. For eksempel, her er det ingen naturlig rekkefølge mellom artene setosa, versicolor og virginica. Ved å bruke lineær regresjon kan modellen feilaktig anta at avstanden mellom klassene er kontinuerlig og proporsjonal, noe som kan føre til dårlige prediksjoner.\n",
        "\n",
        "- Prediksjoner utenfor rekkevidde: Lineær regresjon kan predikere verdier utenfor klasserommene (for eksempel predikere -0.5 eller 3.0), noe som er meningsløst for klassifikasjonsproblemer der klassene er diskrete og begrenset (her mellom 0, 1 og 2).\n",
        "\n",
        "- Rundingsproblemer: Når du runder prediksjoner til nærmeste heltall, kan det være stor risiko for feilklassifisering, spesielt hvis prediksjonene er nær grensen mellom to klasser. Små feil i lineære prediksjoner kan føre til feilklassifisering.\n",
        "\n",
        "### Når kan det være nyttig?\n",
        "Lineær regresjon kan være nyttig som en enkel baseline-modell. Ved å kjøre lineær regresjon kan du sammenligne resultatene med mer avanserte klassifiseringsmodeller for å se hvor mye mer nøyaktighet du oppnår med de riktige verktøyene for klassifikasjon. Det er også nyttig for forståelse av de grunnleggende sammenhengene mellom funksjoner og prediksjoner, selv om det ikke nødvendigvis gir den beste ytelsen - derfor har vi tatt det med her, bare for eksempelhetens skyld."
      ],
      "metadata": {
        "id": "BlZZz0p7mUQ_"
      }
    },
    {
      "cell_type": "markdown",
      "source": [
        "## Alternative modeller som passer bedre til klassifisering:\n",
        "- **Logistisk regresjon**: Passer bedre til binær og multiklassifisering enn lineær regresjon fordi den gir sannsynligheter for hver klasse.\n",
        "- **Decision Trees**: Kan klassifisere data på en ikke-lineær måte og håndtere komplekse beslutningsregler.\n",
        "- **Random Forest**: En ensemble-modell som kombinerer flere beslutningstrær for bedre prediksjoner.\n",
        "- **K-nearest neighbors (KNN)**: En enkel, men ofte effektiv klassifiseringsmetode som bruker nærhet til andre data.\n",
        "\n",
        "### **Disse går vi ikke gjennom eksplisitt i kurset, men er læringsteknikker dere kan ta i bruk på prosjektet i kurset. Særlig decision trees og random forests, på grunn av deres brukervennlighet.**\n",
        "\n",
        "## La oss teste ut decision trees"
      ],
      "metadata": {
        "id": "KARBQXm5mPj8"
      }
    },
    {
      "cell_type": "code",
      "source": [
        "# Importer nødvendige biblioteker\n",
        "import numpy as np\n",
        "import pandas as pd\n",
        "from sklearn.tree import DecisionTreeClassifier, plot_tree\n",
        "from sklearn.model_selection import train_test_split\n",
        "from sklearn.metrics import accuracy_score, confusion_matrix\n",
        "\n",
        "# Last ned iris-datasettet - på nytt for å ikke gjøre unødvendig encoding\n",
        "iris = pd.read_csv('https://raw.githubusercontent.com/mwaskom/seaborn-data/master/iris.csv')\n",
        "\n",
        "# Definer features og targetvariable\n",
        "X = iris.drop('species', axis=1)  # Funksjoner: sepallengde, sepalbredde, petallengde, petalbredde\n",
        "y = iris['species']               # Målvariabel: art (ingen behov for LabelEncoder)\n",
        "\n",
        "# Split datasettet i trenings- og testsett\n",
        "X_train, X_test, y_train, y_test = train_test_split(X, y, test_size=0.3, random_state=42)\n",
        "\n",
        "# Definer Decision Tree Classifier\n",
        "model = DecisionTreeClassifier(random_state=42)\n",
        "\n",
        "# Tren modellen på treningsdata\n",
        "model.fit(X_train, y_train)\n",
        "\n",
        "# Gjør prediksjoner på testdata\n",
        "y_pred = model.predict(X_test)\n",
        "\n",
        "# Evaluer nøyaktigheten\n",
        "accuracy = accuracy_score(y_test, y_pred)\n",
        "print(f\"Accuracy: {accuracy * 100:.2f}%\")\n",
        "\n",
        "# Print noen eksempler på prediksjoner\n",
        "for i in range(10):\n",
        "    print(f\"True species: {y_test.iloc[i]}, Predicted species: {y_pred[i]}\")"
      ],
      "metadata": {
        "colab": {
          "base_uri": "https://localhost:8080/"
        },
        "id": "fg0uuQJSmTUs",
        "outputId": "154127af-dcdb-4a52-ccaf-2bd57e6e0f7c"
      },
      "execution_count": 19,
      "outputs": [
        {
          "output_type": "stream",
          "name": "stdout",
          "text": [
            "Accuracy: 100.00%\n",
            "True species: versicolor, Predicted species: versicolor\n",
            "True species: setosa, Predicted species: setosa\n",
            "True species: virginica, Predicted species: virginica\n",
            "True species: versicolor, Predicted species: versicolor\n",
            "True species: versicolor, Predicted species: versicolor\n",
            "True species: setosa, Predicted species: setosa\n",
            "True species: versicolor, Predicted species: versicolor\n",
            "True species: virginica, Predicted species: virginica\n",
            "True species: versicolor, Predicted species: versicolor\n",
            "True species: versicolor, Predicted species: versicolor\n"
          ]
        }
      ]
    },
    {
      "cell_type": "code",
      "source": [
        "# Finn confusion matrix\n",
        "conf_matrix = confusion_matrix(y_test, y_pred)\n",
        "\n",
        "# Printer confusion matrix\n",
        "print(\"Confusion Matrix:\")\n",
        "print(conf_matrix)"
      ],
      "metadata": {
        "colab": {
          "base_uri": "https://localhost:8080/"
        },
        "id": "TVSpswb2razy",
        "outputId": "17fbec46-1da2-4b30-9b4a-28e41001a16c"
      },
      "execution_count": null,
      "outputs": [
        {
          "output_type": "stream",
          "name": "stdout",
          "text": [
            "Confusion Matrix:\n",
            "[[19  0  0]\n",
            " [ 0 13  0]\n",
            " [ 0  0 13]]\n"
          ]
        }
      ]
    },
    {
      "cell_type": "code",
      "source": [
        "# Visulaiserer beslutningstreet\n",
        "plt.figure(figsize=(15, 10))\n",
        "plot_tree(model, filled=True, feature_names=X.columns, class_names=y.unique(), rounded=True, fontsize=10)\n",
        "plt.title(\"Decision Tree for Iris Dataset\")\n",
        "plt.show()"
      ],
      "metadata": {
        "colab": {
          "base_uri": "https://localhost:8080/",
          "height": 829
        },
        "id": "6f_gtWWW8kKN",
        "outputId": "dd46f16e-9b45-457d-a55c-b66eb8ce59e6"
      },
      "execution_count": null,
      "outputs": [
        {
          "output_type": "display_data",
          "data": {
            "text/plain": [
              "<Figure size 1500x1000 with 1 Axes>"
            ],
            "image/png": "[encoded data removed]"
          },
          "metadata": {}
        }
      ]
    },
    {
      "cell_type": "markdown",
      "source": [
        "# **Tensorflow** skal bli vår venn :-)\n",
        "TensorFlow er et gratis og åpen kildekode-programvarebibliotek for maskinlæring og kunstig intelligens. Det kan brukes til en rekke oppgaver, men har et spesielt fokus på trening og inferens av dype nevrale nettverk. Det er utviklet og brukt av Google. Opprinnelig ble det laget som en del av Google's Brain Team, og 9. november 2015 ble TensorFlow gjort tilgjengelig under Apache 2.0 open source-lisensen.\n",
        "[Les mer om Tensorflow her!](https://www.tensorflow.org/)\n",
        "\n",
        "## Hva er en *tensor*?\n",
        "En **tensor** er en generell betegnelse på en dataenhet i maskinlæring og numerisk databehandling. Den kan betraktes som en utvidelse av skalarer, vektorer og matriser til høyere dimensjoner.\n",
        "*Tensor* har spesifikke matematiske definisjoner basert på kontekst, som for eksempel i fysikken, så bruker vi en definisjon som er relevant mot maskinlæring, fra *Deep Learning* (Goodfellow, Bengio, and Courville, 2016):\n",
        "**In the general case, an array of numbers arranged on a regular grid with a variable number of axes is known as a tensor.**\n",
        "\n",
        "## Typer av Tensor\n",
        "En tensor er en generalisering av matriser og vektorer til høyere dimensjoner og er en grunnleggende datastruktur i maskinlæring, spesielt i rammeverk som PyTorch og TensorFlow.\n",
        "1. **Skalar** (rank-0 tensor)\n",
        "   - En enkeltverdi, for eksempel et tall som $3$ eller $7.5$.\n",
        "\n",
        "2. **Vektor** (rank-1 tensor)\n",
        "   - En rekke av verdier, for eksempel en liste med tall $[1, 3, 5, 7]$.\n",
        "\n",
        "3. **Matriser** (rank-2 tensor)\n",
        "   - En matrise med nxn-dimensjoner, for eksempel $\\begin{bmatrix}\n",
        "3 & 5 & 7 \\\\\n",
        "2 & 6 & 1 \\\\\n",
        "8 & 4 & 9\n",
        "\\end{bmatrix}$.\n",
        "\n",
        "4. **Rank-3 tensor** og høyere\n",
        "  - En flerdimensjonal generalisering av matriser. For eksempel en 3D-tensor kan tenkes som en \"kubelignende\" struktur med flere matriser stablet sammen.\n",
        "\n"
      ],
      "metadata": {
        "id": "5IoNc7NlCxLp"
      }
    },
    {
      "cell_type": "markdown",
      "source": [
        "## *Hvordan skrive tensorer i Python*\n",
        "\n",
        "### **0-rank tensor**"
      ],
      "metadata": {
        "id": "xmooYta1Ca4R"
      }
    },
    {
      "cell_type": "code",
      "source": [
        "# Først må vi importere tensorflow i Python. Det gjøres slik:\n",
        "import tensorflow as tf"
      ],
      "metadata": {
        "id": "XWwKwmHDC0Al"
      },
      "execution_count": null,
      "outputs": []
    },
    {
      "cell_type": "code",
      "execution_count": null,
      "metadata": {
        "id": "QG97G7Se0smj",
        "colab": {
          "base_uri": "https://localhost:8080/"
        },
        "outputId": "5e47e000-db89-4cb7-9771-815adf8dea79"
      },
      "outputs": [
        {
          "output_type": "stream",
          "name": "stdout",
          "text": [
            "3\n",
            "tf.Tensor(3, shape=(), dtype=int32)\n"
          ]
        }
      ],
      "source": [
        "# En vanlig skalar vil vanligvis skrives;\n",
        "skalar = 3\n",
        "print(3)\n",
        "\n",
        "# Skal vi skrive en rank-0 tensor, gjør vi følgende;\n",
        "zero_tensor = tf.constant(3)\n",
        "print(zero_tensor)"
      ]
    },
    {
      "cell_type": "code",
      "source": [
        "# Vi kan nå se på typene\n",
        "print(type(skalar))\n",
        "\n",
        "print(type(zero_tensor))"
      ],
      "metadata": {
        "colab": {
          "base_uri": "https://localhost:8080/"
        },
        "id": "DsvozR8QCws6",
        "outputId": "0bbf4b4e-03cd-4679-bee5-74c338718ece"
      },
      "execution_count": null,
      "outputs": [
        {
          "output_type": "stream",
          "name": "stdout",
          "text": [
            "<class 'int'>\n",
            "<class 'tensorflow.python.framework.ops.EagerTensor'>\n"
          ]
        }
      ]
    },
    {
      "cell_type": "markdown",
      "source": [
        "Her ser vi at variabelen *skalar* tilhører en annen klasse enne *zero_tensor*, dette vil være viktig senere i kurset."
      ],
      "metadata": {
        "id": "mIV_xaCvDHlW"
      }
    },
    {
      "cell_type": "markdown",
      "source": [
        "### La oss gjøre det samme for **rank-1 tensor** og **rank-2 tensor**."
      ],
      "metadata": {
        "id": "--wP7mc0ETJ7"
      }
    },
    {
      "cell_type": "code",
      "source": [
        "import numpy as np\n",
        "\n",
        "# Eksempel på en vektor ved bruk av numpy (knallbra bibliotek for matematiske operasjoner med vektorer)\n",
        "vector = np.array([1, 2, 3, 4, 5])\n",
        "print(vector)\n",
        "\n",
        "# rank 1 tensor\n",
        "rank_1_tensor = tf.constant([1, 2, 3, 4, 5])\n",
        "print(rank_1_tensor)\n",
        "\n",
        "# Vi kan nå se på typene\n",
        "print(type(vector))\n",
        "\n",
        "print(type(rank_1_tensor))"
      ],
      "metadata": {
        "colab": {
          "base_uri": "https://localhost:8080/"
        },
        "id": "C8kQeWbKEYAf",
        "outputId": "26d1f9ee-f595-47de-d4d7-fa81b00fe8b1"
      },
      "execution_count": null,
      "outputs": [
        {
          "output_type": "stream",
          "name": "stdout",
          "text": [
            "[1 2 3 4 5]\n",
            "tf.Tensor([1 2 3 4 5], shape=(5,), dtype=int32)\n",
            "<class 'numpy.ndarray'>\n",
            "<class 'tensorflow.python.framework.ops.EagerTensor'>\n"
          ]
        }
      ]
    },
    {
      "cell_type": "code",
      "source": [
        "# Eksempel på matrise ved bruk av numpy\n",
        "matrix = np.array([[1, 2, 3], [4, 5, 6], [7, 8, 9]])\n",
        "print(matrix)\n",
        "\n",
        "# rank 2 matrix\n",
        "rank_2_tensor = tf.constant([[1, 2, 3], [4, 5, 6], [7, 8, 9]])\n",
        "print(rank_2_tensor)"
      ],
      "metadata": {
        "colab": {
          "base_uri": "https://localhost:8080/"
        },
        "id": "ZydVBJg7FVTV",
        "outputId": "2ed598ba-4599-4b1e-839d-6b18ae1bb139"
      },
      "execution_count": null,
      "outputs": [
        {
          "output_type": "stream",
          "name": "stdout",
          "text": [
            "[[1 2 3]\n",
            " [4 5 6]\n",
            " [7 8 9]]\n",
            "tf.Tensor(\n",
            "[[1 2 3]\n",
            " [4 5 6]\n",
            " [7 8 9]], shape=(3, 3), dtype=int32)\n"
          ]
        }
      ]
    },
    {
      "cell_type": "markdown",
      "source": [
        "## **En matematisk presentasjon av tensorer kan være følgende**\n",
        "1. Rank-0 Tensor, Skalar, $ℝ$\n",
        "2. Rank-1 Tensor, Vektor, $ℝ^n$\n",
        "3. Rank-2 Tensor, Vektor, $ℝ^{n × m}$\n",
        "4. Rank-3 Tensor, Vektor, $ℝ^{n × m × p}$\n",
        "\n",
        "Det viktigste å forstå her er at når vi snakker om en *tensor* og vi snakker om dens *dimensjoner* som **rank** til tensoren, så må dette **ikke** forveksles med dimensjonene til matrisen!\n",
        "\n",
        "![Forklarende bilde av tensorer](https://hkilter.com/images/7/7a/Tensors.png)\n"
      ],
      "metadata": {
        "id": "7SDkAwBpFuq1"
      }
    },
    {
      "cell_type": "markdown",
      "source": [
        "### **Når får man bruk for rank-3 tensorer?**\n",
        "* Et gråskalabilde (enkanals) er vanligvis en tensor av rank 2, representert som en 2D-matrise (høyde × bredde) med pikselverdier.\n",
        "* Et fargebilde har derimot flere kanaler (vanligvis tre: rød, grønn og blå). Det representeres derfor som en 3D-matrise (høyde × bredde × kanaler), hvor hver kanal lagrer pikselverdier som tilsvarer én farge. Dette kommer vi mer inn på senere i kurset."
      ],
      "metadata": {
        "id": "GYomf5PMjoeR"
      }
    },
    {
      "cell_type": "markdown",
      "source": [
        "# **Noen fundamentale konsepter i maskinlæring**\n",
        "\n",
        "\n",
        "\n"
      ],
      "metadata": {
        "id": "71j0CFhJAogw"
      }
    },
    {
      "cell_type": "markdown",
      "source": [
        "## **Prediksjon vs inferens**\n",
        "Fra tidligere matematikk- og statistikk-kurs har dere være lært om *lineær regresjon*. Da har vi en kvantitativ response $Y$ og $p$ ulike prediktorer, disse kan skrives $X = (X_1, X_2, \\ldots, X_p)$. Sammenhengen uttrykkes da som\n",
        "\n",
        "$$Y=f(X)+ϵ$$\n",
        "\n",
        "hvor $f$ er en ukjent funksjon av $X$ og $ϵ ∼ N(0, σ^2)$. Hvor i lineær regresjon, hvor vi prøver å estimere $Y$, vil det kunne skrives som\n",
        "\n",
        "\\begin{align}\n",
        "\\hat{Y} &= \\hat{f}(x) \\\\\n",
        "&= \\beta_0 + \\beta_1 \\cdot X_1 + \\cdots + \\beta_p \\cdot X_p,\n",
        "\\end{align}\n",
        "\n",
        "her ser dere at $ϵ$ er borte, det er fordi $E[ϵ]=0$, mens $\\beta_0$ representerer **konstantleddet** (intercept) og $\\beta_i, i=1,\\ldots,p$ representerer **regresjons koeffisientene**.\n",
        "\n",
        "Under her har vi et eksempel på *enkel* lineær regresjon.\n",
        "\n",
        "![Lineær regresjon](https://media.licdn.com/dms/image/D4D12AQFLzVNzsxPLvA/article-cover_image-shrink_423_752/0/1698421969894?e=1728518400&v=beta&t=VogREEr5ZeblblSFt2Bkz90On1qDdGno_-2R6mn8JQs)\n",
        "\n",
        "Dette leder oss inn på hva **prediksjon** er. Ofte kan vi finne $X$ verdiene, men output'et $Y$ er ikke alltid like lett. Derfor prøver vi å predikere $Y$ som\n",
        "$$\\hat{Y}=\\hat{f}(X)$$\n",
        "hvor også her $\\epsilon$ er satt til $0$, som følge av forventningsverdien. $\\hat{f}$ er vårt estimat av $f$ og $\\hat{Y}$ representerer vår prediksjon av $Y$.\n",
        "\n",
        "Prediksjon handler jo (selvfølgelig) om å predikere noe, men da er det nettopp det vi er interssert i - som følge av det behandler vi ofte $\\hat{f}$ som en *svart boks* (black-box principle, noe vi kommer til å snakke mye om).\n",
        "\n",
        "### Inferens\n",
        "Inferens handler om når vi vil se og forstå sammenhengen mellom $Y$ og disse $X$'ene ($X_1, X_2, \\ldots, X_p$).\n",
        "Derfor er ikke hovedmålet å estimere $f$, og derfor kan vi heller ikke behandler $\\hat{f}$ som en *svart boks*.\n",
        "\n",
        "For eksempel, hvis vi har ulike prediktorer, og responsen er solgte PC'er. Da er salgsteamet interssert i **hvilke** prediktorer har mest å si for salget, i både positiv og negativ retning! Eller de kan gjennomføre hypotese-testing, estimering av koeffisientene (f.eks. $\\beta_0$)."
      ],
      "metadata": {
        "id": "Kqie6FsZ7zIU"
      }
    },
    {
      "cell_type": "markdown",
      "source": [
        "## **Irreducible og reducible error**\n",
        "Fra statistikken har dere lært om **forventningsverdi** og **varians**. I tillegg har dere lært om **Mean Squared error (MSE)**. Her er den matematiske definisjonen av disse termene:\n",
        "\n",
        "### **Definisjon av forventningsverdi**\n",
        "La $X$ være en tilfeldig vriabel med sannsynlighetsfordeling $f(x)$. **Forventningsverdien** av $X$ er\n",
        "\n",
        "$$E[X]= \\sum_{x}x \\cdot f(x)$$\n",
        "\n",
        "hvis $X$ er diskret, og\n",
        "\n",
        "$$E[X]=\\int_{-\\infty}^{∞}x \\cdot f(x) \\; dx$$\n",
        "\n",
        "hvis $X$ er kontinuerlig.\n",
        "\n",
        "### **Definisjon av varians**\n",
        "La $X$ være en tilfeldig variabel med sannsynlighetsfordeling $f(x)$. **Variansen** til $X$ er\n",
        "\n",
        "$$\\sigma^2 = E[(X-\\mu)^2]=\\sum_{x}(x-\\mu)^2 \\cdot f(x),$$\n",
        "\n",
        "hvis $X$ er diskret, og\n",
        "\n",
        "$$\\sigma^2 = E[(X-\\mu)^2]=\\int_{-\\infty}^{\\infty}(x-\\mu)^2 \\cdot f(x) \\; dx,$$\n",
        "\n",
        "hvis $X$ er kontinuerlig.\n",
        "\n",
        "## **MSE**\n",
        "Hvis en vektor av $n$ prediksjoner er generert fra et utvalg med $n$ datapunkter, og $Y$ er den observerte verdien, og $\\hat{Y}$ er den predikerte verdien, da er **Mean Squared Error**\n",
        "\n",
        "$$MSE = \\frac{1}{n}\\sum_{i=1}^n \\left(Y_i - \\hat{Y_i}\\right)^2$$\n",
        "\n",
        "Disse verdiene over kan vi bruke til å forklare et av de fundamentale konseptene i maskinlæring.\n",
        "\n",
        "*Prediksjon* er ofte et mål i maskinlæring, og hvis vi lar $Y$ representere den faktiske *avhengige variabelen* (også kalt response) og $\\hat{Y}$.  Når man driver med prediksjon vil man ikke alltid kunne treffe $100$% på virkeligheten, derfor velger vi å se på forventningsverdien av differansen mellom $Y$ (observert response) og $\\hat{Y}$ (predikert response), i andre. Disse kan uttrykkes matematisk på følgende vis:\n",
        "\n",
        "$$Y = f(X) + ϵ$$\n",
        "og\n",
        "$$\\hat{Y} = \\hat{f}(X)$$\n",
        "\n",
        "hvor sannheten $Y$ alltid inneholder litt noise/støy, nemlig $ϵ$ (på engelsk kalt, *irreducible error*). Med følgende egenskaper:\n",
        "\n",
        "$$E[ϵ]=0$$\n",
        "og\n",
        "$$Var[ϵ]=σ^2$$\n",
        "\n",
        "Dette gjør at vi kan gjøre følgende:\n",
        "\n",
        "$$\n",
        "\\begin{align}\n",
        "E[(Y - \\hat{Y})^2] &= E[(f(X) + \\epsilon - \\hat{Y})^2] \\\\\n",
        "&= [f(X)-\\hat{f}(X)]^2 + Var(ϵ)\n",
        "\\end{align}\n",
        "$$\n",
        "\n",
        "Differansen mellom $f(X)$ og $\\hat{f}(X)$ **kan** man gjøre noe med (f.eks. med bedre modell, feature selection, bruk av domene-kunnskap osv.) og kalles **reducible error**, mens $Var(\\epsilon)$ kan man ikke gjøre noe med, derfor **irreducible error**.\n",
        "\n",
        "------\n"
      ],
      "metadata": {
        "id": "Nj8nGxmaQBmB"
      }
    },
    {
      "cell_type": "markdown",
      "source": [
        "## **Oppgave**\n",
        "Utled $E[(f(X) + \\epsilon - \\hat{Y})^2]$ for å vise at det er lik $[f(X)-\\hat{f}(X)]^2 + Var(ϵ)$."
      ],
      "metadata": {
        "id": "S8jb77sgL-81"
      }
    },
    {
      "cell_type": "markdown",
      "source": [
        "## **Regresjon versus klassifikasjon**\n",
        "I *maskinlæring* er det viktig å skille mellom **regresjon** og **klassifikasjon**, da disse tilnærmingene er designet for å håndtere ulike typer prediksjonsproblemer.\n",
        "\n",
        "Regresjon brukes når målet er å forutsi en **kontinuerlig variabel**. For eksempel kan vi bruke regresjon for å estimere boligpriser basert på ulike egenskaper som størrelse og beliggenhet. I regresjonsproblemer er den avhengige variabelen en kontinuerlig verdi som kan ta et uendelig antall verdier innenfor et bestemt område. Matematiske modeller i regresjon er designet for å minimere avviket mellom de predikerte verdiene og de faktiske verdiene. For eksempel, når vi estimerer en boligpris, kan modellen forsøke å forutsi en pris i en konkret skala, som $300,000, som representerer en spesifikk, kontinuerlig verdi.\n",
        "\n",
        "Klassifikasjon, derimot, handler om å forutsi en **kategorisk variabel**. Dette innebærer å tilordne hver observasjon til en av et begrenset antall kategorier eller klasser. For eksempel kan vi bruke klassifikasjon for å bestemme om en e-post er spam eller ikke, eller for å identifisere håndskrevne sifre i en bildedatabase. Klassifikasjonsproblemer resulterer i diskrete utfall, hvor hver observasjon tilhører en av et sett med definerte klasser. Matematiske modeller i klassifikasjon gir en sannsynlighet for hvert av de mulige utfallene og tildeler den mest sannsynlige klassen basert på disse sannsynlighetene. For eksempel, i en e-postklassifikator, kan modellen gi en sannsynlighet på $90$% for at en e-post er spam og $10$% for at den ikke er spam, og dermed klassifisere e-posten som spam."
      ],
      "metadata": {
        "id": "fRSqAqW8LaJJ"
      }
    },
    {
      "cell_type": "markdown",
      "source": [
        "## **Trening, validering og testdata**\n",
        "\n",
        "I maskinlæring er det avgjørende å dele datasettet i tre distinkte deler: *trening*, *validering* og *testdata*. Trening av modellen skjer på treningsdataene, hvor målet er å lære de underliggende mønstrene og sammenhengene i dataene. Under denne prosessen justeres modellens parametere for å minimere feilen mellom de predikerte og de faktiske verdiene.\n",
        "\n",
        "Deretter evalueres modellen på valideringsdataene. Valideringsdataene brukes ikke til trening, men til å optimalisere modellvalg og hyperparametere, som for eksempel *læringsrate* (eng: *learning rate*) eller antall *noder* (eng: *nodes*) i et nevralt nettverk. Dette hjelper til med å unngå *overtilpasning* (eng: *overfitting*, som vil diskuteres lenger ned i dokumentet), hvor modellen tilpasser seg treningsdataene for godt og dermed mister evnen til å generalisere til nye data.\n",
        "\n",
        "Til slutt brukes testdataene, som modellen ikke har sett tidligere, for å gi en endelig evaluering av modellens generaliseringsevne.\n",
        "\n",
        "For en økonom kan dette være særlig viktig ved for eksempel prediksjon av finansielle indikatorer, hvor en godt generalisert modell kan ha direkte praktiske implikasjoner i beslutningsprosesser.\n",
        "\n",
        "![Eksempel på to ulike måter å splitte data på](https://upload.wikimedia.org/wikipedia/commons/thumb/b/bb/ML_dataset_training_validation_test_sets.png/800px-ML_dataset_training_validation_test_sets.png?20201206114522)"
      ],
      "metadata": {
        "id": "uU4REHWtPmj4"
      }
    },
    {
      "cell_type": "markdown",
      "source": [
        "Her skal vi se på eksempel på hvordan vi splitter opp et datasett, og bruker det til noe fornuftig."
      ],
      "metadata": {
        "id": "a3LQzRX9xV6h"
      }
    },
    {
      "cell_type": "code",
      "source": [
        "# Hvis vi importerer data, kan vi splitte det opp på følgende vis\n",
        "import pandas as pd\n",
        "\n",
        "# Importerer datasettet\n",
        "df = pd.read_csv('Fraud.csv')\n",
        "df.head()"
      ],
      "metadata": {
        "colab": {
          "base_uri": "https://localhost:8080/",
          "height": 244
        },
        "id": "wayzOQTwPt8o",
        "outputId": "c6b3fd64-63c0-4af0-842b-24584f7dfb2e"
      },
      "execution_count": 21,
      "outputs": [
        {
          "output_type": "execute_result",
          "data": {
            "text/plain": [
              "   Unnamed: 0  step      type     branch    amount     nameOrig  \\\n",
              "0           0     1   PAYMENT  Indonesia   9839.64  C1231006815   \n",
              "1           1     1   PAYMENT      India   1864.28  C1666544295   \n",
              "2           2     1  TRANSFER      India    181.00  C1305486145   \n",
              "3           3     1  CASH_OUT  Australia    181.00   C840083671   \n",
              "4           4     1   PAYMENT  Australia  11668.14  C2048537720   \n",
              "\n",
              "   oldbalanceOrg  newbalanceOrig     nameDest  oldbalanceDest  newbalanceDest  \\\n",
              "0       170136.0       160296.36  M1979787155             0.0             0.0   \n",
              "1        21249.0        19384.72  M2044282225             0.0             0.0   \n",
              "2          181.0            0.00   C553264065             0.0             0.0   \n",
              "3          181.0            0.00    C38997010         21182.0             0.0   \n",
              "4        41554.0        29885.86  M1230701703             0.0             0.0   \n",
              "\n",
              "   unusuallogin  isFlaggedFraud Acct type Date of transaction Time of day  \\\n",
              "0             9               0   Current            3/1/2018     Morning   \n",
              "1            10               0   Savings            5/1/2018     Morning   \n",
              "2             2               0   Current            7/1/2018     Morning   \n",
              "3             1               0   Current            6/1/2018   Afternoon   \n",
              "4            17               0   Current            6/1/2018     Morning   \n",
              "\n",
              "   isFraud  \n",
              "0      0.0  \n",
              "1      0.0  \n",
              "2      1.0  \n",
              "3      1.0  \n",
              "4      0.0  "
            ],
            "text/html": [
              "\n",
              "  <div id=\"df-03472f1d-46e3-431e-a8e7-ab6b82f87986\" class=\"colab-df-container\">\n",
              "    <div>\n",
              "<style scoped>\n",
              "    .dataframe tbody tr th:only-of-type {\n",
              "        vertical-align: middle;\n",
              "    }\n",
              "\n",
              "    .dataframe tbody tr th {\n",
              "        vertical-align: top;\n",
              "    }\n",
              "\n",
              "    .dataframe thead th {\n",
              "        text-align: right;\n",
              "    }\n",
              "</style>\n",
              "<table border=\"1\" class=\"dataframe\">\n",
              "  <thead>\n",
              "    <tr style=\"text-align: right;\">\n",
              "      <th></th>\n",
              "      <th>Unnamed: 0</th>\n",
              "      <th>step</th>\n",
              "      <th>type</th>\n",
              "      <th>branch</th>\n",
              "      <th>amount</th>\n",
              "      <th>nameOrig</th>\n",
              "      <th>oldbalanceOrg</th>\n",
              "      <th>newbalanceOrig</th>\n",
              "      <th>nameDest</th>\n",
              "      <th>oldbalanceDest</th>\n",
              "      <th>newbalanceDest</th>\n",
              "      <th>unusuallogin</th>\n",
              "      <th>isFlaggedFraud</th>\n",
              "      <th>Acct type</th>\n",
              "      <th>Date of transaction</th>\n",
              "      <th>Time of day</th>\n",
              "      <th>isFraud</th>\n",
              "    </tr>\n",
              "  </thead>\n",
              "  <tbody>\n",
              "    <tr>\n",
              "      <th>0</th>\n",
              "      <td>0</td>\n",
              "      <td>1</td>\n",
              "      <td>PAYMENT</td>\n",
              "      <td>Indonesia</td>\n",
              "      <td>9839.64</td>\n",
              "      <td>C1231006815</td>\n",
              "      <td>170136.0</td>\n",
              "      <td>160296.36</td>\n",
              "      <td>M1979787155</td>\n",
              "      <td>0.0</td>\n",
              "      <td>0.0</td>\n",
              "      <td>9</td>\n",
              "      <td>0</td>\n",
              "      <td>Current</td>\n",
              "      <td>3/1/2018</td>\n",
              "      <td>Morning</td>\n",
              "      <td>0.0</td>\n",
              "    </tr>\n",
              "    <tr>\n",
              "      <th>1</th>\n",
              "      <td>1</td>\n",
              "      <td>1</td>\n",
              "      <td>PAYMENT</td>\n",
              "      <td>India</td>\n",
              "      <td>1864.28</td>\n",
              "      <td>C1666544295</td>\n",
              "      <td>21249.0</td>\n",
              "      <td>19384.72</td>\n",
              "      <td>M2044282225</td>\n",
              "      <td>0.0</td>\n",
              "      <td>0.0</td>\n",
              "      <td>10</td>\n",
              "      <td>0</td>\n",
              "      <td>Savings</td>\n",
              "      <td>5/1/2018</td>\n",
              "      <td>Morning</td>\n",
              "      <td>0.0</td>\n",
              "    </tr>\n",
              "    <tr>\n",
              "      <th>2</th>\n",
              "      <td>2</td>\n",
              "      <td>1</td>\n",
              "      <td>TRANSFER</td>\n",
              "      <td>India</td>\n",
              "      <td>181.00</td>\n",
              "      <td>C1305486145</td>\n",
              "      <td>181.0</td>\n",
              "      <td>0.00</td>\n",
              "      <td>C553264065</td>\n",
              "      <td>0.0</td>\n",
              "      <td>0.0</td>\n",
              "      <td>2</td>\n",
              "      <td>0</td>\n",
              "      <td>Current</td>\n",
              "      <td>7/1/2018</td>\n",
              "      <td>Morning</td>\n",
              "      <td>1.0</td>\n",
              "    </tr>\n",
              "    <tr>\n",
              "      <th>3</th>\n",
              "      <td>3</td>\n",
              "      <td>1</td>\n",
              "      <td>CASH_OUT</td>\n",
              "      <td>Australia</td>\n",
              "      <td>181.00</td>\n",
              "      <td>C840083671</td>\n",
              "      <td>181.0</td>\n",
              "      <td>0.00</td>\n",
              "      <td>C38997010</td>\n",
              "      <td>21182.0</td>\n",
              "      <td>0.0</td>\n",
              "      <td>1</td>\n",
              "      <td>0</td>\n",
              "      <td>Current</td>\n",
              "      <td>6/1/2018</td>\n",
              "      <td>Afternoon</td>\n",
              "      <td>1.0</td>\n",
              "    </tr>\n",
              "    <tr>\n",
              "      <th>4</th>\n",
              "      <td>4</td>\n",
              "      <td>1</td>\n",
              "      <td>PAYMENT</td>\n",
              "      <td>Australia</td>\n",
              "      <td>11668.14</td>\n",
              "      <td>C2048537720</td>\n",
              "      <td>41554.0</td>\n",
              "      <td>29885.86</td>\n",
              "      <td>M1230701703</td>\n",
              "      <td>0.0</td>\n",
              "      <td>0.0</td>\n",
              "      <td>17</td>\n",
              "      <td>0</td>\n",
              "      <td>Current</td>\n",
              "      <td>6/1/2018</td>\n",
              "      <td>Morning</td>\n",
              "      <td>0.0</td>\n",
              "    </tr>\n",
              "  </tbody>\n",
              "</table>\n",
              "</div>\n",
              "    <div class=\"colab-df-buttons\">\n",
              "\n",
              "  <div class=\"colab-df-container\">\n",
              "    <button class=\"colab-df-convert\" onclick=\"convertToInteractive('df-03472f1d-46e3-431e-a8e7-ab6b82f87986')\"\n",
              "            title=\"Convert this dataframe to an interactive table.\"\n",
              "            style=\"display:none;\">\n",
              "\n",
              "  <svg xmlns=\"http://www.w3.org/2000/svg\" height=\"24px\" viewBox=\"0 -960 960 960\">\n",
              "    <path d=\"M120-120v-720h720v720H120Zm60-500h600v-160H180v160Zm220 220h160v-160H400v160Zm0 220h160v-160H400v160ZM180-400h160v-160H180v160Zm440 0h160v-160H620v160ZM180-180h160v-160H180v160Zm440 0h160v-160H620v160Z\"/>\n",
              "  </svg>\n",
              "    </button>\n",
              "\n",
              "  <style>\n",
              "    .colab-df-container {\n",
              "      display:flex;\n",
              "      gap: 12px;\n",
              "    }\n",
              "\n",
              "    .colab-df-convert {\n",
              "      background-color: #E8F0FE;\n",
              "      border: none;\n",
              "      border-radius: 50%;\n",
              "      cursor: pointer;\n",
              "      display: none;\n",
              "      fill: #1967D2;\n",
              "      height: 32px;\n",
              "      padding: 0 0 0 0;\n",
              "      width: 32px;\n",
              "    }\n",
              "\n",
              "    .colab-df-convert:hover {\n",
              "      background-color: #E2EBFA;\n",
              "      box-shadow: 0px 1px 2px rgba(60, 64, 67, 0.3), 0px 1px 3px 1px rgba(60, 64, 67, 0.15);\n",
              "      fill: #174EA6;\n",
              "    }\n",
              "\n",
              "    .colab-df-buttons div {\n",
              "      margin-bottom: 4px;\n",
              "    }\n",
              "\n",
              "    [theme=dark] .colab-df-convert {\n",
              "      background-color: #3B4455;\n",
              "      fill: #D2E3FC;\n",
              "    }\n",
              "\n",
              "    [theme=dark] .colab-df-convert:hover {\n",
              "      background-color: #434B5C;\n",
              "      box-shadow: 0px 1px 3px 1px rgba(0, 0, 0, 0.15);\n",
              "      filter: drop-shadow(0px 1px 2px rgba(0, 0, 0, 0.3));\n",
              "      fill: #FFFFFF;\n",
              "    }\n",
              "  </style>\n",
              "\n",
              "    <script>\n",
              "      const buttonEl =\n",
              "        document.querySelector('#df-03472f1d-46e3-431e-a8e7-ab6b82f87986 button.colab-df-convert');\n",
              "      buttonEl.style.display =\n",
              "        google.colab.kernel.accessAllowed ? 'block' : 'none';\n",
              "\n",
              "      async function convertToInteractive(key) {\n",
              "        const element = document.querySelector('#df-03472f1d-46e3-431e-a8e7-ab6b82f87986');\n",
              "        const dataTable =\n",
              "          await google.colab.kernel.invokeFunction('convertToInteractive',\n",
              "                                                    [key], {});\n",
              "        if (!dataTable) return;\n",
              "\n",
              "        const docLinkHtml = 'Like what you see? Visit the ' +\n",
              "          '<a target=\"_blank\" href=https://colab.research.google.com/notebooks/data_table.ipynb>data table notebook</a>'\n",
              "          + ' to learn more about interactive tables.';\n",
              "        element.innerHTML = '';\n",
              "        dataTable['output_type'] = 'display_data';\n",
              "        await google.colab.output.renderOutput(dataTable, element);\n",
              "        const docLink = document.createElement('div');\n",
              "        docLink.innerHTML = docLinkHtml;\n",
              "        element.appendChild(docLink);\n",
              "      }\n",
              "    </script>\n",
              "  </div>\n",
              "\n",
              "\n",
              "<div id=\"df-724f10cd-4376-4dc9-9a3a-d8e49a4c713b\">\n",
              "  <button class=\"colab-df-quickchart\" onclick=\"quickchart('df-724f10cd-4376-4dc9-9a3a-d8e49a4c713b')\"\n",
              "            title=\"Suggest charts\"\n",
              "            style=\"display:none;\">\n",
              "\n",
              "<svg xmlns=\"http://www.w3.org/2000/svg\" height=\"24px\"viewBox=\"0 0 24 24\"\n",
              "     width=\"24px\">\n",
              "    <g>\n",
              "        <path d=\"M19 3H5c-1.1 0-2 .9-2 2v14c0 1.1.9 2 2 2h14c1.1 0 2-.9 2-2V5c0-1.1-.9-2-2-2zM9 17H7v-7h2v7zm4 0h-2V7h2v10zm4 0h-2v-4h2v4z\"/>\n",
              "    </g>\n",
              "</svg>\n",
              "  </button>\n",
              "\n",
              "<style>\n",
              "  .colab-df-quickchart {\n",
              "      --bg-color: #E8F0FE;\n",
              "      --fill-color: #1967D2;\n",
              "      --hover-bg-color: #E2EBFA;\n",
              "      --hover-fill-color: #174EA6;\n",
              "      --disabled-fill-color: #AAA;\n",
              "      --disabled-bg-color: #DDD;\n",
              "  }\n",
              "\n",
              "  [theme=dark] .colab-df-quickchart {\n",
              "      --bg-color: #3B4455;\n",
              "      --fill-color: #D2E3FC;\n",
              "      --hover-bg-color: #434B5C;\n",
              "      --hover-fill-color: #FFFFFF;\n",
              "      --disabled-bg-color: #3B4455;\n",
              "      --disabled-fill-color: #666;\n",
              "  }\n",
              "\n",
              "  .colab-df-quickchart {\n",
              "    background-color: var(--bg-color);\n",
              "    border: none;\n",
              "    border-radius: 50%;\n",
              "    cursor: pointer;\n",
              "    display: none;\n",
              "    fill: var(--fill-color);\n",
              "    height: 32px;\n",
              "    padding: 0;\n",
              "    width: 32px;\n",
              "  }\n",
              "\n",
              "  .colab-df-quickchart:hover {\n",
              "    background-color: var(--hover-bg-color);\n",
              "    box-shadow: 0 1px 2px rgba(60, 64, 67, 0.3), 0 1px 3px 1px rgba(60, 64, 67, 0.15);\n",
              "    fill: var(--button-hover-fill-color);\n",
              "  }\n",
              "\n",
              "  .colab-df-quickchart-complete:disabled,\n",
              "  .colab-df-quickchart-complete:disabled:hover {\n",
              "    background-color: var(--disabled-bg-color);\n",
              "    fill: var(--disabled-fill-color);\n",
              "    box-shadow: none;\n",
              "  }\n",
              "\n",
              "  .colab-df-spinner {\n",
              "    border: 2px solid var(--fill-color);\n",
              "    border-color: transparent;\n",
              "    border-bottom-color: var(--fill-color);\n",
              "    animation:\n",
              "      spin 1s steps(1) infinite;\n",
              "  }\n",
              "\n",
              "  @keyframes spin {\n",
              "    0% {\n",
              "      border-color: transparent;\n",
              "      border-bottom-color: var(--fill-color);\n",
              "      border-left-color: var(--fill-color);\n",
              "    }\n",
              "    20% {\n",
              "      border-color: transparent;\n",
              "      border-left-color: var(--fill-color);\n",
              "      border-top-color: var(--fill-color);\n",
              "    }\n",
              "    30% {\n",
              "      border-color: transparent;\n",
              "      border-left-color: var(--fill-color);\n",
              "      border-top-color: var(--fill-color);\n",
              "      border-right-color: var(--fill-color);\n",
              "    }\n",
              "    40% {\n",
              "      border-color: transparent;\n",
              "      border-right-color: var(--fill-color);\n",
              "      border-top-color: var(--fill-color);\n",
              "    }\n",
              "    60% {\n",
              "      border-color: transparent;\n",
              "      border-right-color: var(--fill-color);\n",
              "    }\n",
              "    80% {\n",
              "      border-color: transparent;\n",
              "      border-right-color: var(--fill-color);\n",
              "      border-bottom-color: var(--fill-color);\n",
              "    }\n",
              "    90% {\n",
              "      border-color: transparent;\n",
              "      border-bottom-color: var(--fill-color);\n",
              "    }\n",
              "  }\n",
              "</style>\n",
              "\n",
              "  <script>\n",
              "    async function quickchart(key) {\n",
              "      const quickchartButtonEl =\n",
              "        document.querySelector('#' + key + ' button');\n",
              "      quickchartButtonEl.disabled = true;  // To prevent multiple clicks.\n",
              "      quickchartButtonEl.classList.add('colab-df-spinner');\n",
              "      try {\n",
              "        const charts = await google.colab.kernel.invokeFunction(\n",
              "            'suggestCharts', [key], {});\n",
              "      } catch (error) {\n",
              "        console.error('Error during call to suggestCharts:', error);\n",
              "      }\n",
              "      quickchartButtonEl.classList.remove('colab-df-spinner');\n",
              "      quickchartButtonEl.classList.add('colab-df-quickchart-complete');\n",
              "    }\n",
              "    (() => {\n",
              "      let quickchartButtonEl =\n",
              "        document.querySelector('#df-724f10cd-4376-4dc9-9a3a-d8e49a4c713b button');\n",
              "      quickchartButtonEl.style.display =\n",
              "        google.colab.kernel.accessAllowed ? 'block' : 'none';\n",
              "    })();\n",
              "  </script>\n",
              "</div>\n",
              "\n",
              "    </div>\n",
              "  </div>\n"
            ],
            "application/vnd.google.colaboratory.intrinsic+json": {
              "type": "dataframe",
              "variable_name": "df",
              "summary": "{\n  \"name\": \"df\",\n  \"rows\": 10127,\n  \"fields\": [\n    {\n      \"column\": \"Unnamed: 0\",\n      \"properties\": {\n        \"dtype\": \"number\",\n        \"std\": 2923,\n        \"min\": 0,\n        \"max\": 10126,\n        \"num_unique_values\": 10127,\n        \"samples\": [\n          3781,\n          2922,\n          5070\n        ],\n        \"semantic_type\": \"\",\n        \"description\": \"\"\n      }\n    },\n    {\n      \"column\": \"step\",\n      \"properties\": {\n        \"dtype\": \"number\",\n        \"std\": 2,\n        \"min\": 1,\n        \"max\": 7,\n        \"num_unique_values\": 7,\n        \"samples\": [\n          1,\n          2,\n          6\n        ],\n        \"semantic_type\": \"\",\n        \"description\": \"\"\n      }\n    },\n    {\n      \"column\": \"type\",\n      \"properties\": {\n        \"dtype\": \"category\",\n        \"num_unique_values\": 5,\n        \"samples\": [\n          \"TRANSFER\",\n          \"CASH_IN\",\n          \"CASH_OUT\"\n        ],\n        \"semantic_type\": \"\",\n        \"description\": \"\"\n      }\n    },\n    {\n      \"column\": \"branch\",\n      \"properties\": {\n        \"dtype\": \"category\",\n        \"num_unique_values\": 135,\n        \"samples\": [\n          \"Suiza\",\n          \"Ucrania\",\n          \"Barein\"\n        ],\n        \"semantic_type\": \"\",\n        \"description\": \"\"\n      }\n    },\n    {\n      \"column\": \"amount\",\n      \"properties\": {\n        \"dtype\": \"number\",\n        \"std\": 270636.88980309246,\n        \"min\": 2.39,\n        \"max\": 10000000.0,\n        \"num_unique_values\": 10079,\n        \"samples\": [\n          7788.88,\n          5031.22,\n          9198.49\n        ],\n        \"semantic_type\": \"\",\n        \"description\": \"\"\n      }\n    },\n    {\n      \"column\": \"nameOrig\",\n      \"properties\": {\n        \"dtype\": \"string\",\n        \"num_unique_values\": 10121,\n        \"samples\": [\n          \"C1202508091\",\n          \"C27971761\",\n          \"C1374688565\"\n        ],\n        \"semantic_type\": \"\",\n        \"description\": \"\"\n      }\n    },\n    {\n      \"column\": \"oldbalanceOrg\",\n      \"properties\": {\n        \"dtype\": \"number\",\n        \"std\": 2124553.903912938,\n        \"min\": 0.0,\n        \"max\": 12900000.0,\n        \"num_unique_values\": 7328,\n        \"samples\": [\n          5218.37,\n          7220754.65,\n          2483228.64\n        ],\n        \"semantic_type\": \"\",\n        \"description\": \"\"\n      }\n    },\n    {\n      \"column\": \"newbalanceOrig\",\n      \"properties\": {\n        \"dtype\": \"number\",\n        \"std\": 2169946.0307455147,\n        \"min\": 0.0,\n        \"max\": 13000000.0,\n        \"num_unique_values\": 5937,\n        \"samples\": [\n          9506081.11,\n          8783.78,\n          67157.27\n        ],\n        \"semantic_type\": \"\",\n        \"description\": \"\"\n      }\n    },\n    {\n      \"column\": \"nameDest\",\n      \"properties\": {\n        \"dtype\": \"string\",\n        \"num_unique_values\": 6495,\n        \"samples\": [\n          \"M1253827612\",\n          \"M212397882\",\n          \"M1320826684\"\n        ],\n        \"semantic_type\": \"\",\n        \"description\": \"\"\n      }\n    },\n    {\n      \"column\": \"oldbalanceDest\",\n      \"properties\": {\n        \"dtype\": \"number\",\n        \"std\": 2677976.088769633,\n        \"min\": 0.0,\n        \"max\": 19500000.0,\n        \"num_unique_values\": 4161,\n        \"samples\": [\n          385674.22,\n          693324.61,\n          8515645.77\n        ],\n        \"semantic_type\": \"\",\n        \"description\": \"\"\n      }\n    },\n    {\n      \"column\": \"newbalanceDest\",\n      \"properties\": {\n        \"dtype\": \"number\",\n        \"std\": 3048644.478804345,\n        \"min\": 0.0,\n        \"max\": 22600000.0,\n        \"num_unique_values\": 1509,\n        \"samples\": [\n          6736054.44,\n          499000.92,\n          72541.05\n        ],\n        \"semantic_type\": \"\",\n        \"description\": \"\"\n      }\n    },\n    {\n      \"column\": \"unusuallogin\",\n      \"properties\": {\n        \"dtype\": \"number\",\n        \"std\": 5,\n        \"min\": 0,\n        \"max\": 20,\n        \"num_unique_values\": 21,\n        \"samples\": [\n          9,\n          7,\n          6\n        ],\n        \"semantic_type\": \"\",\n        \"description\": \"\"\n      }\n    },\n    {\n      \"column\": \"isFlaggedFraud\",\n      \"properties\": {\n        \"dtype\": \"number\",\n        \"std\": 0,\n        \"min\": 0,\n        \"max\": 0,\n        \"num_unique_values\": 1,\n        \"samples\": [\n          0\n        ],\n        \"semantic_type\": \"\",\n        \"description\": \"\"\n      }\n    },\n    {\n      \"column\": \"Acct type\",\n      \"properties\": {\n        \"dtype\": \"category\",\n        \"num_unique_values\": 2,\n        \"samples\": [\n          \"Savings\"\n        ],\n        \"semantic_type\": \"\",\n        \"description\": \"\"\n      }\n    },\n    {\n      \"column\": \"Date of transaction\",\n      \"properties\": {\n        \"dtype\": \"category\",\n        \"num_unique_values\": 14,\n        \"samples\": [\n          \"13/1/2018\"\n        ],\n        \"semantic_type\": \"\",\n        \"description\": \"\"\n      }\n    },\n    {\n      \"column\": \"Time of day\",\n      \"properties\": {\n        \"dtype\": \"category\",\n        \"num_unique_values\": 3,\n        \"samples\": [\n          \"Morning\"\n        ],\n        \"semantic_type\": \"\",\n        \"description\": \"\"\n      }\n    },\n    {\n      \"column\": \"isFraud\",\n      \"properties\": {\n        \"dtype\": \"number\",\n        \"std\": 0.08167988116517944,\n        \"min\": 0.0,\n        \"max\": 1.0,\n        \"num_unique_values\": 2,\n        \"samples\": [\n          1.0\n        ],\n        \"semantic_type\": \"\",\n        \"description\": \"\"\n      }\n    }\n  ]\n}"
            }
          },
          "metadata": {},
          "execution_count": 21
        }
      ]
    },
    {
      "cell_type": "code",
      "source": [
        "### Kvitter oss med kolonnene vi ikke bruker ###\n",
        "df = df.drop(['nameOrig', 'nameDest', 'Unnamed: 0', 'Date of transaction', 'type', 'branch', 'Acct type', 'Time of day'], axis = 1)"
      ],
      "metadata": {
        "id": "lX8Ty5pobjbc"
      },
      "execution_count": 22,
      "outputs": []
    },
    {
      "cell_type": "code",
      "source": [
        "import numpy as np\n",
        "\n",
        "# Sjekker etter NAN verdi i vår response.\n",
        "nan_indices = np.isnan(df['isFraud'])\n",
        "\n",
        "# Summer antall NAN verdier\n",
        "num_nan_values = np.sum(df['isFraud'])\n",
        "\n",
        "# Print resultatet\n",
        "if num_nan_values > 0:\n",
        "    print(f\"There are {num_nan_values} nan values in df['isFraud'].\")\n",
        "else:\n",
        "    print(\"There are no nan values in df['isFraud'].\")"
      ],
      "metadata": {
        "colab": {
          "base_uri": "https://localhost:8080/"
        },
        "id": "Pl_alPl5br0m",
        "outputId": "79bad2e6-3b58-485c-f662-6965779a1c3a"
      },
      "execution_count": 23,
      "outputs": [
        {
          "output_type": "stream",
          "name": "stdout",
          "text": [
            "There are 68.0 nan values in df['isFraud'].\n"
          ]
        }
      ]
    },
    {
      "cell_type": "code",
      "source": [
        "### Kvitter oss med NAN values ###\n",
        "\n",
        "# Finn indeksene av rader med NAN verdier i responsen\n",
        "nan_indices = np.isnan(df['isFraud'])\n",
        "\n",
        "# Kvitter oss med disse radene\n",
        "df = df[~nan_indices]"
      ],
      "metadata": {
        "id": "nkO5zBQNcDxF"
      },
      "execution_count": 24,
      "outputs": []
    },
    {
      "cell_type": "code",
      "source": [
        "# Ser på hvilke features vi har nå\n",
        "df.columns"
      ],
      "metadata": {
        "colab": {
          "base_uri": "https://localhost:8080/"
        },
        "id": "kkHDdnKdcOBA",
        "outputId": "f59eecbe-6a81-42f9-e62a-725130601ce6"
      },
      "execution_count": 25,
      "outputs": [
        {
          "output_type": "execute_result",
          "data": {
            "text/plain": [
              "Index(['step', 'amount', 'oldbalanceOrg', 'newbalanceOrig', 'oldbalanceDest',\n",
              "       'newbalanceDest', 'unusuallogin', 'isFlaggedFraud', 'isFraud'],\n",
              "      dtype='object')"
            ]
          },
          "metadata": {},
          "execution_count": 25
        }
      ]
    },
    {
      "cell_type": "code",
      "source": [
        "# Fjern rader med NaN-verdier fra hele DataFrame\n",
        "df = df.dropna()"
      ],
      "metadata": {
        "id": "pr6SPm_djq6c"
      },
      "execution_count": 26,
      "outputs": []
    },
    {
      "cell_type": "code",
      "source": [
        "### Gjør om type-format til variabelen til modellen Random Forests liker:-) ###\n",
        "\n",
        "df.loc[:, 'step'] = df['step'].astype(int)\n",
        "#df.loc[:, 'type'] = df['type'].astype('category')\n",
        "#df.loc[:, 'branch'] = df['branch'].astype('category')\n",
        "df.loc[:, 'amount'] = df['amount'].astype(float)\n",
        "df.loc[:, 'oldbalanceOrg'] = df['oldbalanceOrg'].astype(float)\n",
        "df.loc[:, 'newbalanceOrig'] = df['newbalanceOrig'].astype(float)\n",
        "df.loc[:, 'oldbalanceDest'] = df['oldbalanceDest'].astype(float)\n",
        "df.loc[:, 'newbalanceDest'] = df['newbalanceDest'].astype(float)\n",
        "df.loc[:, 'unusuallogin'] = df['unusuallogin'].astype(int)\n",
        "df.loc[:, 'isFlaggedFraud'] = df['isFlaggedFraud'].astype(int)\n",
        "# Fill NaNs with a placeholder value\n",
        "#df['Acct type'].fillna('Unknown', inplace=True)\n",
        "#df['Time of day'].fillna('Unknown', inplace=True)\n",
        "\n",
        "# Convert 'Acct type' and 'Time of day' to category\n",
        "#df['Acct type'] = df['Acct type'].astype('category')\n",
        "#df['Time of day'] = df['Time of day'].astype('category')\n",
        "\n",
        "df.loc[:, 'isFraud'] = df['isFraud'].astype(int)"
      ],
      "metadata": {
        "id": "n4p_r2NLcS5s"
      },
      "execution_count": 27,
      "outputs": []
    },
    {
      "cell_type": "code",
      "source": [
        "# Her deler vi opp data i uavhengig og avhengig variabler\n",
        "X = df.drop(columns=['isFraud'])  # Ta bort responsen fra uavhengig variabelen\n",
        "y = df['isFraud']                 # Avhengig variabel/responsen, Fraud (1) eller NotFraud (0)\n",
        "\n",
        "# sklearn inneholder bibliotek, gode for å splitte data inn i test og treningsdata\n",
        "from sklearn.model_selection import train_test_split\n",
        "X_train, X_test, y_train, y_test = train_test_split(X, y, test_size=0.2, random_state=42)"
      ],
      "metadata": {
        "id": "XdEi-Pipbk6z"
      },
      "execution_count": 28,
      "outputs": []
    },
    {
      "cell_type": "code",
      "source": [
        "# La oss se på fordelingen av antall svindel i datasettet (i både trening og test settet.)\n",
        "import matplotlib.pyplot as plt\n",
        "\n",
        "# Create subplots\n",
        "fig, (ax1, ax2) = plt.subplots(1, 2, figsize=(16, 6))\n",
        "\n",
        "# Plot histogram of y_train\n",
        "ax1.hist(y_train, bins=10, alpha=0.75, color='blue')\n",
        "ax1.set_title('Distribution of y_train')\n",
        "ax1.set_xlabel('Classes')\n",
        "ax1.set_ylabel('Frequency')\n",
        "ax1.grid(True)\n",
        "\n",
        "# Plot histogram of y_test\n",
        "ax2.hist(y_test, bins=10, alpha=0.75, color='green')\n",
        "ax2.set_title('Distribution of y_test')\n",
        "ax2.set_xlabel('Classes')\n",
        "ax2.set_ylabel('Frequency')\n",
        "ax2.grid(True)\n",
        "\n",
        "# Show plot\n",
        "plt.show()"
      ],
      "metadata": {
        "colab": {
          "base_uri": "https://localhost:8080/",
          "height": 540
        },
        "id": "hern0BuGc1Qk",
        "outputId": "f57c2b61-b637-4091-bcff-14ff6c9fa75e"
      },
      "execution_count": 29,
      "outputs": [
        {
          "output_type": "display_data",
          "data": {
            "text/plain": [
              "<Figure size 1600x600 with 2 Axes>"
            ],
            "image/png": "[encoded data removed]"
          },
          "metadata": {}
        }
      ]
    },
    {
      "cell_type": "markdown",
      "source": [
        "-----\n",
        "## **Hjemmeoppgave**\n",
        "Som vi ser fra plottet over har vi det som kalles *ubalansert* eller *skjevt* datasett (eng: **imbalanced dataset**), og referer til situasjonen der klasser i datasettet har betydelig ulik forekomst/antall observasjoner. For dette eksempelet, som er et binært klassifiseringsproblem, ser vi at $1$ (\"isFraud\") skjer mye sjeldnere i vårt datasett enn verdien $0$.\n",
        "\n",
        "En mulighet er å legge til flere eksempler i minoritetsklassen, for eksempel ved hjelp av teknikker som SMOTE (Synthetic Minority Over-sampling Technique). Under er et eksempel!\n",
        "\n",
        "```python\n",
        "# Prøv å fikse problemet med ubalansert datasett vha SMOTE\n",
        "from imblearn.over_sampling import SMOTE\n",
        "\n",
        "smote = SMOTE(sampling_strategy='minority')\n",
        "X_resampled_train, y_resampled_train = smote.fit_resample(X_train, y_train)\n",
        "```\n",
        "------"
      ],
      "metadata": {
        "id": "1_fmp54tk0S4"
      }
    },
    {
      "cell_type": "markdown",
      "source": [
        "Her ser vi at det er en klar overvekt i antall **ikke-svindel** hendelser."
      ],
      "metadata": {
        "id": "ZXEwe0scc_a8"
      }
    },
    {
      "cell_type": "code",
      "source": [
        "y_test.value_counts()"
      ],
      "metadata": {
        "colab": {
          "base_uri": "https://localhost:8080/",
          "height": 178
        },
        "id": "PFTH8YSL32MI",
        "outputId": "bd715392-741d-4f95-83a1-64e60ad270ae"
      },
      "execution_count": 30,
      "outputs": [
        {
          "output_type": "execute_result",
          "data": {
            "text/plain": [
              "isFraud\n",
              "0.0    2010\n",
              "1.0      14\n",
              "Name: count, dtype: int64"
            ],
            "text/html": [
              "<div>\n",
              "<style scoped>\n",
              "    .dataframe tbody tr th:only-of-type {\n",
              "        vertical-align: middle;\n",
              "    }\n",
              "\n",
              "    .dataframe tbody tr th {\n",
              "        vertical-align: top;\n",
              "    }\n",
              "\n",
              "    .dataframe thead th {\n",
              "        text-align: right;\n",
              "    }\n",
              "</style>\n",
              "<table border=\"1\" class=\"dataframe\">\n",
              "  <thead>\n",
              "    <tr style=\"text-align: right;\">\n",
              "      <th></th>\n",
              "      <th>count</th>\n",
              "    </tr>\n",
              "    <tr>\n",
              "      <th>isFraud</th>\n",
              "      <th></th>\n",
              "    </tr>\n",
              "  </thead>\n",
              "  <tbody>\n",
              "    <tr>\n",
              "      <th>0.0</th>\n",
              "      <td>2010</td>\n",
              "    </tr>\n",
              "    <tr>\n",
              "      <th>1.0</th>\n",
              "      <td>14</td>\n",
              "    </tr>\n",
              "  </tbody>\n",
              "</table>\n",
              "</div><br><label><b>dtype:</b> int64</label>"
            ]
          },
          "metadata": {},
          "execution_count": 30
        }
      ]
    },
    {
      "cell_type": "markdown",
      "source": [
        "### Under er eksempelbruk av maskinlæringsteknikken **XGBOOST**\n",
        "Vi kommer ikke til å bruke tid på å gå inn på teorien bak XGBoost, vit at *boosting* (*boosted trees*) er en ofte brukt teknikk, som har en fordel at de er relativt lett å programmere. Denne teknikken kan dere velge å bruke i prosjektet i kurset."
      ],
      "metadata": {
        "id": "lHsinIhmiX-C"
      }
    },
    {
      "cell_type": "code",
      "source": [
        "import xgboost as xgb\n",
        "from sklearn.metrics import classification_report, confusion_matrix\n",
        "\n",
        "# Lag en Boosting model - ved å bruke XGBoost.\n",
        "model = xgb.XGBClassifier(use_label_encoder=False, eval_metric='logloss', enable_categorical=True)\n",
        "\n",
        "# Trene modellen\n",
        "model.fit(X_train, y_train)\n",
        "\n",
        "# Gjøre prediksjoner\n",
        "y_pred = model.predict(X_test)"
      ],
      "metadata": {
        "colab": {
          "base_uri": "https://localhost:8080/"
        },
        "id": "172DVpPqdGjD",
        "outputId": "5ef85f2e-037f-4acd-de92-f92c1b8ef4d7"
      },
      "execution_count": 31,
      "outputs": [
        {
          "output_type": "stream",
          "name": "stderr",
          "text": [
            "/usr/local/lib/python3.10/dist-packages/xgboost/core.py:158: UserWarning: [08:41:58] WARNING: /workspace/src/learner.cc:740: \n",
            "Parameters: { \"use_label_encoder\" } are not used.\n",
            "\n",
            "  warnings.warn(smsg, UserWarning)\n"
          ]
        }
      ]
    },
    {
      "cell_type": "code",
      "source": [
        "conf_mat_boosting = confusion_matrix(y_test, y_pred)\n",
        "conf_mat_boosting"
      ],
      "metadata": {
        "colab": {
          "base_uri": "https://localhost:8080/"
        },
        "id": "uuSQfNc9dLBS",
        "outputId": "927c9556-2d4a-4fac-8a45-cf0df928148f"
      },
      "execution_count": 32,
      "outputs": [
        {
          "output_type": "execute_result",
          "data": {
            "text/plain": [
              "array([[2010,    0],\n",
              "       [   7,    7]])"
            ]
          },
          "metadata": {},
          "execution_count": 32
        }
      ]
    },
    {
      "cell_type": "code",
      "source": [
        "import matplotlib.pyplot as plt\n",
        "import seaborn as sns\n",
        "from sklearn.metrics import confusion_matrix\n",
        "\n",
        "# Finner confusion matrix. som eksempel over\n",
        "conf_mat_nice = confusion_matrix(y_test, y_pred)\n",
        "\n",
        "# Plot confusion matrix\n",
        "plt.figure(figsize=(6, 4))\n",
        "sns.heatmap(conf_mat_nice, annot=True, fmt='d', cmap='Blues', xticklabels=['Predicted Negative', 'Predicted Positive'], yticklabels=['Actual Negative', 'Actual Positive'])\n",
        "plt.xlabel('Predicted')\n",
        "plt.ylabel('Actual')\n",
        "plt.title('Confusion Matrix')\n",
        "plt.show()"
      ],
      "metadata": {
        "colab": {
          "base_uri": "https://localhost:8080/",
          "height": 410
        },
        "id": "_QL43cgeWcqy",
        "outputId": "b781dd64-a94e-4e34-935e-d73074e21e50"
      },
      "execution_count": 33,
      "outputs": [
        {
          "output_type": "display_data",
          "data": {
            "text/plain": [
              "<Figure size 600x400 with 2 Axes>"
            ],
            "image/png": "[encoded data removed]"
          },
          "metadata": {}
        }
      ]
    },
    {
      "cell_type": "code",
      "source": [
        "accuracy = accuracy_score(y_test, y_pred)\n",
        "print(f\"Accuracy: {accuracy * 100:.2f}%\")"
      ],
      "metadata": {
        "colab": {
          "base_uri": "https://localhost:8080/"
        },
        "id": "yAePSuIM0g6w",
        "outputId": "7e84f210-b0e9-4c18-8840-28c54f163ee2"
      },
      "execution_count": 34,
      "outputs": [
        {
          "output_type": "stream",
          "name": "stdout",
          "text": [
            "Accuracy: 99.65%\n"
          ]
        }
      ]
    },
    {
      "cell_type": "markdown",
      "source": [
        "Over her ser vi det vi kaller en *confusion matrix*, og dette kan vi bruke til å si noe om hvor godt/dårlig vår modell har gjort det.\n",
        "\n",
        "Her har vi ikke brukt noe valideringsdata, kun training og test-sett. Det kommer av at her brukte vi *boosting* (en teknikk som bruker *beslutningstrær*) som har færre *hyperparametere* enn for eksempel nevrale nettverk.\n",
        "\n",
        "-------"
      ],
      "metadata": {
        "id": "wrIptUuedW7S"
      }
    },
    {
      "cell_type": "markdown",
      "source": [
        "# Mer om confusion matrix - og metrikker vi kan få ut av det\n",
        "\n",
        "## Nøyaktighet (Accuracy)\n",
        "Formel: $\\frac{TP + TN}{TP + TN + FP + FN}$\n",
        "\n",
        "Tolkning: Totalt antall korrekte prediksjoner delt på totalt antall observasjoner.\n",
        "\n",
        "---\n",
        "\n",
        "## Presisjon (Precision)\n",
        "Formel: $\\frac{TP}{TP + FP}$\n",
        "\n",
        "Tolkning: Andel av positive prediksjoner som er korrekte.\n",
        "\n",
        "---\n",
        "\n",
        "## Gjenkalling (Recall/Sensitivitet)\n",
        "Formel: $\\frac{TP}{TP + FN}$\n",
        "\n",
        "Tolkning: Andel av faktiske positive tilfeller som korrekt er identifisert som positive.\n",
        "\n",
        "---\n",
        "\n",
        "## F1-Score\n",
        "Formel: $2 \\cdot \\frac{\\text{Precision} \\cdot \\text{Recall}}{\\text{Precision} + \\text{Recall}}$\n",
        "\n",
        "Tolkning: En kombinasjon av presisjon og gjenkalling.\n",
        "\n",
        "---\n",
        "\n",
        "## Spesifisitet (Specificity)\n",
        "Formel: $\\frac{TN}{TN + FP}$\n",
        "\n",
        "Tolkning: Andel av faktiske negative tilfeller som korrekt er identifisert som negative.\n",
        "\n",
        "---\n",
        "\n",
        "## Falsk positiv rate (FPR)\n",
        "Formel: $\\frac{FP}{FP + TN}\\$\n",
        "\n",
        "Tolkning: Andel av faktiske negative tilfeller som feilaktig er klassifisert som positive.\n",
        "\n",
        "---\n",
        "\n",
        "## Falsk negativ rate (FNR)\n",
        "Formel: $\\frac{FN}{FN + TP}$\n",
        "  \n",
        "Tolkning: Andel av faktiske positive tilfeller som feilaktig er klassifisert som negative.\n",
        "\n",
        "\n",
        "\n",
        "\n"
      ],
      "metadata": {
        "id": "QyW5_hIpY-lo"
      }
    },
    {
      "cell_type": "markdown",
      "source": [
        "# Oppgave\n",
        "Så med disse metrikkene over - er egentlig vår modell bra her?"
      ],
      "metadata": {
        "id": "ks6p3Vr7tYs4"
      }
    },
    {
      "cell_type": "markdown",
      "source": [
        "## **Overfitting**\n",
        "$\\textit{Overfitting}$ eller over-tilpasning skjer når en maskinlæringsmodell \"lærer\" noise og tilfeldige fluktasjoner i treningsdata'en - og ikke den **underliggende** mønsteret i data'en. Dette gjør at modellen kan være fryktelig god på treningsdata'en, men generaliserer dårlig til ny, ikke-sett data. Dette vil kunne bli problem hvis man skal ta i bruk maskinlæringsmodeller i den virkelige verden.\n",
        "\n",
        "### Viktige konsepter:\n",
        "1. **Underfitting**: Når modellen er for *simpel* til å fange data'en underliggende struktur. F.eks. å bruke lineær regresjon for å predikere været.\n",
        "\n",
        "2. **Overfitting**: Når modeller er for *kompleks* og fanger opp noise i treningsdataen.\n",
        "\n",
        "3. **Generalisering**: Handler om modellens evne til å gjøre det bra på ny, ikke-sett data (test-sett).\n",
        "\n",
        "![Eksempel](https://miro.medium.com/v2/resize:fit:1400/format:webp/1*_7OPgojau8hkiPUiHoGK_w.png)"
      ],
      "metadata": {
        "id": "NaHZE_X0P3Bs"
      }
    },
    {
      "cell_type": "markdown",
      "source": [
        "## Eksempel på overfitting\n",
        "Hvis vi prøver å lage en confusion matrix av modellen vår, hvor vi tester modellen på **treningsdataen**.\n",
        "\n",
        "### Før du kjører de neste to cellene, hva forventer du at utfallet er?"
      ],
      "metadata": {
        "id": "tWd__H1K4Bw3"
      }
    },
    {
      "cell_type": "code",
      "source": [
        "# Gjøre prediksjoner, men denne gang på treningsdata'en (ikke test-data'en)\n",
        "y_pred_on_train = model.predict(X_train)"
      ],
      "metadata": {
        "id": "owpdQhfYgYYH"
      },
      "execution_count": 35,
      "outputs": []
    },
    {
      "cell_type": "code",
      "source": [
        "conf_mat_boosting = confusion_matrix(y_train, y_pred_on_train)\n",
        "conf_mat_boosting"
      ],
      "metadata": {
        "colab": {
          "base_uri": "https://localhost:8080/"
        },
        "id": "eq39Q27qf0Go",
        "outputId": "900de641-19a5-432d-b725-cb2a745fb7ea"
      },
      "execution_count": 36,
      "outputs": [
        {
          "output_type": "execute_result",
          "data": {
            "text/plain": [
              "array([[8042,    0],\n",
              "       [   1,   53]])"
            ]
          },
          "metadata": {},
          "execution_count": 36
        }
      ]
    },
    {
      "cell_type": "markdown",
      "source": [
        "## **Hvorfor er denne confusion matrixen så \"bra\"?**\n",
        "Skriv hva du tror her:"
      ],
      "metadata": {
        "id": "JDC0H7l-gzAK"
      }
    },
    {
      "cell_type": "markdown",
      "source": [
        "## **Årsaker til overfitting**\n",
        "* **Kompleks modell**: Det er mange måter en modell kan være for kompleks på, men for mange variabler (features), dype nettverk og høy-ordens polynomer er noen årsaker.\n",
        "* **Mangel på data**: Begreset mengde data gjør det lettere for en model å *memorisere*, i steden for å *generalisere*.\n",
        "* **Mangel på regularisering**: Hvis man mangler teknikker for å straffe (eng: *penalize*) veldig komplekse modeller.\n",
        "* oooog, mange fler. Dette skal vi få sett mer hands-on på gjennom kurset.\n",
        "\n",
        "### **Hvordan kan vi spotte overfitting?**\n",
        "* **Stor varians i resultat**:\n",
        "  * Store forskjell mellom trening og validering/test-sett sin nøyaktighet (eng: *accuracy*).\n",
        "  * Hvis man bruker ulike *random.seed's* og får veeeldig ulike outputs.\n",
        "\n",
        "## **Teknikker for å forhindre overfitting**\n",
        "* **Kryss-validering**: Gjør for en mer robust modell ved å validere over flere delmengder (subsets) av datasettet.\n",
        "![](https://www.mathworks.com/discovery/cross-validation/_jcr_content/mainParsys/image.adapt.full.medium.jpg/1718274806179.jpg)\n",
        "\n",
        "* **Pruning (for decision trees)**: Kvitte seg med *noder* som ikke gir noe særlig informasjon.\n",
        "![](https://upload.wikimedia.org/wikipedia/commons/thumb/2/23/Before_after_pruning.png/1000px-Before_after_pruning.png)\n",
        "\n",
        "* **Dropout (for nevrale nettverk)**: Tilfeldig *dropping* av nevroner mens det trenes.\n",
        "![](https://www.researchgate.net/profile/Amine-Ben-Khalifa/publication/309206911/figure/fig3/AS:418379505651712@1476760855735/Dropout-neural-network-model-a-is-a-standard-neural-network-b-is-the-same-network.png)\n",
        "\n",
        "* **Early stopping**: Slutt å tren nevrale nettverket når modellen slutter å gjøre det bedre når det testes på validerings-settet.\n"
      ],
      "metadata": {
        "id": "Xm-zNLZb3-1a"
      }
    },
    {
      "cell_type": "markdown",
      "source": [
        "### **Overfitting i økonomi**\n",
        "Overfitting er et kjent problem i økonomi, f.eks. i prediksjon av aksjekurser. Har man en modell som passer treningsdata'en perfekt når det gjelder aksjer - er det fort gjort at vi snakker om overfitting.\n",
        "\n",
        "#### **Praktiske tips**\n",
        "* Bruk enkle modeller i starten, og gradvis øk kompleksiteten.\n",
        "  * Hvordan gjøre lineær regresjon det her, deretter ta beslutningstrær, xgboost og nevrale nettverk.\n",
        "* Bruke *domene-kunnskap* for å velge relevante features.\n",
        "* Valider modeller, innføre *penalties* og vær kritisk til *for gode* resultater.\n",
        "\n",
        "---"
      ],
      "metadata": {
        "id": "0rbDIGqRDMc4"
      }
    },
    {
      "cell_type": "markdown",
      "source": [
        "\n",
        "# **Oppgaver**\n",
        "Under her er det gitt et par oppgaver. Ingen obligatoriske, men nyttige for egen forståelse av fundamentale konsepter i maskinlæring. I tillegg, ingen dårlig trening mot en muntlig eksamen.\n",
        "\n",
        "## Oppgave 1\n",
        "Det er gitt en *hjemmeoppgave* lenger oppe i notebook'en. Den omhandler ubalanserte datasett, og hvordan vi kan takle det ved hjelp av SMOTE. Gjør denne, og jobb gjennom eksempelet med ```Fraud.csv``` datasettet.\n",
        "\n",
        "## Oppgave 2\n",
        "Utledningsoppgave lenger oppe i notebook'en.\n",
        "\n",
        "Utled $$E[(Y - \\hat{Y})^2]$$ for å vise at det er lik $$[f(X)-\\hat{f}(X)]^2 + Var(ϵ)$$\n",
        "\n",
        "## Oppgave 3\n",
        "Forklar med egne ord, hva som er forskjellen mellom inferens og prediksjon.\n",
        "\n",
        "## Oppgave 4\n",
        "Forklar med egne ord, hva irreducible error er. Gjerne ved hjelp av matematikk.\n",
        "\n",
        "## Oppgave 5\n",
        "Hva er forskjellen mellom regresjon og klassifikasjon.\n",
        "\n",
        "## Oppgave 6\n",
        "Hva er overfitting, og hvor kan man støte på overfitting-problemer?"
      ],
      "metadata": {
        "id": "57DFk4s5Ps4-"
      }
    },
    {
      "cell_type": "code",
      "source": [],
      "metadata": {
        "id": "XJ06VdIqLRqy"
      },
      "execution_count": null,
      "outputs": []
    }
  ]
}
