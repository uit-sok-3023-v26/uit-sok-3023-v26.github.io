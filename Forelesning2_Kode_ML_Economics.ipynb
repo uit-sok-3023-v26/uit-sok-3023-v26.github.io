{
  "nbformat": 4,
  "nbformat_minor": 0,
  "metadata": {
    "colab": {
      "provenance": []
    },
    "kernelspec": {
      "name": "python3",
      "display_name": "Python 3"
    },
    "language_info": {
      "name": "python"
    }
  },
  "cells": [
    {
      "cell_type": "markdown",
      "source": [
        "# **Forelesning 2 - Matematikk, statistikk og bakgrunn for maskinlæring**\n",
        "\n",
        "> Pure mathematics is, in its way, the poetry of logical ideas. - Albert Einstein\n",
        "\n",
        "\n",
        "\n"
      ],
      "metadata": {
        "id": "iMlJ7Zn3zE-7"
      }
    },
    {
      "cell_type": "markdown",
      "source": [
        "## Hvorfor?\n",
        "For å forstå mange av de operasjonene vi skal gjøre trenger vi noe fundamental matematikk i bunn. Dette kommer vi bare til å skrape overflaten til, men likevel gi en introduksjon og intuisjon til hvorfor vi kan gjøre det vi kommer til å gjøre."
      ],
      "metadata": {
        "id": "Emqfgett2xb2"
      }
    },
    {
      "cell_type": "markdown",
      "source": [
        "## **Fra sist gang**\n",
        "Sist forelesning startet vi å diskutere hvordan vi bruker Python til enkle maskinlæringsmodeller, TensorFlow og teori bak dyplæring. Da brukes *tensorer* som input, som igjen gir ut et output. For dette har vi ofte behov for lineære transformasjoner. Tensorflow er nemlig utmerket for å gjøre lineær algebra, og dette er noe av grunn-steinen i maskinlæring, så derfor skal vi diskutere litt ulik bruk av TensorFlow til lineær algebra."
      ],
      "metadata": {
        "id": "18xEKcg9nwJS"
      }
    },
    {
      "cell_type": "markdown",
      "source": [
        "## Skalar addisjon og multiplikasjon\n",
        "Hvis vi ønsker å definere en *skalar* eller *rank-0 tensor* bruker vi funksjonen *tf.constant()*. Mens andre ganger vil vi kanskje at disse skalar'ene skal være *trenbare* parametere, da bruker vi heller funksjonen *tf.Variable()*."
      ],
      "metadata": {
        "id": "zq5TgyTuoRpZ"
      }
    },
    {
      "cell_type": "code",
      "source": [
        "import tensorflow as tf\n",
        "\n",
        "# Her viser vi eksempel av tf.add() og tf.multiply() - for å summere og multiplisere konstanter\n",
        "constant1 = tf.constant(2)\n",
        "constant2 = tf.constant(3)\n",
        "\n",
        "# Summere to skalarer (rank-0 tensorer)\n",
        "sum = tf.add(constant1, constant2)\n",
        "\n",
        "# Multiplisere to skalarer (rank-1 tensorer)\n",
        "multiply = tf.multiply(constant1, constant2)\n",
        "\n",
        "print(sum)\n",
        "print(multiply)"
      ],
      "metadata": {
        "colab": {
          "base_uri": "https://localhost:8080/"
        },
        "id": "ZuX3awHsoRMa",
        "outputId": "50c6f779-1b78-44d9-933a-d9e537d5101b"
      },
      "execution_count": null,
      "outputs": [
        {
          "output_type": "stream",
          "name": "stdout",
          "text": [
            "tf.Tensor(5, shape=(), dtype=int32)\n",
            "tf.Tensor(6, shape=(), dtype=int32)\n"
          ]
        }
      ]
    },
    {
      "cell_type": "markdown",
      "source": [
        "### Vi kan gjøre det samme for rank-1 tensorer (vektorer)\n"
      ],
      "metadata": {
        "id": "QXSiqRR4x007"
      }
    },
    {
      "cell_type": "code",
      "execution_count": null,
      "metadata": {
        "id": "rPwiLQrlzBnv",
        "colab": {
          "base_uri": "https://localhost:8080/"
        },
        "outputId": "194721d6-4d41-475d-9d62-c7ef792b8428"
      },
      "outputs": [
        {
          "output_type": "stream",
          "name": "stdout",
          "text": [
            "tf.Tensor([ 5  7  9 11], shape=(4,), dtype=int32)\n",
            "tf.Tensor([ 6 12 20 30], shape=(4,), dtype=int32)\n"
          ]
        }
      ],
      "source": [
        "# La oss gjøre det samme, men for rank-1 tensorer (vektorer)\n",
        "vec1 = tf.constant([2, 3, 4, 5])\n",
        "vec2 = tf.constant([3, 4, 5, 6])\n",
        "\n",
        "sum = tf.add(vec1, vec2)\n",
        "multiply = tf.multiply(vec1, vec2)\n",
        "\n",
        "print(sum)\n",
        "print(multiply)"
      ]
    },
    {
      "cell_type": "code",
      "source": [
        "# Vi kan også gjøre addisjon/multiplikasjon ved det som kalles \"operator overloading\" - og få samme resultat\n",
        "print(vec1 + vec2)\n",
        "print(vec1 * vec2)"
      ],
      "metadata": {
        "colab": {
          "base_uri": "https://localhost:8080/"
        },
        "id": "fG8mhCSDukE4",
        "outputId": "8c7cb695-b17b-40ff-9db0-80973fc29d04"
      },
      "execution_count": null,
      "outputs": [
        {
          "output_type": "stream",
          "name": "stdout",
          "text": [
            "tf.Tensor([ 5  7  9 11], shape=(4,), dtype=int32)\n",
            "tf.Tensor([ 6 12 20 30], shape=(4,), dtype=int32)\n"
          ]
        }
      ]
    },
    {
      "cell_type": "markdown",
      "source": [
        "## **Multiplikasjon av tensorer**\n",
        "Over så vi på tensor addisjon og multiplikasjon, av skalarer/vektorer av samme dimensjon. Men nå skal vi tre ulike typer av tensor-multiplikasjon.\n",
        "\n",
        "1. **Elementvis multiplikasjon**\n",
        "2. **Dot produktet**\n",
        "3. **Matrise multiplikasjon**"
      ],
      "metadata": {
        "id": "nh7YSnExzU_s"
      }
    },
    {
      "cell_type": "markdown",
      "source": [
        "## 1. Elementvis multiplikasjon\n",
        "Her er det et **krav** at tensorene har samme dimensjoner. For eksempel kan vi gjøre følgende:\n",
        "\n",
        "$$\\begin{bmatrix}\n",
        "a_{00} & a_{01} \\\\\n",
        "a_{10} & a_{11}\n",
        "\\end{bmatrix}\n",
        "\\odot\n",
        "\\begin{bmatrix}\n",
        "b_{00} & b_{01} \\\\\n",
        "b_{10} & b_{11}\n",
        "\\end{bmatrix}\n",
        "=\n",
        "\\begin{bmatrix}\n",
        "a_{00} * b_{00} & a_{01} * b_{01} \\\\\n",
        "a_{10} * b_{10} & a_{11} * b_{11}\n",
        "\\end{bmatrix}\n",
        "=\n",
        "\\begin{bmatrix}\n",
        "c_{00} & c_{01} \\\\\n",
        "c_{10} & c_{11}\n",
        "\\end{bmatrix}$$\n",
        "\n",
        "hvor $\\odot$ betyr *elementvis* multiplikasjon.\n"
      ],
      "metadata": {
        "id": "jYSgZnZK5pQe"
      }
    },
    {
      "cell_type": "code",
      "source": [
        "# Dette kan eksemplifiseres på følgende vis\n",
        "A_matrix = tf.constant([[1, 2], [3, 4]])\n",
        "B_matrix = tf.constant([[5, 6], [7, 8]])\n",
        "\n",
        "mult = tf.multiply(A_matrix, B_matrix)\n",
        "print(mult)"
      ],
      "metadata": {
        "colab": {
          "base_uri": "https://localhost:8080/"
        },
        "id": "C9T_a7iCysL9",
        "outputId": "23343fe4-749c-4ffa-82cf-8d2fec0044ea"
      },
      "execution_count": null,
      "outputs": [
        {
          "output_type": "stream",
          "name": "stdout",
          "text": [
            "tf.Tensor(\n",
            "[[ 5 12]\n",
            " [21 32]], shape=(2, 2), dtype=int32)\n"
          ]
        }
      ]
    },
    {
      "cell_type": "code",
      "source": [
        "# Her kan vi også bruke \"operator overloading\"\n",
        "print(A_matrix * B_matrix)"
      ],
      "metadata": {
        "colab": {
          "base_uri": "https://localhost:8080/"
        },
        "id": "TDULvrfF6zaO",
        "outputId": "4029b1f6-3a5f-4515-8384-5ed574d0aa2a"
      },
      "execution_count": null,
      "outputs": [
        {
          "output_type": "stream",
          "name": "stdout",
          "text": [
            "tf.Tensor(\n",
            "[[ 5 12]\n",
            " [21 32]], shape=(2, 2), dtype=int32)\n"
          ]
        }
      ]
    },
    {
      "cell_type": "markdown",
      "source": [
        "## 2. Dot produktet\n",
        "*Dot-produktet* kan man regne ut mellom to vektorer, kall disse $A$ og $B$, med samme antall elementer $n$. Da er dot-produktet summen av produktene til de korresponderende elementene i $A$ og $B$. Dette kan vi skrive mer matematisk.\n",
        "\n",
        "La $A=[a_0, a_1, \\ldots, a_n]$ og $B=[b_0, b_1, \\ldots, b_n]$, da er dot-produktet\n",
        "\n",
        "\\begin{align*}\n",
        "c &= A \\cdot B \\\\\n",
        "c &= \\sum_{i=0}^n a_i b_i\n",
        "\\end{align*}"
      ],
      "metadata": {
        "id": "gPo9wKoF7ENa"
      }
    },
    {
      "cell_type": "code",
      "source": [
        "# La oss bruke 'tensordot' for å regne ut dot-produktet mellom A og B\n",
        "\n",
        "# Velger to vilkårlig A og B vektorer.\n",
        "A = tf.constant([1, 2, 3])\n",
        "B = tf.constant([4, 5, 6])\n",
        "\n",
        "# tf.tensordot brukes for å regne ut dot-produktet.\n",
        "C = tf.tensordot(A, B, axes=1)\n",
        "print(C)\n",
        "\n",
        "# Hvis dere kun vil ha numpy argumentet (selve tall-verdien av dotproduktet)\n",
        "print(C.numpy())"
      ],
      "metadata": {
        "colab": {
          "base_uri": "https://localhost:8080/"
        },
        "id": "IChszHVh7DPz",
        "outputId": "960ccaf0-54c8-4618-bc79-a94a18755401"
      },
      "execution_count": null,
      "outputs": [
        {
          "output_type": "stream",
          "name": "stdout",
          "text": [
            "tf.Tensor(32, shape=(), dtype=int32)\n",
            "32\n"
          ]
        }
      ]
    },
    {
      "cell_type": "markdown",
      "source": [
        "## 3. Matrisemultiplikasjon\n",
        "*Matrisemultiplikasjon* gir kun mening ved å diskutere rank-2 tensorer (matriser). Selv om vi kan gjøre matrisemultiplikasjon av rank-k tensorer ($k>2$), så kalles det \"batch\" matrise multiplikasjon. Dette kan brukes i convolutional neural networks, som brukes mye i maskinlæring når det gjelder bilder. Vi vil se litt på dette senere i kurset, men er ikke noe vi kommer til å bruke alt for mye tid på.\n",
        "\n",
        "Fra lineær algebra og matematikken husker vi (forhåpentligvis) at hvis vi skal matrise-multiplisere $A$ med $B$, må $A$ har like mange kolonner som $B$ har rader.\n",
        "\n",
        "Da kan vi skrive matrise $A_{i*}$ for ha ha $i$ antall rader og $*$ (vilkårlig) antall kolonner. $B_{*j}$ har $*$ rader (samme som antall kolonner i $A$) og $j$ kolonner. Da er produktet av disse to\n",
        "\n",
        "$$C_{ij}=A_{i*} \\cdot B_{*j}$$\n",
        "\n",
        "eksempelvis gjennomføres det slik\n",
        "$$\n",
        "C = \\begin{bmatrix}\n",
        "a_{00} & a_{01} \\\\\n",
        "a_{10} & a_{11}\n",
        "\\end{bmatrix}\n",
        "\\cdot\n",
        "\\begin{bmatrix}\n",
        "b_{00} & b_{01} \\\\\n",
        "b_{10} & b_{11}\n",
        "\\end{bmatrix}\n",
        "= \\begin{bmatrix}\n",
        "a_{00}b_{00} + a_{01}b_{10} & a_{00}b_{01} + a_{01}b_{11} \\\\\n",
        "a_{10}b_{00} + a_{11}b_{10} & a_{10}b_{01} + a_{11}b_{11}\n",
        "\\end{bmatrix}\n",
        "$$"
      ],
      "metadata": {
        "id": "ngOwUHQm8tUf"
      }
    },
    {
      "cell_type": "code",
      "source": [
        "# Dette kan vi gjøre med kode\n",
        "\n",
        "# Definerer to matriser\n",
        "A = tf.constant([[1, 2,], [3, 4], [9, 10]])\n",
        "B = tf.constant([[5, 6], [7, 8]])\n",
        "\n",
        "# tf.matmul gjennomfører matrise multiplikasjonen\n",
        "C = tf.matmul(A, B)\n",
        "print(C)\n",
        "print(C.shape)"
      ],
      "metadata": {
        "colab": {
          "base_uri": "https://localhost:8080/"
        },
        "id": "iGxXxan78Wgr",
        "outputId": "a63e5eb5-d523-4e9c-b48f-5d024b2647df"
      },
      "execution_count": null,
      "outputs": [
        {
          "output_type": "stream",
          "name": "stdout",
          "text": [
            "tf.Tensor(\n",
            "[[ 19  22]\n",
            " [ 43  50]\n",
            " [115 134]], shape=(3, 2), dtype=int32)\n",
            "(3, 2)\n"
          ]
        }
      ]
    },
    {
      "cell_type": "markdown",
      "source": [
        "# **Nevrale nettverk - grunnsteinen i dyplæring**\n",
        "\n",
        "\n",
        "## **Arkitektur**\n",
        "Nevrale nettverk er en sentral komponent i dyplæring og består av flere lag med noder (nevroner) som er organisert i en bestemt struktur. Arkitekturen til et nevralt nettverk bestemmer hvordan data blir behandlet og lært av modellen. Her er de viktigste komponentene:\n",
        "\n",
        "1. **Input lag**:\n",
        "Dette er det første laget i et nevralt nettverk, hvor dataene blir matet inn i nettverket. Hvert nevron i inngangslaget representerer en funksjon eller et trekk ved de opprinnelige dataene. For eksempel, i et bildeklassifikasjonsproblem kan hvert nevron representere en pikselverdi.\n",
        "\n",
        "2. **Skjulte lag (Hidden Layers)**:\n",
        "Disse lagene ligger mellom inngangslaget og utgangslaget og består av noder som gjør beregninger basert på vekter og aktiveringsfunksjoner. Skjulte lag er ansvarlige for å lære representasjoner og mønstre i dataene. Antall skjulte lag og noder i hvert lag er en viktig del av arkitekturen og kan variere avhengig av problemet og nettverkets kompleksitet.\n",
        "\n",
        "3. **Utgangslag (Output Layer)**:\n",
        "Dette laget gir det endelige resultatet av nettverkets beregninger. I en klassifikasjonsoppgave vil utgangslaget typisk bruke en aktiveringsfunksjon som Softmax for å gi en sannsynlighetsfordeling over de forskjellige klassene. I en regresjonsoppgave kan utgangslaget være en enkelt neuron som gir en kontinuerlig verdi.\n",
        "\n",
        "![Nevralt nettverk](https://miro.medium.com/v2/resize:fit:1400/format:webp/0*_SH7tsNDTkGXWtZb.png)\n",
        "\n",
        "4. **Vekter og biaser**:\n",
        "Hver forbindelse mellom noder i påfølgende lag har tilknyttede vekter, og hver node kan ha en bias. Vektene og biasene justeres under treningsprosessen for å minimere forskjellen mellom de predikerte verdiene og de faktiske verdiene.\n",
        "\n",
        "5. **Feedforward og Backpropagation**:\n",
        "* *Feedforward*: Data sendes fra inngangslaget til utgangslaget gjennom de skjulte lagene. Hver node i ett lag beregner en lineær kombinasjon av inngangene (vektede summer) og bruker en aktiveringsfunksjon for å bestemme utgangen.\n",
        "* *Backpropagation*: En algoritme for å justere vektene i nettverket. Den beregner gradienten av tapet med hensyn til vektene og bruker denne informasjonen til å oppdatere vektene for å minimere tapet.\n",
        "6. **Aktiveringsfunksjoner**:\n",
        "Aktiveringsfunksjoner introduserer ikke-linearitet i nettverket, noe som gjør det mulig for nettverket å lære komplekse sammenhenger. De bestemmer hvordan signalene fra en node skal transformeres før de sendes til neste lag. Vanlige aktiveringsfunksjoner inkluderer Sigmoid, Tanh, ReLU, Leaky ReLU og Softmax, som er valgt basert på oppgaven og nettverkets krav.\n",
        "(Mer om disse lenger ned)\n",
        "\n",
        "7. **Loss-funksjoner**:\n",
        "Loss-funksjoner brukes til å evaluere hvor godt nettverket presterer. De beregner forskjellen mellom de predikerte verdiene og de faktiske verdiene. Valg av loss-funksjon er kritisk og avhenger av typen problem som skal løses, som regresjon eller klassifikasjon. Vanlige loss-funksjoner inkluderer Mean Squared Error (MSE), Binary Cross-Entropy, Categorical Cross-Entropy, Hinge Loss og Huber Loss.\n",
        "(Mer om disse lenger ned)\n",
        "\n",
        "Arkitekturen til et nevralt nettverk kan variere betydelig avhengig av oppgaven. For eksempel kan et enkelt nevralt nettverk (også kjent som et enkelt lag) være tilstrekkelig for enkle problemer, mens dype nettverk med mange skjulte lag (dype nevrale nettverk) kan være nødvendig for mer komplekse oppgaver som bilde- eller talegjenkjenning. Valget av arkitektur, aktiveringsfunksjoner og loss-funksjoner spiller en kritisk rolle i hvor godt nettverket lærer og generaliserer fra dataene.\n",
        "\n",
        "---\n",
        "\n",
        "## **Aktiveringsfunksjon**\n",
        "Aktiveringsfunksjoner i nevrale nettverk er avgjørende fordi de introduserer ikke-linearitet i modellen, noe som gjør det mulig for nettverket å lære komplekse mønstre. Uten aktiveringsfunksjoner ville et nevralt nettverk bare være en lineær kombinasjon av inngangene, uansett hvor mange lag det har. Aktiveringsfunksjoner gjør at nettverket kan representere ikke-lineære sammenhenger.\n",
        "\n",
        "### **Vanlige aktiveringsfunksjoner**\n",
        "1. **Sigmoid**\n",
        "* Formel: $\\sigma(x) = \\frac{1}{1 + e^{-x}}$\n",
        "* Output: Verdier mellom $0$ og $1$.\n",
        "* Bruksområde: Brukes ofte i utgangen av binære klassifikasjonsproblemer.\n",
        "* Fordel: Kan tolkes som sannsynligheter.\n",
        "* Ulempe: Lider av vanishing gradient-problemet; gradienten kan bli veldig liten for store positive eller negative inputverdier, noe som gjør læringen treg.\n",
        "---\n",
        "2. **Tanh (Hyperbolsk Tangens)**\n",
        "* Formel: $\\tanh(x) = \\frac{e^x - e^{-x}}{e^x + e^{-x}}$\n",
        "* Output: Verdier mellom $-1$ og $1$.\n",
        "* Bruksområde: Brukes ofte i skjulte lag i nevrale nettverk.\n",
        "* Fordel: Sentraliserer data rundt $0$, noe som kan føre til raskere læring enn sigmoid.\n",
        "* Ulempe: Lider også av vanishing gradient-problemet.\n",
        "---\n",
        "3. **ReLU (Rectified Linear Unit)**\n",
        "* Formel: $\\text{ReLU}(x) = \\max(0, x)$\n",
        "* Bruksområde: Svært populær i skjulte lag i moderne nevrale nettverk.\n",
        "* Fordel: Enkel og effektiv, unngår vanishing gradient-problemet for positive verdier.\n",
        "* Ulempe: Dying ReLU-problemet; noen noder kan \"dø\" hvis de bare gir $0$ som output, noe som kan hindre læring.\n",
        "---\n",
        "4. **Leaky ReLU**\n",
        "* Formel: $\\text{Leaky ReLU}(x) =\n",
        "\\begin{cases}\n",
        "x & \\text{hvis } x > 0 \\\\\n",
        "\\alpha x & \\text{hvis } x \\leq 0\n",
        "\\end{cases}$\n",
        "- Her er ofte $α$ en liten konstant (typisk 0.01).\n",
        "* Bruksområde: Løser døde noder-problemet ved å gi en liten gradient også for negative verdier.\n",
        "* Fordel: Forbedrer påliteligheten sammenlignet med ReLU.\n",
        "---\n",
        "5. **Softmax**\n",
        "* Formel: $\\text{Softmax}(x_i) = \\frac{e^{x_i}}{\\sum_{j=1}^{n} e^{x_j}}$\n",
        "* Konverterer en vektor av $n$ reelle tall til en sannsynlighetsfordeling med $n$ mulige utfall.\n",
        "* Output: En sannsynlighetsfordeling der summen av outputene er $1$.\n",
        "* Bruksområde: Brukes i det siste laget i multiklasse klassifikasjon.\n",
        "* Fordel: Gir en klar sannsynlighetsfordeling, noe som er nyttig for klassifikasjonsoppgaver.\n",
        "---\n",
        "### **Hvorfor er disse så viktige?**\n",
        "* Uten aktiveringsfunksjon er nevrale nettverk bare en lineær modell, da disse fanger opp *ikke-lineære* sammenhenger i dataen.\n",
        "* Det er fordi det bestemmer om et *nevron* i nettverket aktiveres eller ikke, avhengig av det nevroner får som input (data, vekter).\n",
        "\n"
      ],
      "metadata": {
        "id": "eAIUWDmUQSXq"
      }
    },
    {
      "cell_type": "markdown",
      "source": [
        "## **La oss visualisere noen av aktiveringsfunksjonene**"
      ],
      "metadata": {
        "id": "Qp63z2XJ-qOa"
      }
    },
    {
      "cell_type": "code",
      "source": [
        "import matplotlib.pyplot as plt\n",
        "import numpy as np\n",
        "\n",
        "# Definer aktiveringsfunksjonene som er diskutert\n",
        "def sigmoid(x):\n",
        "    return 1 / (1 + np.exp(-x))\n",
        "\n",
        "def tanh(x):\n",
        "    return np.tanh(x)\n",
        "\n",
        "def relu(x):\n",
        "    return np.maximum(0, x)\n",
        "\n",
        "def leaky_relu(x, alpha=0.01):\n",
        "    return np.maximum(alpha * x, x)\n",
        "\n",
        "def softmax(x):\n",
        "    exp_x = np.exp(x)\n",
        "    return exp_x / np.sum(exp_x)\n",
        "\n",
        "# Opprett x-verdiene for plottet\n",
        "x = np.linspace(-10, 10, 100)\n",
        "\n",
        "# Plott funksjonene i subplots\n",
        "fig, axes = plt.subplots(2, 2, figsize=(12, 10))  # 2 rader, 2 kolonner\n",
        "\n",
        "# Sigmoid plot\n",
        "axes[0, 0].plot(x, sigmoid(x))\n",
        "axes[0, 0].set_title(\"Sigmoid\")\n",
        "axes[0, 0].grid(True)\n",
        "\n",
        "# Tanh plot\n",
        "axes[0, 1].plot(x, tanh(x))\n",
        "axes[0, 1].set_title(\"Tanh\")\n",
        "axes[0, 1].grid(True)\n",
        "\n",
        "# ReLU plot\n",
        "axes[1, 0].plot(x, relu(x))\n",
        "axes[1, 0].set_title(\"ReLU\")\n",
        "axes[1, 0].grid(True)\n",
        "\n",
        "# Leaky ReLU plot\n",
        "axes[1, 1].plot(x, leaky_relu(x))\n",
        "axes[1, 1].set_title(\"Leaky ReLU\")\n",
        "axes[1, 1].grid(True)\n",
        "\n",
        "# Juster layout\n",
        "plt.tight_layout()\n",
        "plt.show()\n",
        "\n",
        "logits = np.array([2.0, 1.0, 0.1, 5.0, 3.0, 2.5])\n",
        "softmax_output = softmax(logits)\n",
        "print('Softmax gjør om en vektor av tall til sannsynligheter, som f.eks.:')\n",
        "print(\"Logits:\", logits)\n",
        "print(\"Softmax Output:\", softmax_output)"
      ],
      "metadata": {
        "colab": {
          "base_uri": "https://localhost:8080/",
          "height": 959
        },
        "id": "NUj3e2EK-pX4",
        "outputId": "4f277e47-9351-4ce5-9987-cd095779491b"
      },
      "execution_count": null,
      "outputs": [
        {
          "output_type": "display_data",
          "data": {
            "text/plain": [
              "<Figure size 1200x1000 with 4 Axes>"
            ],
            "image/png": "[encoded data removed]"
          },
          "metadata": {}
        },
        {
          "output_type": "stream",
          "name": "stdout",
          "text": [
            "Softmax gjør om en vektor av tall til sannsynligheter, som f.eks.:\n",
            "Logits: [2.  1.  0.1 5.  3.  2.5]\n",
            "Softmax Output: [0.03850599 0.01416556 0.00575929 0.77341341 0.10467012 0.06348564]\n"
          ]
        }
      ]
    },
    {
      "cell_type": "markdown",
      "source": [
        "## **Loss funksjon**\n",
        "\n",
        "Loss-funksjoner er en sentral del av nevrale nettverk fordi de måler hvor godt eller dårlig en modell presterer. I treningsprosessen bruker nevrale nettverk en loss-funksjon til å evaluere avstanden mellom modellens prediksjoner og de faktiske verdiene i datasettet. Målet er å minimere denne avstanden ved å justere modellens parametere (vekter og biaser) gjennom en prosess som ofte innebærer gradient descent.\n",
        "\n",
        "### Ulike typer loss funksjoner\n",
        "1. **MSE (mean squared error)**\n",
        "* Vanlig i regresjonsproblemer.\n",
        "* Beregnes som gjennomsnittet av kvadratet av differansen mellom predikerte og faktiske verdier.\n",
        "* Formel: $\\text{MSE} = \\frac{1}{n} \\sum_{i=1}^{n} (y_i - \\hat{y}_i)^2$\n",
        "* Fordel: Enkelt og gir større straff for store feil.\n",
        "* Ulempe: Sensitiv for outliers på grunn av kvadreringen.\n",
        "\n",
        "\n",
        "2.  **Cross-Entropy Loss**\n",
        "* Brukes ofte i klassifikasjonsproblemer, spesielt for binære og multiklassemodeller.\n",
        "* For binær klassifikasjon: $\\text{Loss} = -\\frac{1}{n} \\sum_{i=1}^{n} \\left[ y_i \\log(\\hat{y}_i) + (1 - y_i) \\log(1 - \\hat{y}_i) \\right]\n",
        "$\n",
        "* For multiklasse klassifikasjon brukes \"categorical cross-entropy\", som generaliserer formelen.\n",
        "* Fordel: Effektiv for å håndtere sannsynligheter og klassifiseringsproblemer.\n",
        "* Ulempe: Kan føre til ustabil trening hvis sannsynlighetene er nær $0$ eller $1$.\n",
        "\n",
        "3. **Hinge Loss**\n",
        "* Brukes i støttevektormaskiner (SVM) og noen ganger i klassifikasjonsnevrale nettverk.\n",
        "* Fokusert på marginbaserte klassifikasjoner.\n",
        "* Formel for binær klassifikasjon: $\\text{Loss} = \\max(0, 1 - y \\cdot \\hat{y})$\n",
        "* Fordel: Optimal for marginbaserte problemer.\n",
        "* Ulempe: Mindre brukt i nevrale nettverk, men relevant for SVM.\n",
        "\n",
        "4. **Huber Loss**\n",
        "* Kombinerer fordelene til både MSE og MAE (Mean Absolute Error).\n",
        "* Brukes i situasjoner hvor du ønsker å være robust mot uteliggere.\n",
        "* Gir kvadratisk straff for små feil og lineær straff for store feil.\n",
        "* Formel: Definert med en terskel $δ$ som bestemmer når overgangen fra kvadratisk til lineær skjer.\n",
        "---\n",
        "#### **Valg av loss-funksjon**\n",
        "\n",
        "Valget av loss-funksjon avhenger av *problemtypen*:\n",
        "\n",
        "- Regresjon: MSE eller Huber Loss.\n",
        "- Binær klassifikasjon: Binær cross-entropy.\n",
        "- Multiklasse klassifikasjon: Kategorisk cross-entropy.\n",
        "- Loss-funksjonen styrer treningsprosessen, og riktig valg er avgjørende for å oppnå god modellprestasjon. I praksis vil optimal loss-funksjon ofte bestemmes gjennom eksperimentering og forståelse av dataenes karakteristika.\n",
        "- Det finnes mange flere - og igjen, alt avhenger av data/problemet.\n",
        "\n",
        "Her er en liten oversikt over potensielle loss-funksjoner til regresjon eller klassifikasjon.\n",
        "\n",
        "| Type       | Loss funksjon                    |\n",
        "|---------------------|----------------------------------|\n",
        "| **Regresjon**      | Mean Squared Error (MSE)          |\n",
        "|                     | Mean Absolute Error (MAE)        |\n",
        "|                     | Huber Loss                       |\n",
        "| **Klassifisering**  | Binary Cross-Entropy (Log Loss)  |\n",
        "|                     | Categorical Cross-Entropy        |\n",
        "|                     | Hinge Loss                       |\n",
        "|                     | Kullback-Leibler Divergence      |"
      ],
      "metadata": {
        "id": "uu8OWb7KBI6a"
      }
    },
    {
      "cell_type": "markdown",
      "source": [
        "## **Kjernen av maskinlæring**\n",
        "Mye av maskinlæring handler om å minimere en loss-funksjon. Det gjør vi gjennom *treningsprosessen* av nettverket. Denne optimiseringen skjer gjennom algoritmer som vi kaller for **optimiseringsalgoritmer** (eng: optimization algorithms).\n",
        "\n",
        "Noen eksempler på optimeringsfunksjoner er:\n",
        "* Stochastic Gradient Descent\n",
        "* ADAM\n",
        "\n",
        "For å forstå disse trenger vi en grunleggende forståelse av kalkulus (derivasjon, optimum/minimum), og dette vil vi gå nærmere inn på i neste forelesning.\n"
      ],
      "metadata": {
        "id": "rGrvxqUOJ0Oq"
      }
    },
    {
      "cell_type": "markdown",
      "source": [
        "# **Eksempel på et nevralt nettverk ved bruk av TensorFlow**\n",
        "\n",
        "Her vil vi bruke [begynner tips](https://www.tensorflow.org/tutorials/quickstart/beginner) fra TensorFlow."
      ],
      "metadata": {
        "id": "HC-U-qfzrgFp"
      }
    },
    {
      "cell_type": "markdown",
      "source": [
        "## Sette opp TensorFlow riktig\n",
        "\n",
        "Importerer tensorflow for å kunne bygge nettverket."
      ],
      "metadata": {
        "id": "fOe7RP_Vrv7l"
      }
    },
    {
      "cell_type": "code",
      "source": [
        "import tensorflow as tf\n",
        "print(\"TensorFlow versjon:\", tf.__version__)"
      ],
      "metadata": {
        "colab": {
          "base_uri": "https://localhost:8080/"
        },
        "id": "kffMhjs4QdTV",
        "outputId": "ee11222c-ea72-425b-f848-dac672154480"
      },
      "execution_count": null,
      "outputs": [
        {
          "output_type": "stream",
          "name": "stdout",
          "text": [
            "TensorFlow version: 2.17.1\n"
          ]
        }
      ]
    },
    {
      "cell_type": "markdown",
      "source": [
        "## Laste inn dataset\n",
        "MNIST står for *Modified National Institute of Standards and Technology* dataset og er et av de mest kjente og brukte datasettene innen maskinlæring og datavitenskap. MNIST-datasetet består av håndskrevne sifre og brukes ofte til å teste og evaluere bildeklassifiseringsalgoritmer og nevrale nettverk.\n",
        "\n",
        "Beskrivelse av MNIST\n",
        "1. **Innhold:**\n",
        "Bilder: Datasetet inneholder $70\\; 000$ gråskala-bilder av håndskrevne sifre fra $0$ til $9$.\n",
        "Treningssett: $60 \\; 000$ bilder.\n",
        "Testsett: $10\\; 000$ bilder.\n",
        "Oppløsning: Hvert bilde er $28$ x $28$ piksler.\n",
        "Datatype: Hvert bilde er representert som en rank 2-tensor (matrise), med $784$ elementer ($28$ x $28$), hvor hver verdi er en intensitet fra $0$ (svart) til $255$ (hvit).\n",
        "2. **Etiketter:**\n",
        "Hvert bilde er merket med den tilhørende sifre fra $0$ til $9$, som gir datasetet en klassifikasjonsstruktur med $10$ klasser.\n"
      ],
      "metadata": {
        "id": "QHM4lQMOr3B5"
      }
    },
    {
      "cell_type": "code",
      "source": [
        "# Her laster vi inn mnist datasettet\n",
        "mnist = tf.keras.datasets.mnist\n",
        "\n",
        "# Datasettet er delt i trening og test sett, og vi deler det opp her\n",
        "(x_train, y_train), (x_test, y_test) = mnist.load_data()\n",
        "\n",
        "# Ettersom verdiene er 2^8 ulike verdier, må vi dele på 255.0 for å normalisere.\n",
        "x_train, x_test = x_train / 255.0, x_test / 255.0"
      ],
      "metadata": {
        "id": "1X-JIST8sqst"
      },
      "execution_count": null,
      "outputs": []
    },
    {
      "cell_type": "markdown",
      "source": [
        "## **La oss visualisere dataen**"
      ],
      "metadata": {
        "id": "-ZsbI1dDMcLy"
      }
    },
    {
      "cell_type": "code",
      "source": [
        "import matplotlib.pyplot as plt\n",
        "\n",
        "# Funksjon for å visualisere datasettet\n",
        "def plot_mnist_images(images, labels, num_images):\n",
        "    plt.figure(figsize=(10,10))\n",
        "    for i in range(num_images):\n",
        "        plt.subplot(4, 4, i+1)\n",
        "        plt.xticks([])\n",
        "        plt.yticks([])\n",
        "        plt.grid(False)\n",
        "        plt.imshow(images[i], cmap=plt.cm.binary)  # Hvis bilde i binær (svart/hvit), alt. 'gray'\n",
        "        plt.title(labels[i])\n",
        "    plt.show()\n",
        "\n",
        "# Plotter de første 16 bildene av treningssettet\n",
        "plot_mnist_images(x_train, y_train, 16)"
      ],
      "metadata": {
        "colab": {
          "base_uri": "https://localhost:8080/",
          "height": 829
        },
        "id": "f6XoMavZMf8u",
        "outputId": "300f4adc-3359-4824-f7a4-b8aebf62ee9c"
      },
      "execution_count": null,
      "outputs": [
        {
          "output_type": "display_data",
          "data": {
            "text/plain": [
              "<Figure size 1000x1000 with 16 Axes>"
            ],
            "image/png": "[encoded data removed]"
          },
          "metadata": {}
        }
      ]
    },
    {
      "cell_type": "markdown",
      "source": [
        "## La oss inspisere datasettet"
      ],
      "metadata": {
        "id": "2dMpx69v4wOr"
      }
    },
    {
      "cell_type": "code",
      "source": [
        "# Starter med å se på hvilken type data vi har\n",
        "def check_type(x_train, x_test, y_train, y_test):\n",
        "  print(type(x_train))\n",
        "  print(type(x_test))\n",
        "  print(type(y_train))\n",
        "  print(type(y_test))\n",
        "\n",
        "check_type(x_train, x_test, y_train, y_test)"
      ],
      "metadata": {
        "colab": {
          "base_uri": "https://localhost:8080/"
        },
        "id": "NpZ_rHu24zNs",
        "outputId": "cd235697-59f0-48be-b0fe-f2264c0cc087"
      },
      "execution_count": null,
      "outputs": [
        {
          "output_type": "stream",
          "name": "stdout",
          "text": [
            "<class 'numpy.ndarray'>\n",
            "<class 'numpy.ndarray'>\n",
            "<class 'numpy.ndarray'>\n",
            "<class 'numpy.ndarray'>\n"
          ]
        }
      ]
    },
    {
      "cell_type": "code",
      "source": [
        "# La oss se på shape til de ulike dataene\n",
        "def check_shape(x_train, x_test, y_train, y_test):\n",
        "  print(x_train.shape)\n",
        "  print(x_test.shape)\n",
        "  print(y_train.shape)\n",
        "  print(y_test.shape)\n",
        "\n",
        "check_shape(x_train, x_test, y_train, y_test)"
      ],
      "metadata": {
        "colab": {
          "base_uri": "https://localhost:8080/"
        },
        "id": "iwqrn0zF5SQg",
        "outputId": "57677094-a844-4978-a97e-dfb44f78ba7c"
      },
      "execution_count": null,
      "outputs": [
        {
          "output_type": "stream",
          "name": "stdout",
          "text": [
            "(60000, 28, 28)\n",
            "(10000, 28, 28)\n",
            "(60000,)\n",
            "(10000,)\n"
          ]
        }
      ]
    },
    {
      "cell_type": "code",
      "source": [
        "# Sjekker det første elementet i treningsdataen\n",
        "print(x_train[:1])\n",
        "print(y_train[:1])\n",
        "\n",
        "print(x_train[:1].shape)\n",
        "print(x_train[0].shape)\n",
        "\n",
        "# Hvorfor gir det mening at dette er et svart hvitt bilde?\n",
        "# Hvorfor er det svart og hvitt?"
      ],
      "metadata": {
        "colab": {
          "base_uri": "https://localhost:8080/"
        },
        "id": "C_vs9hX25nHB",
        "outputId": "85336a16-0ff9-453c-a182-0cc1a8dbdcbc"
      },
      "execution_count": null,
      "outputs": [
        {
          "output_type": "stream",
          "name": "stdout",
          "text": [
            "[[[0.         0.         0.         0.         0.         0.\n",
            "   0.         0.         0.         0.         0.         0.\n",
            "   0.         0.         0.         0.         0.         0.\n",
            "   0.         0.         0.         0.         0.         0.\n",
            "   0.         0.         0.         0.        ]\n",
            "  [0.         0.         0.         0.         0.         0.\n",
            "   0.         0.         0.         0.         0.         0.\n",
            "   0.         0.         0.         0.         0.         0.\n",
            "   0.         0.         0.         0.         0.         0.\n",
            "   0.         0.         0.         0.        ]\n",
            "  [0.         0.         0.         0.         0.         0.\n",
            "   0.         0.         0.         0.         0.         0.\n",
            "   0.         0.         0.         0.         0.         0.\n",
            "   0.         0.         0.         0.         0.         0.\n",
            "   0.         0.         0.         0.        ]\n",
            "  [0.         0.         0.         0.         0.         0.\n",
            "   0.         0.         0.         0.         0.         0.\n",
            "   0.         0.         0.         0.         0.         0.\n",
            "   0.         0.         0.         0.         0.         0.\n",
            "   0.         0.         0.         0.        ]\n",
            "  [0.         0.         0.         0.         0.         0.\n",
            "   0.         0.         0.         0.         0.         0.\n",
            "   0.         0.         0.         0.         0.         0.\n",
            "   0.         0.         0.         0.         0.         0.\n",
            "   0.         0.         0.         0.        ]\n",
            "  [0.         0.         0.         0.         0.         0.\n",
            "   0.         0.         0.         0.         0.         0.\n",
            "   0.01176471 0.07058824 0.07058824 0.07058824 0.49411765 0.53333333\n",
            "   0.68627451 0.10196078 0.65098039 1.         0.96862745 0.49803922\n",
            "   0.         0.         0.         0.        ]\n",
            "  [0.         0.         0.         0.         0.         0.\n",
            "   0.         0.         0.11764706 0.14117647 0.36862745 0.60392157\n",
            "   0.66666667 0.99215686 0.99215686 0.99215686 0.99215686 0.99215686\n",
            "   0.88235294 0.6745098  0.99215686 0.94901961 0.76470588 0.25098039\n",
            "   0.         0.         0.         0.        ]\n",
            "  [0.         0.         0.         0.         0.         0.\n",
            "   0.         0.19215686 0.93333333 0.99215686 0.99215686 0.99215686\n",
            "   0.99215686 0.99215686 0.99215686 0.99215686 0.99215686 0.98431373\n",
            "   0.36470588 0.32156863 0.32156863 0.21960784 0.15294118 0.\n",
            "   0.         0.         0.         0.        ]\n",
            "  [0.         0.         0.         0.         0.         0.\n",
            "   0.         0.07058824 0.85882353 0.99215686 0.99215686 0.99215686\n",
            "   0.99215686 0.99215686 0.77647059 0.71372549 0.96862745 0.94509804\n",
            "   0.         0.         0.         0.         0.         0.\n",
            "   0.         0.         0.         0.        ]\n",
            "  [0.         0.         0.         0.         0.         0.\n",
            "   0.         0.         0.31372549 0.61176471 0.41960784 0.99215686\n",
            "   0.99215686 0.80392157 0.04313725 0.         0.16862745 0.60392157\n",
            "   0.         0.         0.         0.         0.         0.\n",
            "   0.         0.         0.         0.        ]\n",
            "  [0.         0.         0.         0.         0.         0.\n",
            "   0.         0.         0.         0.05490196 0.00392157 0.60392157\n",
            "   0.99215686 0.35294118 0.         0.         0.         0.\n",
            "   0.         0.         0.         0.         0.         0.\n",
            "   0.         0.         0.         0.        ]\n",
            "  [0.         0.         0.         0.         0.         0.\n",
            "   0.         0.         0.         0.         0.         0.54509804\n",
            "   0.99215686 0.74509804 0.00784314 0.         0.         0.\n",
            "   0.         0.         0.         0.         0.         0.\n",
            "   0.         0.         0.         0.        ]\n",
            "  [0.         0.         0.         0.         0.         0.\n",
            "   0.         0.         0.         0.         0.         0.04313725\n",
            "   0.74509804 0.99215686 0.2745098  0.         0.         0.\n",
            "   0.         0.         0.         0.         0.         0.\n",
            "   0.         0.         0.         0.        ]\n",
            "  [0.         0.         0.         0.         0.         0.\n",
            "   0.         0.         0.         0.         0.         0.\n",
            "   0.1372549  0.94509804 0.88235294 0.62745098 0.42352941 0.00392157\n",
            "   0.         0.         0.         0.         0.         0.\n",
            "   0.         0.         0.         0.        ]\n",
            "  [0.         0.         0.         0.         0.         0.\n",
            "   0.         0.         0.         0.         0.         0.\n",
            "   0.         0.31764706 0.94117647 0.99215686 0.99215686 0.46666667\n",
            "   0.09803922 0.         0.         0.         0.         0.\n",
            "   0.         0.         0.         0.        ]\n",
            "  [0.         0.         0.         0.         0.         0.\n",
            "   0.         0.         0.         0.         0.         0.\n",
            "   0.         0.         0.17647059 0.72941176 0.99215686 0.99215686\n",
            "   0.58823529 0.10588235 0.         0.         0.         0.\n",
            "   0.         0.         0.         0.        ]\n",
            "  [0.         0.         0.         0.         0.         0.\n",
            "   0.         0.         0.         0.         0.         0.\n",
            "   0.         0.         0.         0.0627451  0.36470588 0.98823529\n",
            "   0.99215686 0.73333333 0.         0.         0.         0.\n",
            "   0.         0.         0.         0.        ]\n",
            "  [0.         0.         0.         0.         0.         0.\n",
            "   0.         0.         0.         0.         0.         0.\n",
            "   0.         0.         0.         0.         0.         0.97647059\n",
            "   0.99215686 0.97647059 0.25098039 0.         0.         0.\n",
            "   0.         0.         0.         0.        ]\n",
            "  [0.         0.         0.         0.         0.         0.\n",
            "   0.         0.         0.         0.         0.         0.\n",
            "   0.         0.         0.18039216 0.50980392 0.71764706 0.99215686\n",
            "   0.99215686 0.81176471 0.00784314 0.         0.         0.\n",
            "   0.         0.         0.         0.        ]\n",
            "  [0.         0.         0.         0.         0.         0.\n",
            "   0.         0.         0.         0.         0.         0.\n",
            "   0.15294118 0.58039216 0.89803922 0.99215686 0.99215686 0.99215686\n",
            "   0.98039216 0.71372549 0.         0.         0.         0.\n",
            "   0.         0.         0.         0.        ]\n",
            "  [0.         0.         0.         0.         0.         0.\n",
            "   0.         0.         0.         0.         0.09411765 0.44705882\n",
            "   0.86666667 0.99215686 0.99215686 0.99215686 0.99215686 0.78823529\n",
            "   0.30588235 0.         0.         0.         0.         0.\n",
            "   0.         0.         0.         0.        ]\n",
            "  [0.         0.         0.         0.         0.         0.\n",
            "   0.         0.         0.09019608 0.25882353 0.83529412 0.99215686\n",
            "   0.99215686 0.99215686 0.99215686 0.77647059 0.31764706 0.00784314\n",
            "   0.         0.         0.         0.         0.         0.\n",
            "   0.         0.         0.         0.        ]\n",
            "  [0.         0.         0.         0.         0.         0.\n",
            "   0.07058824 0.67058824 0.85882353 0.99215686 0.99215686 0.99215686\n",
            "   0.99215686 0.76470588 0.31372549 0.03529412 0.         0.\n",
            "   0.         0.         0.         0.         0.         0.\n",
            "   0.         0.         0.         0.        ]\n",
            "  [0.         0.         0.         0.         0.21568627 0.6745098\n",
            "   0.88627451 0.99215686 0.99215686 0.99215686 0.99215686 0.95686275\n",
            "   0.52156863 0.04313725 0.         0.         0.         0.\n",
            "   0.         0.         0.         0.         0.         0.\n",
            "   0.         0.         0.         0.        ]\n",
            "  [0.         0.         0.         0.         0.53333333 0.99215686\n",
            "   0.99215686 0.99215686 0.83137255 0.52941176 0.51764706 0.0627451\n",
            "   0.         0.         0.         0.         0.         0.\n",
            "   0.         0.         0.         0.         0.         0.\n",
            "   0.         0.         0.         0.        ]\n",
            "  [0.         0.         0.         0.         0.         0.\n",
            "   0.         0.         0.         0.         0.         0.\n",
            "   0.         0.         0.         0.         0.         0.\n",
            "   0.         0.         0.         0.         0.         0.\n",
            "   0.         0.         0.         0.        ]\n",
            "  [0.         0.         0.         0.         0.         0.\n",
            "   0.         0.         0.         0.         0.         0.\n",
            "   0.         0.         0.         0.         0.         0.\n",
            "   0.         0.         0.         0.         0.         0.\n",
            "   0.         0.         0.         0.        ]\n",
            "  [0.         0.         0.         0.         0.         0.\n",
            "   0.         0.         0.         0.         0.         0.\n",
            "   0.         0.         0.         0.         0.         0.\n",
            "   0.         0.         0.         0.         0.         0.\n",
            "   0.         0.         0.         0.        ]]]\n",
            "[5]\n",
            "(1, 28, 28)\n",
            "(28, 28)\n"
          ]
        }
      ]
    },
    {
      "cell_type": "markdown",
      "source": [
        "## La oss bygge vår maskinlæringsmodell\n",
        "Nå vil vi bruke *Sequential* API'et fra *keras* til TensorFlow! Da vil vi bruke \"tf.keras.models.Sequential\"."
      ],
      "metadata": {
        "id": "kX4sEFZJsnG4"
      }
    },
    {
      "cell_type": "code",
      "source": [
        "'''\n",
        "  Definerer en sekvensiell modell ved hjelp av TensorFlow's Keras API.\n",
        "\n",
        "  Input-lag: Spesifiserer at modellen mottar inndata i form av bilder med dimensjonene 28x28 piksler.\n",
        "\n",
        "  Flatten-lag: Konverterer 2D-inndata (28x28 piksler) til en 1D-vektor med 784 elementer\n",
        "  (28 * 28 = 784). Dette er nødvendig fordi Dense-lag krever 1D-input data.\n",
        "\n",
        "  Dense-lag: Et fullt tilkoblet lag med 16 nevroner. Hvert nevron er koblet til alle\n",
        "  nevronene i det forrige laget, og hver forbindelse har sin egen vekt. Nevronene bruker\n",
        "  sigmoid som aktiveringsfunksjon, noe som gir en output mellom 0 og 1.\n",
        "\n",
        "  Dense-lag: Et nytt fullt tilkoblet lag med 16 nevroner, igjen med sigmoid som aktiveringsfunksjon.\n",
        "\n",
        "  Output-lag: Et fullt tilkoblet lag med 10 nevroner, ett for hver klasse (sifrene 0-9).\n",
        "  Dette laget gir de endelige klassifiseringsverdiene. Siden aktiveringsfunksjonen ikke er\n",
        "  spesifisert, brukes lineær aktivering som standard. Men som vi vil se, så definerer vi det senere i koden - da det er 'best practice'.\n",
        "'''\n",
        "\n",
        "# Eksempel som er likt det vi går igjennom på tavla\n",
        "model = tf.keras.models.Sequential([\n",
        "  tf.keras.Input(shape=(28, 28)),                   # Input lag - bilde som er 28 x 28 piksler\n",
        "  tf.keras.layers.Flatten(),                        # \"Flate ut\" laget fra en 2D array (28, 28) til en vektor (784, )\n",
        "  tf.keras.layers.Dense(16, activation='sigmoid'),  # Dense - betyr at alle nevroner er i laget 'connecta' til alle nevronene i det forrige laget.\n",
        "                                                    # hvert nevron har også sin egen bias 'b', altså 16 her\n",
        "  tf.keras.layers.Dense(16, activation='sigmoid'),\n",
        "  tf.keras.layers.Dense(10)                         # Fully-connected lag til output (0-9, altså 10 ulike klasser)\n",
        "])"
      ],
      "metadata": {
        "id": "e4pD7iv5tOSV"
      },
      "execution_count": null,
      "outputs": []
    },
    {
      "cell_type": "code",
      "source": [
        "model.summary()"
      ],
      "metadata": {
        "id": "qnydGNAKDT6S",
        "outputId": "264dd205-3fd0-4c12-8fda-5b3d30d5e965",
        "colab": {
          "base_uri": "https://localhost:8080/",
          "height": 257
        }
      },
      "execution_count": null,
      "outputs": [
        {
          "output_type": "display_data",
          "data": {
            "text/plain": [
              "\u001b[1mModel: \"sequential_2\"\u001b[0m\n"
            ],
            "text/html": [
              "<pre style=\"white-space:pre;overflow-x:auto;line-height:normal;font-family:Menlo,'DejaVu Sans Mono',consolas,'Courier New',monospace\"><span style=\"font-weight: bold\">Model: \"sequential_2\"</span>\n",
              "</pre>\n"
            ]
          },
          "metadata": {}
        },
        {
          "output_type": "display_data",
          "data": {
            "text/plain": [
              "┏━━━━━━━━━━━━━━━━━━━━━━━━━━━━━━━━━━━━━━┳━━━━━━━━━━━━━━━━━━━━━━━━━━━━━┳━━━━━━━━━━━━━━━━━┓\n",
              "┃\u001b[1m \u001b[0m\u001b[1mLayer (type)                        \u001b[0m\u001b[1m \u001b[0m┃\u001b[1m \u001b[0m\u001b[1mOutput Shape               \u001b[0m\u001b[1m \u001b[0m┃\u001b[1m \u001b[0m\u001b[1m        Param #\u001b[0m\u001b[1m \u001b[0m┃\n",
              "┡━━━━━━━━━━━━━━━━━━━━━━━━━━━━━━━━━━━━━━╇━━━━━━━━━━━━━━━━━━━━━━━━━━━━━╇━━━━━━━━━━━━━━━━━┩\n",
              "│ flatten_2 (\u001b[38;5;33mFlatten\u001b[0m)                  │ (\u001b[38;5;45mNone\u001b[0m, \u001b[38;5;34m784\u001b[0m)                 │               \u001b[38;5;34m0\u001b[0m │\n",
              "├──────────────────────────────────────┼─────────────────────────────┼─────────────────┤\n",
              "│ dense_6 (\u001b[38;5;33mDense\u001b[0m)                      │ (\u001b[38;5;45mNone\u001b[0m, \u001b[38;5;34m16\u001b[0m)                  │          \u001b[38;5;34m12,560\u001b[0m │\n",
              "├──────────────────────────────────────┼─────────────────────────────┼─────────────────┤\n",
              "│ dense_7 (\u001b[38;5;33mDense\u001b[0m)                      │ (\u001b[38;5;45mNone\u001b[0m, \u001b[38;5;34m16\u001b[0m)                  │             \u001b[38;5;34m272\u001b[0m │\n",
              "├──────────────────────────────────────┼─────────────────────────────┼─────────────────┤\n",
              "│ dense_8 (\u001b[38;5;33mDense\u001b[0m)                      │ (\u001b[38;5;45mNone\u001b[0m, \u001b[38;5;34m10\u001b[0m)                  │             \u001b[38;5;34m170\u001b[0m │\n",
              "└──────────────────────────────────────┴─────────────────────────────┴─────────────────┘\n"
            ],
            "text/html": [
              "<pre style=\"white-space:pre;overflow-x:auto;line-height:normal;font-family:Menlo,'DejaVu Sans Mono',consolas,'Courier New',monospace\">┏━━━━━━━━━━━━━━━━━━━━━━━━━━━━━━━━━━━━━━┳━━━━━━━━━━━━━━━━━━━━━━━━━━━━━┳━━━━━━━━━━━━━━━━━┓\n",
              "┃<span style=\"font-weight: bold\"> Layer (type)                         </span>┃<span style=\"font-weight: bold\"> Output Shape                </span>┃<span style=\"font-weight: bold\">         Param # </span>┃\n",
              "┡━━━━━━━━━━━━━━━━━━━━━━━━━━━━━━━━━━━━━━╇━━━━━━━━━━━━━━━━━━━━━━━━━━━━━╇━━━━━━━━━━━━━━━━━┩\n",
              "│ flatten_2 (<span style=\"color: #0087ff; text-decoration-color: #0087ff\">Flatten</span>)                  │ (<span style=\"color: #00d7ff; text-decoration-color: #00d7ff\">None</span>, <span style=\"color: #00af00; text-decoration-color: #00af00\">784</span>)                 │               <span style=\"color: #00af00; text-decoration-color: #00af00\">0</span> │\n",
              "├──────────────────────────────────────┼─────────────────────────────┼─────────────────┤\n",
              "│ dense_6 (<span style=\"color: #0087ff; text-decoration-color: #0087ff\">Dense</span>)                      │ (<span style=\"color: #00d7ff; text-decoration-color: #00d7ff\">None</span>, <span style=\"color: #00af00; text-decoration-color: #00af00\">16</span>)                  │          <span style=\"color: #00af00; text-decoration-color: #00af00\">12,560</span> │\n",
              "├──────────────────────────────────────┼─────────────────────────────┼─────────────────┤\n",
              "│ dense_7 (<span style=\"color: #0087ff; text-decoration-color: #0087ff\">Dense</span>)                      │ (<span style=\"color: #00d7ff; text-decoration-color: #00d7ff\">None</span>, <span style=\"color: #00af00; text-decoration-color: #00af00\">16</span>)                  │             <span style=\"color: #00af00; text-decoration-color: #00af00\">272</span> │\n",
              "├──────────────────────────────────────┼─────────────────────────────┼─────────────────┤\n",
              "│ dense_8 (<span style=\"color: #0087ff; text-decoration-color: #0087ff\">Dense</span>)                      │ (<span style=\"color: #00d7ff; text-decoration-color: #00d7ff\">None</span>, <span style=\"color: #00af00; text-decoration-color: #00af00\">10</span>)                  │             <span style=\"color: #00af00; text-decoration-color: #00af00\">170</span> │\n",
              "└──────────────────────────────────────┴─────────────────────────────┴─────────────────┘\n",
              "</pre>\n"
            ]
          },
          "metadata": {}
        },
        {
          "output_type": "display_data",
          "data": {
            "text/plain": [
              "\u001b[1m Total params: \u001b[0m\u001b[38;5;34m13,002\u001b[0m (50.79 KB)\n"
            ],
            "text/html": [
              "<pre style=\"white-space:pre;overflow-x:auto;line-height:normal;font-family:Menlo,'DejaVu Sans Mono',consolas,'Courier New',monospace\"><span style=\"font-weight: bold\"> Total params: </span><span style=\"color: #00af00; text-decoration-color: #00af00\">13,002</span> (50.79 KB)\n",
              "</pre>\n"
            ]
          },
          "metadata": {}
        },
        {
          "output_type": "display_data",
          "data": {
            "text/plain": [
              "\u001b[1m Trainable params: \u001b[0m\u001b[38;5;34m13,002\u001b[0m (50.79 KB)\n"
            ],
            "text/html": [
              "<pre style=\"white-space:pre;overflow-x:auto;line-height:normal;font-family:Menlo,'DejaVu Sans Mono',consolas,'Courier New',monospace\"><span style=\"font-weight: bold\"> Trainable params: </span><span style=\"color: #00af00; text-decoration-color: #00af00\">13,002</span> (50.79 KB)\n",
              "</pre>\n"
            ]
          },
          "metadata": {}
        },
        {
          "output_type": "display_data",
          "data": {
            "text/plain": [
              "\u001b[1m Non-trainable params: \u001b[0m\u001b[38;5;34m0\u001b[0m (0.00 B)\n"
            ],
            "text/html": [
              "<pre style=\"white-space:pre;overflow-x:auto;line-height:normal;font-family:Menlo,'DejaVu Sans Mono',consolas,'Courier New',monospace\"><span style=\"font-weight: bold\"> Non-trainable params: </span><span style=\"color: #00af00; text-decoration-color: #00af00\">0</span> (0.00 B)\n",
              "</pre>\n"
            ]
          },
          "metadata": {}
        }
      ]
    },
    {
      "cell_type": "markdown",
      "source": [
        "![3blue1brown](https://3b1b-posts.us-east-1.linodeobjects.com/content/lessons/2017/neural-networks/confused-output-question.png)"
      ],
      "metadata": {
        "id": "0-jX5QxWBHAl"
      }
    },
    {
      "cell_type": "markdown",
      "source": [
        "[`Sequential`](https://www.tensorflow.org/guide/keras/sequential_model) er nyttig for å stable lag der hvert lag har ett inngangstensor og ett utgangstensor. Les mer om de andre komponentene på [`Tensorflow's nettside`](https://www.tensorflow.org/).\n",
        "\n",
        "For hvert eksempel returnerer modellen en vektor med det som kalles *logits*, én for hver klasse. Som i dette tilfelle betyr, én for tallet $0$, én for tallet $1$, ..., én for tallet $9$."
      ],
      "metadata": {
        "id": "XSOF5LqlvAg-"
      }
    },
    {
      "cell_type": "markdown",
      "source": [
        "## Hvorfor er output'et logits her?\n",
        "I TensorFlow/Keras, som er brukt over, hvis ingen aktiveringsfunksjon er satt i et ```Dense```-lag, så er default'en å bruke en lineær aktiveringsfunksjon. Dette betyr at output'et blir en verdi (logits) for hver klasse (tallene 0-9), med verdier fra $-∞$ til $∞$."
      ],
      "metadata": {
        "id": "d0Wc7wPJ4y1-"
      }
    },
    {
      "cell_type": "markdown",
      "source": [
        "## **Men hva er logit?**\n",
        "\n",
        "### Logit-funksjon: Logit-funksjonen er en matematisk funksjon som brukes til å konvertere sannsynligheter til log-odds. Den er definert som:\n",
        "$$\\text{logit}(p) = \\log \\left( \\frac{p}{1 - p} \\right)\n",
        "$$\n",
        "hvor $p$ er sannsynligheten.\n",
        "\n",
        "I maskinlæring, spesielt i klassifikasjonsoppgaver, refererer logits til de rå utgangsverdiene som produseres av et nevralt nettverks siste lag (før noen aktiveringsfunksjon som *softmax* eller *sigmoid* blir brukt). De er også kjent som \"pre-aktivering\" verdier. Disse rå poengene kan være hvilken som helst reell verdi, enten positiv eller negativ.\n",
        "\n",
        "---\n",
        "I eksempelet over ser vi fra de siste kodelinjene i vårt nevrale nettverk at det siste *skjulte laget* vårt har $16$ verdier mellom $0$ og $1$, mens output laget har ingen aktiveringsfunksjon ---> logit's er outputet.\n",
        "```python\n",
        "  tf.keras.layers.Dense(16, activation='sigmoid'),\n",
        "  tf.keras.layers.Dense(10)\n",
        "  # På grunn av det \"activation\"-delen her, er det en lineær sammenheng fra nest siste lag til\n",
        "  # output-laget, og derav er output i form av logits.\n",
        "```\n",
        "\n",
        "\n"
      ],
      "metadata": {
        "id": "gKsdt5Omw0kJ"
      }
    },
    {
      "cell_type": "code",
      "source": [
        "# Definerer logit-funksjonen\n",
        "def logit(p):\n",
        "    return np.log(p / (1 - p))\n",
        "\n",
        "# Verdier fra 0 til 1 (unntatt 0 og 1 fordi logit er udefinert der)\n",
        "p = np.linspace(0.01, 0.99, 100)\n",
        "logit_values = logit(p)\n",
        "\n",
        "# Plotter logit-funksjonen\n",
        "plt.plot(p, logit_values, label='logit(p)')\n",
        "plt.title('Logit-funksjonen')\n",
        "plt.xlabel('Sannsynlighet (p)')\n",
        "plt.ylabel('Logit-verdi (logit(p))')\n",
        "plt.grid(True)\n",
        "plt.axhline(0, color='black', linewidth=0.5)\n",
        "plt.axvline(0.5, color='red', linestyle='--', label='p = 0.5')\n",
        "plt.legend()\n",
        "plt.show()"
      ],
      "metadata": {
        "colab": {
          "base_uri": "https://localhost:8080/",
          "height": 472
        },
        "id": "t568EuzZEIUy",
        "outputId": "08090aeb-0469-4c54-b585-e1fe0e805d58"
      },
      "execution_count": null,
      "outputs": [
        {
          "output_type": "display_data",
          "data": {
            "text/plain": [
              "<Figure size 640x480 with 1 Axes>"
            ],
            "image/png": "[encoded data removed]"
          },
          "metadata": {}
        }
      ]
    },
    {
      "cell_type": "markdown",
      "source": [
        "## **Tilbake til maskinlæring og tensorflow!**"
      ],
      "metadata": {
        "id": "o4QlyGKjEIp2"
      }
    },
    {
      "cell_type": "code",
      "source": [
        "# Here we take the first element of the training data. Could be called a batch.\n",
        "# '.numpy()' converts output from a tensor (which we use in TensorFlow)\n",
        "# into a NumPy array (easier to manipulate/do operations on).\n",
        "predictions = model(x_train[:1]).numpy()\n",
        "predictions"
      ],
      "metadata": {
        "colab": {
          "base_uri": "https://localhost:8080/"
        },
        "id": "-sQOsKn3vm7K",
        "outputId": "80df6067-9f7f-4438-e53e-932ae538faf8"
      },
      "execution_count": null,
      "outputs": [
        {
          "output_type": "execute_result",
          "data": {
            "text/plain": [
              "array([[ 0.44676924,  0.6873624 , -0.268069  ,  0.46431458,  0.6570015 ,\n",
              "         0.2937259 , -0.30400422, -0.81314546, -0.8037839 ,  0.25918376]],\n",
              "      dtype=float32)"
            ]
          },
          "metadata": {},
          "execution_count": 62
        }
      ]
    },
    {
      "cell_type": "markdown",
      "source": [
        "#### Hva summerer `predictions` til?"
      ],
      "metadata": {
        "id": "lFPef9pUxwa5"
      }
    },
    {
      "cell_type": "markdown",
      "source": [
        "Høyere verdi av disse logits'ene indikerer at modellen er mest \"selvsikker\" på at det første treningsbilde (x_train[:1]) hører til den klassen (tall mellom $0$ og $9$)."
      ],
      "metadata": {
        "id": "jsGWB5hpLYYC"
      }
    },
    {
      "cell_type": "code",
      "source": [
        "# For å vise hva 'predictions' inneholder kan vi skrive.\n",
        "print(type(predictions) )\n",
        "print(predictions.shape)\n",
        "\n",
        "# Så kan vi se maksimum og minimum-verdien til 'predictions'\n",
        "print(predictions.max())\n",
        "print(predictions.min())"
      ],
      "metadata": {
        "colab": {
          "base_uri": "https://localhost:8080/"
        },
        "id": "Wo1ezopf8H5U",
        "outputId": "d32b941d-8208-4936-988e-fe7a9866d208"
      },
      "execution_count": null,
      "outputs": [
        {
          "output_type": "stream",
          "name": "stdout",
          "text": [
            "<class 'numpy.ndarray'>\n",
            "(1, 10)\n",
            "0.6873624\n",
            "-0.81314546\n"
          ]
        }
      ]
    },
    {
      "cell_type": "markdown",
      "source": [
        "Under her bruker vi aktiveringsfunksjonen *softmax* (som nevnt over) for å gjøre om disse logits'ene til sannsynligheter mellom $p$ ($∈[0, 1]$). Som bilde under viser.\n",
        "\n",
        "![](https://images.contentstack.io/v3/assets/bltac01ee6daa3a1e14/blte5e1674e3883fab3/65ef8ba4039fdd4df8335b7c/img_blog_image1_inline_(2).png?width=3360&disable=upscale&auto=webp)\n",
        "\n",
        "Bilde: [Towards Data Science](https://towardsdatascience.com/softmax-activation-function-explained-a7e1bc3ad60)"
      ],
      "metadata": {
        "id": "Wm1gzogOxjdv"
      }
    },
    {
      "cell_type": "code",
      "source": [
        "# Hvordan fungerer softmax?\n",
        "tf.nn.softmax(predictions).numpy()"
      ],
      "metadata": {
        "colab": {
          "base_uri": "https://localhost:8080/"
        },
        "id": "O2gumG93wEn8",
        "outputId": "4d4537ff-fb36-49c7-940e-e38b9f4ef88b"
      },
      "execution_count": null,
      "outputs": [
        {
          "output_type": "execute_result",
          "data": {
            "text/plain": [
              "array([[0.12916532, 0.16429873, 0.06319688, 0.13145156, 0.15938544,\n",
              "        0.1108358 , 0.0609662 , 0.03664139, 0.03698602, 0.10707266]],\n",
              "      dtype=float32)"
            ]
          },
          "metadata": {},
          "execution_count": 64
        }
      ]
    },
    {
      "cell_type": "markdown",
      "source": [
        "Merk: Det er mulig å skrive \"tf.nn.softmax\"-funksjonen direkte i aktiveringsfunksjonen for det siste laget i nettverket (altså inn i 'model'). Selv om dette kan gjøre modellen enda mer direkte for hva den gjør, anbefales ikke denne tilnærmingen da det er umulig å gi en nøyaktig og numerisk stabil beregning av loss (tapet) for alle modeller når man bruker en softmax-aktiveringsfunksjon."
      ],
      "metadata": {
        "id": "QvN21MoGyoq4"
      }
    },
    {
      "cell_type": "code",
      "source": [
        "# Tapsfunksjon - kommer an på problemstillingen. Binær/multi-klasse klassifikasjon eller regresjon?\n",
        "loss_fn = tf.keras.losses.SparseCategoricalCrossentropy(from_logits=True)"
      ],
      "metadata": {
        "id": "a0mLZVA8wGNg"
      },
      "execution_count": null,
      "outputs": []
    },
    {
      "cell_type": "markdown",
      "source": [
        "Loss-funksjonen tar en vektor med de sanne verdiene og en vektor med logits, og returnerer et skalar loss for hvert eksempel. Dette loss'et er lik den negative log-sannsynligheten for den riktige klassen: Loss'et er null hvis modellen er sikker på den korrekte klassen. Dette er selve kjernen i maskinlæring, vi ønsker å **minimere enn loss-funksjon!** (ofte brukes *kost-funksjon* også)\n",
        "\n",
        "Denne utrente modellen gir sannsynligheter nærmest tilfeldig (1/10 for hver klasse)."
      ],
      "metadata": {
        "id": "SL3hwS0GzBv8"
      }
    },
    {
      "cell_type": "code",
      "source": [
        "loss_fn(y_train[:1], predictions).numpy()"
      ],
      "metadata": {
        "colab": {
          "base_uri": "https://localhost:8080/"
        },
        "id": "Ow5VNNGMwHF2",
        "outputId": "25f61e4d-377d-4896-b7ea-3e186f571419"
      },
      "execution_count": null,
      "outputs": [
        {
          "output_type": "execute_result",
          "data": {
            "text/plain": [
              "2.1997056"
            ]
          },
          "metadata": {},
          "execution_count": 66
        }
      ]
    },
    {
      "cell_type": "code",
      "source": [
        "'''\n",
        "# Koden under gjør:\n",
        "    - Kompilerer modellen med spesifiserte innstillinger\n",
        "    - Velger Adam som optimaliseringsalgoritme. Adam er en populær algoritme for å oppdatere modellens vekter under trening.\n",
        "    - Definerer tap-funksjonen som skal brukes til å evaluere modellen. `loss_fn` representerer den spesifikke tap-funksjonen som er\n",
        "      definert tidligere i koden (f.eks. 'categorical_crossentropy' eller 'mean_squared_error').\n",
        "    - Definerer hvilke metrikker som skal overvåkes under trening og evaluering. Her overvåkes nøyaktighet ('accuracy')\n",
        "      for å gi en indikasjon på hvor godt modellen presterer på klassifikasjonsoppgaver.\n",
        "\n",
        "'''\n",
        "\n",
        "model.compile(optimizer='adam',\n",
        "              loss=loss_fn,\n",
        "              metrics=['accuracy'\n",
        "    ])"
      ],
      "metadata": {
        "id": "jDgYPi7swIo4"
      },
      "execution_count": null,
      "outputs": []
    },
    {
      "cell_type": "markdown",
      "source": [
        "## Nå har vi satt opp alt - la oss trene!\n",
        "\n",
        "Vi bruker `model.fit` for å tilpasse parameterene i modellen, og minimisere loss'et. Det gjøres på følgende vis:"
      ],
      "metadata": {
        "id": "wMgUiAhJzz5k"
      }
    },
    {
      "cell_type": "code",
      "source": [
        "model.fit(x_train, y_train, epochs=10)"
      ],
      "metadata": {
        "colab": {
          "base_uri": "https://localhost:8080/"
        },
        "id": "cItN1A6BwKMn",
        "outputId": "59ed54e8-958f-4200-f401-d4da25cb0dd6"
      },
      "execution_count": null,
      "outputs": [
        {
          "output_type": "stream",
          "name": "stdout",
          "text": [
            "Epoch 1/10\n",
            "\u001b[1m1875/1875\u001b[0m \u001b[32m━━━━━━━━━━━━━━━━━━━━\u001b[0m\u001b[37m\u001b[0m \u001b[1m5s\u001b[0m 2ms/step - accuracy: 0.5785 - loss: 1.6089\n",
            "Epoch 2/10\n",
            "\u001b[1m1875/1875\u001b[0m \u001b[32m━━━━━━━━━━━━━━━━━━━━\u001b[0m\u001b[37m\u001b[0m \u001b[1m3s\u001b[0m 1ms/step - accuracy: 0.8964 - loss: 0.4608\n",
            "Epoch 3/10\n",
            "\u001b[1m1875/1875\u001b[0m \u001b[32m━━━━━━━━━━━━━━━━━━━━\u001b[0m\u001b[37m\u001b[0m \u001b[1m5s\u001b[0m 1ms/step - accuracy: 0.9176 - loss: 0.3108\n",
            "Epoch 4/10\n",
            "\u001b[1m1875/1875\u001b[0m \u001b[32m━━━━━━━━━━━━━━━━━━━━\u001b[0m\u001b[37m\u001b[0m \u001b[1m5s\u001b[0m 1ms/step - accuracy: 0.9288 - loss: 0.2576\n",
            "Epoch 5/10\n",
            "\u001b[1m1875/1875\u001b[0m \u001b[32m━━━━━━━━━━━━━━━━━━━━\u001b[0m\u001b[37m\u001b[0m \u001b[1m3s\u001b[0m 1ms/step - accuracy: 0.9362 - loss: 0.2287\n",
            "Epoch 6/10\n",
            "\u001b[1m1875/1875\u001b[0m \u001b[32m━━━━━━━━━━━━━━━━━━━━\u001b[0m\u001b[37m\u001b[0m \u001b[1m5s\u001b[0m 1ms/step - accuracy: 0.9408 - loss: 0.2088\n",
            "Epoch 7/10\n",
            "\u001b[1m1875/1875\u001b[0m \u001b[32m━━━━━━━━━━━━━━━━━━━━\u001b[0m\u001b[37m\u001b[0m \u001b[1m4s\u001b[0m 2ms/step - accuracy: 0.9445 - loss: 0.1969\n",
            "Epoch 8/10\n",
            "\u001b[1m1875/1875\u001b[0m \u001b[32m━━━━━━━━━━━━━━━━━━━━\u001b[0m\u001b[37m\u001b[0m \u001b[1m4s\u001b[0m 1ms/step - accuracy: 0.9468 - loss: 0.1859\n",
            "Epoch 9/10\n",
            "\u001b[1m1875/1875\u001b[0m \u001b[32m━━━━━━━━━━━━━━━━━━━━\u001b[0m\u001b[37m\u001b[0m \u001b[1m3s\u001b[0m 1ms/step - accuracy: 0.9489 - loss: 0.1775\n",
            "Epoch 10/10\n",
            "\u001b[1m1875/1875\u001b[0m \u001b[32m━━━━━━━━━━━━━━━━━━━━\u001b[0m\u001b[37m\u001b[0m \u001b[1m3s\u001b[0m 1ms/step - accuracy: 0.9510 - loss: 0.1713\n"
          ]
        },
        {
          "output_type": "execute_result",
          "data": {
            "text/plain": [
              "<keras.src.callbacks.history.History at 0x7870d41b6110>"
            ]
          },
          "metadata": {},
          "execution_count": 70
        }
      ]
    },
    {
      "cell_type": "markdown",
      "source": [
        "### **Men hva er epochs???**\n",
        "Definisjon: En *epoch* er en full gjennomgang av hele treningsdatasettet en gang. Under en epoch blir alle treningsdata brukt til å beregne tapet (loss) og oppdatere modellens vekter (weights)."
      ],
      "metadata": {
        "id": "a9XPUEVK0CJn"
      }
    },
    {
      "cell_type": "code",
      "source": [
        "# model.evaluate gir oss informasjon fra Tensorflow Keras.\n",
        "# verbose = 0: ingen utskrift\n",
        "# verbose = 1: viser fremdrift av evaluering for hver batch (epoch).\n",
        "# verbose = 2: viser sammendrag til slutt.\n",
        "model.evaluate(x_test,  y_test, verbose=2)"
      ],
      "metadata": {
        "colab": {
          "base_uri": "https://localhost:8080/"
        },
        "id": "FQpeAAo90byM",
        "outputId": "c81f8a46-9998-4879-de5d-0dc72b0dde28"
      },
      "execution_count": null,
      "outputs": [
        {
          "output_type": "stream",
          "name": "stdout",
          "text": [
            "313/313 - 0s - 1ms/step - accuracy: 0.9473 - loss: 0.1787\n"
          ]
        },
        {
          "output_type": "execute_result",
          "data": {
            "text/plain": [
              "[0.17874695360660553, 0.9473000168800354]"
            ]
          },
          "metadata": {},
          "execution_count": 46
        }
      ]
    },
    {
      "cell_type": "markdown",
      "source": [
        "### Hva har vi gjennomgått?\n",
        "* Addisjon og ulike multiplikasjonsvarianter av ulike tensorer.\n",
        "* Diskutert nevrale nettverk, og dens struktur og komponenter (akt.funk., loss-funk., tensorflow,...).\n",
        "* Gjennomgått et eksempel av nevralt nettverk.\n",
        "\n",
        "### Tips\n",
        "Sjekk ut denne lenken til [3Blue1Brown](https://www.3blue1brown.com/topics/neural-networks)!"
      ],
      "metadata": {
        "id": "IovCqi8F0bfh"
      }
    },
    {
      "cell_type": "markdown",
      "source": [
        "### **Neste gang**\n",
        "I neste forelesning vil vi med å gå enda litt dypere rundt diskusjonen av nevrale nettverk. Vi kommer til å diskutere:\n",
        "* Optimaliseringsalgoritmer - hva gjør ADAM/SDG?\n",
        "* Regularisering (hvordan vi kan *straffe* loss-funksjonen for å forindre overfitting, f.eks. gjennom *dropout rates*).\n",
        "* Tuning av hyperparametere (hvordan velger vi learning rate, batch size, antall lag og nevroner,  osv.)\n",
        "* Effekten av pre-prosessering og valg av relevante features."
      ],
      "metadata": {
        "id": "Ky3wkiWyOaEq"
      }
    },
    {
      "cell_type": "markdown",
      "source": [
        "# Oppgaver\n",
        "Det er mye stoff vi har gått igjennom til nå, og noe av det viktigste vil være å ha en forståelse av hva det er vi gjør her.\n",
        "\n",
        "Gå igjennom koden, og særlig se over hvordan `model` er lagt opp ved hjelp av det sekvensielle API'et til Keras.\n",
        "\n",
        "## Andre tips\n",
        "Jeg anbefaler på det varmeste å se YouTube serien til 3Blue1Brown om dette tema. Link til den er [her](https://www.youtube.com/watch?v=aircAruvnKk&list=PLZHQObOWTQDNU6R1_67000Dx_ZCJB-3pi).\n",
        "\n",
        "Kompendiet forklarer flere av konseptene i dybden, og er nyttig støtte-litteratur til disse forelesningene."
      ],
      "metadata": {
        "id": "w9uTD3XU_lEK"
      }
    }
  ]
}